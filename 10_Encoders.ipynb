{
 "cells": [
  {
   "cell_type": "markdown",
   "metadata": {},
   "source": [
    "# Various Encoders"
   ]
  },
  {
   "cell_type": "code",
   "execution_count": 42,
   "metadata": {},
   "outputs": [],
   "source": [
    "import pandas as pd\n",
    "import numpy as np\n",
    "import pickle\n",
    "import time\n",
    "\n",
    "from sklearn.model_selection import cross_val_score, GridSearchCV, train_test_split\n",
    "from sklearn.preprocessing import StandardScaler, OneHotEncoder, FunctionTransformer\n",
    "from sklearn.compose import ColumnTransformer\n",
    "from sklearn.metrics import f1_score, plot_confusion_matrix, confusion_matrix\n",
    "\n",
    "from lightgbm import LGBMClassifier\n",
    "\n",
    "from imblearn.pipeline import Pipeline as imbPipeline\n",
    "\n",
    "from category_encoders import TargetEncoder, LeaveOneOutEncoder, HashingEncoder, JamesSteinEncoder\n",
    "\n",
    "import warnings\n",
    "warnings.filterwarnings('ignore')"
   ]
  },
  {
   "cell_type": "code",
   "execution_count": 2,
   "metadata": {},
   "outputs": [],
   "source": [
    "X_train = pd.read_csv('Data/X_train.csv', index_col='building_id')\n",
    "X_test = pd.read_csv('Data/X_test.csv', index_col='building_id')\n",
    "y_train = pd.read_csv('Data/y_train.csv', index_col='building_id')\n",
    "y_test = pd.read_csv('Data/y_test.csv', index_col='building_id')"
   ]
  },
  {
   "cell_type": "code",
   "execution_count": 3,
   "metadata": {},
   "outputs": [],
   "source": [
    "y_train = y_train.values.ravel()\n",
    "y_test = y_test.values.ravel()"
   ]
  },
  {
   "cell_type": "code",
   "execution_count": 4,
   "metadata": {},
   "outputs": [],
   "source": [
    "#Create a dictionary and helper function to track model scores.\n",
    "score_dict = {}\n",
    "def print_scores():\n",
    "    for key in score_dict.keys():\n",
    "        print(f'{key},\\t f1_micro_score: {round(score_dict[key][0],4)},\\t Run time: {round(score_dict[key][1],0)}')"
   ]
  },
  {
   "cell_type": "markdown",
   "metadata": {},
   "source": [
    "### Divide Columns and drop unimportant features"
   ]
  },
  {
   "cell_type": "code",
   "execution_count": 5,
   "metadata": {},
   "outputs": [],
   "source": [
    "binary_cols = []\n",
    "for col in X_train.columns:\n",
    "    if col.startswith('has'):\n",
    "        binary_cols.append(col)\n",
    "\n",
    "cat_cols = list(X_train.select_dtypes(include='object').columns)\n",
    "\n",
    "integer_cols = ['count_floors_pre_eq', 'age', 'area_percentage', 'height_percentage', 'count_families']\n",
    "\n",
    "geo_cols = ['geo_level_1_id', 'geo_level_2_id', 'geo_level_3_id']\n",
    "\n",
    "all_cols = geo_cols + cat_cols + integer_cols + binary_cols"
   ]
  },
  {
   "cell_type": "code",
   "execution_count": 6,
   "metadata": {},
   "outputs": [],
   "source": [
    "binary_cols_dropped = binary_cols.copy()\n",
    "for col in binary_cols_dropped:\n",
    "    if col.startswith('has_secondary'):\n",
    "        binary_cols_dropped.remove(col)\n",
    "binary_cols_dropped.append('has_secondary_use')\n",
    "\n",
    "cat_cols_dropped = cat_cols.copy()\n",
    "cat_cols_dropped.remove('legal_ownership_status')\n",
    "cat_cols_dropped.remove('plan_configuration')"
   ]
  },
  {
   "cell_type": "markdown",
   "metadata": {},
   "source": [
    "### target_encoded:  Re-create the best LightGBM model (using Target Encoding on Geo columns)\n",
    "\n",
    "From the scikit-learn website, target econding means that \"features are replaced with a blend of posterior probability of the target given particular categorical value and the prior probability of the target over all the training data.\""
   ]
  },
  {
   "cell_type": "code",
   "execution_count": 8,
   "metadata": {},
   "outputs": [],
   "source": [
    "ohe_pipe = imbPipeline([('ohe', OneHotEncoder(sparse=False, handle_unknown='ignore'))])\n",
    "target_pipe = imbPipeline([('target', TargetEncoder(cols=geo_cols))])\n",
    "\n",
    "transformer = ColumnTransformer([\n",
    "    ('binary', 'passthrough', binary_cols_dropped),\n",
    "    ('categorical', ohe_pipe, cat_cols_dropped),\n",
    "    ('integer', 'passthrough', integer_cols),\n",
    "    ('geo', target_pipe, geo_cols)\n",
    "])"
   ]
  },
  {
   "cell_type": "code",
   "execution_count": 9,
   "metadata": {},
   "outputs": [],
   "source": [
    "target_encoded = imbPipeline([\n",
    "    ('transformer', transformer),\n",
    "    ('lightgbm', LGBMClassifier(objective='multiclass',\n",
    "                                learning_rate=.1,\n",
    "                                min_data_in_leaf=100,\n",
    "                                num_iterations=200,\n",
    "                                num_leaves=200,\n",
    "                                n_jobs=-1, \n",
    "                                random_state=42))\n",
    "])"
   ]
  },
  {
   "cell_type": "code",
   "execution_count": 10,
   "metadata": {},
   "outputs": [
    {
     "name": "stdout",
     "output_type": "stream",
     "text": [
      "[LightGBM] [Warning] min_data_in_leaf is set=100, min_child_samples=20 will be ignored. Current value: min_data_in_leaf=100\n",
      "[LightGBM] [Warning] min_data_in_leaf is set=100, min_child_samples=20 will be ignored. Current value: min_data_in_leaf=100\n",
      "[LightGBM] [Warning] min_data_in_leaf is set=100, min_child_samples=20 will be ignored. Current value: min_data_in_leaf=100\n",
      "[LightGBM] [Warning] min_data_in_leaf is set=100, min_child_samples=20 will be ignored. Current value: min_data_in_leaf=100\n",
      "[LightGBM] [Warning] min_data_in_leaf is set=100, min_child_samples=20 will be ignored. Current value: min_data_in_leaf=100\n",
      "Run time: 49.76285099983215\n"
     ]
    }
   ],
   "source": [
    "start = time.time()\n",
    "f1_micro_target_encoded = cross_val_score(target_encoded, X_train, y_train, scoring='f1_micro')\n",
    "end = time.time()\n",
    "print(f'Run time: {end-start}')\n",
    "run_time_target_encoded = end-start"
   ]
  },
  {
   "cell_type": "code",
   "execution_count": 11,
   "metadata": {},
   "outputs": [
    {
     "data": {
      "text/plain": [
       "0.7399232540291635"
      ]
     },
     "execution_count": 11,
     "metadata": {},
     "output_type": "execute_result"
    }
   ],
   "source": [
    "f1_micro_target_encoded = f1_micro_target_encoded.mean()\n",
    "f1_micro_target_encoded"
   ]
  },
  {
   "cell_type": "code",
   "execution_count": 12,
   "metadata": {},
   "outputs": [
    {
     "name": "stdout",
     "output_type": "stream",
     "text": [
      "target_encoded,\t f1_micro_score: 0.7399,\t Run time: 50.0\n"
     ]
    }
   ],
   "source": [
    "score_dict['target_encoded'] = [f1_micro_target_encoded, run_time_target_encoded]\n",
    "print_scores()"
   ]
  },
  {
   "cell_type": "markdown",
   "metadata": {},
   "source": [
    "### leaveoneout_ecoded:  Use Leave One Out Encoding on the Geo Columns\n",
    "\n",
    "This is very similar to target encoding but excludes the current row’s target when calculating the mean target for a level to reduce the effect of outliers."
   ]
  },
  {
   "cell_type": "code",
   "execution_count": 14,
   "metadata": {},
   "outputs": [],
   "source": [
    "ohe_pipe = imbPipeline([('ohe', OneHotEncoder(sparse=False, handle_unknown='ignore'))])\n",
    "leaveoneout_pipe = imbPipeline([('loo', LeaveOneOutEncoder(cols=geo_cols))])\n",
    "\n",
    "transformer = ColumnTransformer([\n",
    "    ('binary', 'passthrough', binary_cols_dropped),\n",
    "    ('categorical', ohe_pipe, cat_cols_dropped),\n",
    "    ('integer', 'passthrough', integer_cols),\n",
    "    ('geo', leaveoneout_pipe, geo_cols)\n",
    "])"
   ]
  },
  {
   "cell_type": "code",
   "execution_count": 15,
   "metadata": {},
   "outputs": [],
   "source": [
    "leaveoneout_encoded = imbPipeline([\n",
    "    ('transformer', transformer),\n",
    "    ('lightgbm', LGBMClassifier(objective='multiclass',\n",
    "                                learning_rate=.1,\n",
    "                                min_data_in_leaf=100,\n",
    "                                num_iterations=200,\n",
    "                                num_leaves=200,\n",
    "                                n_jobs=-1, \n",
    "                                random_state=42))\n",
    "])"
   ]
  },
  {
   "cell_type": "code",
   "execution_count": 16,
   "metadata": {},
   "outputs": [
    {
     "name": "stdout",
     "output_type": "stream",
     "text": [
      "[LightGBM] [Warning] min_data_in_leaf is set=100, min_child_samples=20 will be ignored. Current value: min_data_in_leaf=100\n",
      "[LightGBM] [Warning] min_data_in_leaf is set=100, min_child_samples=20 will be ignored. Current value: min_data_in_leaf=100\n",
      "[LightGBM] [Warning] min_data_in_leaf is set=100, min_child_samples=20 will be ignored. Current value: min_data_in_leaf=100\n",
      "[LightGBM] [Warning] min_data_in_leaf is set=100, min_child_samples=20 will be ignored. Current value: min_data_in_leaf=100\n",
      "[LightGBM] [Warning] min_data_in_leaf is set=100, min_child_samples=20 will be ignored. Current value: min_data_in_leaf=100\n",
      "Run time: 52.92627310752869\n"
     ]
    }
   ],
   "source": [
    "start = time.time()\n",
    "f1_micro_leaveoneout_encoded = cross_val_score(leaveoneout_encoded, X_train, y_train, scoring='f1_micro')\n",
    "end = time.time()\n",
    "print(f'Run time: {end-start}')\n",
    "run_time_leaveoneout_encoded = end-start"
   ]
  },
  {
   "cell_type": "code",
   "execution_count": 17,
   "metadata": {},
   "outputs": [
    {
     "data": {
      "text/plain": [
       "0.6375543617293425"
      ]
     },
     "execution_count": 17,
     "metadata": {},
     "output_type": "execute_result"
    }
   ],
   "source": [
    "f1_micro_leaveoneout_encoded = f1_micro_leaveoneout_encoded.mean()\n",
    "f1_micro_leaveoneout_encoded"
   ]
  },
  {
   "cell_type": "code",
   "execution_count": 19,
   "metadata": {},
   "outputs": [
    {
     "name": "stdout",
     "output_type": "stream",
     "text": [
      "target_encoded,\t f1_micro_score: 0.7399,\t Run time: 50.0\n",
      "leaveoneout_encoded,\t f1_micro_score: 0.6376,\t Run time: 53.0\n"
     ]
    }
   ],
   "source": [
    "score_dict['leaveoneout_encoded'] = [f1_micro_leaveoneout_encoded, run_time_leaveoneout_encoded]\n",
    "print_scores()"
   ]
  },
  {
   "cell_type": "markdown",
   "metadata": {},
   "source": [
    "### hashing_encoder:  Use Hashing to encode the geo columns"
   ]
  },
  {
   "cell_type": "code",
   "execution_count": 21,
   "metadata": {},
   "outputs": [],
   "source": [
    "ohe_pipe = imbPipeline([('ohe', OneHotEncoder(sparse=False, handle_unknown='ignore'))])\n",
    "hashing_pipe = imbPipeline([('hashing', HashingEncoder(cols=geo_cols))])\n",
    "\n",
    "transformer = ColumnTransformer([\n",
    "    ('binary', 'passthrough', binary_cols_dropped),\n",
    "    ('categorical', ohe_pipe, cat_cols_dropped),\n",
    "    ('integer', 'passthrough', integer_cols),\n",
    "    ('geo', hashing_pipe, geo_cols)\n",
    "])"
   ]
  },
  {
   "cell_type": "code",
   "execution_count": 22,
   "metadata": {},
   "outputs": [],
   "source": [
    "hashing_encoded = imbPipeline([\n",
    "    ('transformer', transformer),\n",
    "    ('lightgbm', LGBMClassifier(objective='multiclass',\n",
    "                                learning_rate=.1,\n",
    "                                min_data_in_leaf=100,\n",
    "                                num_iterations=200,\n",
    "                                num_leaves=200,\n",
    "                                n_jobs=-1, \n",
    "                                random_state=42))\n",
    "])"
   ]
  },
  {
   "cell_type": "code",
   "execution_count": 24,
   "metadata": {},
   "outputs": [
    {
     "name": "stdout",
     "output_type": "stream",
     "text": [
      "[LightGBM] [Warning] min_data_in_leaf is set=100, min_child_samples=20 will be ignored. Current value: min_data_in_leaf=100\n",
      "[LightGBM] [Warning] min_data_in_leaf is set=100, min_child_samples=20 will be ignored. Current value: min_data_in_leaf=100\n",
      "[LightGBM] [Warning] min_data_in_leaf is set=100, min_child_samples=20 will be ignored. Current value: min_data_in_leaf=100\n",
      "[LightGBM] [Warning] min_data_in_leaf is set=100, min_child_samples=20 will be ignored. Current value: min_data_in_leaf=100\n",
      "Run time: 390.5177059173584\n"
     ]
    }
   ],
   "source": [
    "start = time.time()\n",
    "f1_micro_hashing_encoded = cross_val_score(hashing_encoded, X_train, y_train, scoring='f1_micro')\n",
    "end = time.time()\n",
    "print(f'Run time: {end-start}')\n",
    "run_time_hashing_encoded = end-start"
   ]
  },
  {
   "cell_type": "code",
   "execution_count": 25,
   "metadata": {},
   "outputs": [
    {
     "data": {
      "text/plain": [
       "0.6662522384241494"
      ]
     },
     "execution_count": 25,
     "metadata": {},
     "output_type": "execute_result"
    }
   ],
   "source": [
    "f1_micro_hashing_encoded = f1_micro_hashing_encoded.mean()\n",
    "f1_micro_hashing_encoded"
   ]
  },
  {
   "cell_type": "code",
   "execution_count": 26,
   "metadata": {},
   "outputs": [
    {
     "name": "stdout",
     "output_type": "stream",
     "text": [
      "target_encoded,\t f1_micro_score: 0.7399,\t Run time: 50.0\n",
      "leaveoneout_encoded,\t f1_micro_score: 0.6376,\t Run time: 53.0\n",
      "hashing_encoded,\t f1_micro_score: 0.6663,\t Run time: 391.0\n"
     ]
    }
   ],
   "source": [
    "score_dict['hashing_encoded'] = [f1_micro_hashing_encoded, run_time_hashing_encoded]\n",
    "print_scores()"
   ]
  },
  {
   "cell_type": "markdown",
   "metadata": {},
   "source": [
    "### js_encoded:  Use James Stein Encoder to encode geo cols\n",
    "\n",
    "\"For feature value i, James-Stein estimator returns a weighted average of:  1)the mean target value for the observed feature value i and 2)the mean target value (regardless of the feature value).\""
   ]
  },
  {
   "cell_type": "code",
   "execution_count": 28,
   "metadata": {},
   "outputs": [],
   "source": [
    "ohe_pipe = imbPipeline([('ohe', OneHotEncoder(sparse=False, handle_unknown='ignore'))])\n",
    "js_pipe = imbPipeline([('js', JamesSteinEncoder(cols=geo_cols))])\n",
    "\n",
    "transformer = ColumnTransformer([\n",
    "    ('binary', 'passthrough', binary_cols_dropped),\n",
    "    ('categorical', ohe_pipe, cat_cols_dropped),\n",
    "    ('integer', 'passthrough', integer_cols),\n",
    "    ('geo', js_pipe, geo_cols)\n",
    "])"
   ]
  },
  {
   "cell_type": "code",
   "execution_count": 29,
   "metadata": {},
   "outputs": [],
   "source": [
    "js_encoded = imbPipeline([\n",
    "    ('transformer', transformer),\n",
    "    ('lightgbm', LGBMClassifier(objective='multiclass',\n",
    "                                learning_rate=.1,\n",
    "                                min_data_in_leaf=100,\n",
    "                                num_iterations=200,\n",
    "                                num_leaves=200,\n",
    "                                n_jobs=-1, \n",
    "                                random_state=42))\n",
    "])"
   ]
  },
  {
   "cell_type": "code",
   "execution_count": 30,
   "metadata": {},
   "outputs": [
    {
     "name": "stdout",
     "output_type": "stream",
     "text": [
      "[LightGBM] [Warning] min_data_in_leaf is set=100, min_child_samples=20 will be ignored. Current value: min_data_in_leaf=100\n",
      "[LightGBM] [Warning] min_data_in_leaf is set=100, min_child_samples=20 will be ignored. Current value: min_data_in_leaf=100\n",
      "[LightGBM] [Warning] min_data_in_leaf is set=100, min_child_samples=20 will be ignored. Current value: min_data_in_leaf=100\n",
      "[LightGBM] [Warning] min_data_in_leaf is set=100, min_child_samples=20 will be ignored. Current value: min_data_in_leaf=100\n",
      "[LightGBM] [Warning] min_data_in_leaf is set=100, min_child_samples=20 will be ignored. Current value: min_data_in_leaf=100\n",
      "Run time: 59.514025926589966\n"
     ]
    }
   ],
   "source": [
    "start = time.time()\n",
    "f1_micro_js_encoded = cross_val_score(js_encoded, X_train, y_train, scoring='f1_micro')\n",
    "end = time.time()\n",
    "print(f'Run time: {end-start}')\n",
    "run_time_js_encoded = end-start"
   ]
  },
  {
   "cell_type": "code",
   "execution_count": 31,
   "metadata": {},
   "outputs": [
    {
     "data": {
      "text/plain": [
       "0.7387464824763368"
      ]
     },
     "execution_count": 31,
     "metadata": {},
     "output_type": "execute_result"
    }
   ],
   "source": [
    "f1_micro_js_encoded = f1_micro_js_encoded.mean()\n",
    "f1_micro_js_encoded"
   ]
  },
  {
   "cell_type": "code",
   "execution_count": 32,
   "metadata": {
    "scrolled": true
   },
   "outputs": [
    {
     "name": "stdout",
     "output_type": "stream",
     "text": [
      "target_encoded,\t f1_micro_score: 0.7399,\t Run time: 50.0\n",
      "leaveoneout_encoded,\t f1_micro_score: 0.6376,\t Run time: 53.0\n",
      "hashing_encoded,\t f1_micro_score: 0.6663,\t Run time: 391.0\n",
      "js_encoded,\t f1_micro_score: 0.7387,\t Run time: 60.0\n"
     ]
    }
   ],
   "source": [
    "score_dict['js_encoded'] = [f1_micro_js_encoded, run_time_js_encoded]\n",
    "print_scores()"
   ]
  },
  {
   "cell_type": "markdown",
   "metadata": {},
   "source": [
    "### target_tuned0:  Return to target encoding and try tuning the encoder\n",
    "There are a few tuning parameters available in the TargetEncoder, most notably 'smoothing' and 'min_samples_leaf'. Given the quick runtime of the LightGBM model, I'll be able to experiment with many iterations."
   ]
  },
  {
   "cell_type": "code",
   "execution_count": 95,
   "metadata": {},
   "outputs": [],
   "source": [
    "ohe_pipe = imbPipeline([('ohe', OneHotEncoder(sparse=False, handle_unknown='ignore'))])\n",
    "target_tuned0_pipe = imbPipeline([('target_tuned', TargetEncoder(smoothing=5, min_samples_leaf=10, cols=geo_cols))])\n",
    "\n",
    "transformer = ColumnTransformer([\n",
    "    ('binary', 'passthrough', binary_cols_dropped),\n",
    "    ('categorical', ohe_pipe, cat_cols_dropped),\n",
    "    ('integer', 'passthrough', integer_cols),\n",
    "    ('geo', target_tuned0_pipe, geo_cols)\n",
    "])"
   ]
  },
  {
   "cell_type": "code",
   "execution_count": 96,
   "metadata": {},
   "outputs": [],
   "source": [
    "target_tuned0 = imbPipeline([\n",
    "    ('transformer', transformer),\n",
    "    ('lightgbm', LGBMClassifier(objective='multiclass',\n",
    "                                learning_rate=.1,\n",
    "                                min_data_in_leaf=100,\n",
    "                                num_iterations=200,\n",
    "                                num_leaves=200,\n",
    "                                n_jobs=-1, \n",
    "                                random_state=42))\n",
    "])"
   ]
  },
  {
   "cell_type": "code",
   "execution_count": 97,
   "metadata": {},
   "outputs": [
    {
     "name": "stdout",
     "output_type": "stream",
     "text": [
      "[LightGBM] [Warning] min_data_in_leaf is set=100, min_child_samples=20 will be ignored. Current value: min_data_in_leaf=100\n",
      "[LightGBM] [Warning] min_data_in_leaf is set=100, min_child_samples=20 will be ignored. Current value: min_data_in_leaf=100\n",
      "[LightGBM] [Warning] min_data_in_leaf is set=100, min_child_samples=20 will be ignored. Current value: min_data_in_leaf=100\n",
      "[LightGBM] [Warning] min_data_in_leaf is set=100, min_child_samples=20 will be ignored. Current value: min_data_in_leaf=100\n",
      "[LightGBM] [Warning] min_data_in_leaf is set=100, min_child_samples=20 will be ignored. Current value: min_data_in_leaf=100\n",
      "Run time: 51.7290198802948\n"
     ]
    }
   ],
   "source": [
    "start = time.time()\n",
    "f1_micro_target_tuned0 = cross_val_score(target_tuned0, X_train, y_train, scoring='f1_micro')\n",
    "end = time.time()\n",
    "print(f'Run time: {end-start}')\n",
    "run_time_target_tuned0 = end-start"
   ]
  },
  {
   "cell_type": "code",
   "execution_count": 98,
   "metadata": {},
   "outputs": [
    {
     "data": {
      "text/plain": [
       "0.7406753645433615"
      ]
     },
     "execution_count": 98,
     "metadata": {},
     "output_type": "execute_result"
    }
   ],
   "source": [
    "f1_micro_target_tuned0 = f1_micro_target_tuned0.mean()\n",
    "f1_micro_target_tuned0"
   ]
  },
  {
   "cell_type": "code",
   "execution_count": 99,
   "metadata": {
    "scrolled": true
   },
   "outputs": [
    {
     "name": "stdout",
     "output_type": "stream",
     "text": [
      "target_encoded,\t f1_micro_score: 0.7399,\t Run time: 50.0\n",
      "leaveoneout_encoded,\t f1_micro_score: 0.6376,\t Run time: 53.0\n",
      "hashing_encoded,\t f1_micro_score: 0.6663,\t Run time: 391.0\n",
      "js_encoded,\t f1_micro_score: 0.7387,\t Run time: 60.0\n",
      "target_tuned0,\t f1_micro_score: 0.7407,\t Run time: 52.0\n"
     ]
    }
   ],
   "source": [
    "score_dict['target_tuned0'] = [f1_micro_target_tuned0, run_time_target_tuned0]\n",
    "print_scores()"
   ]
  },
  {
   "cell_type": "markdown",
   "metadata": {},
   "source": [
    "After several iterations, I discoverd that changing the smoothing parameter from 1 to 5 and increasing the min_samples_leaf from 1 to 10, increases the validation score slightly.  Let's now run this model on the test set."
   ]
  },
  {
   "cell_type": "markdown",
   "metadata": {},
   "source": [
    "### Run the new model on test set, get the f1-micro score"
   ]
  },
  {
   "cell_type": "code",
   "execution_count": 100,
   "metadata": {},
   "outputs": [
    {
     "name": "stdout",
     "output_type": "stream",
     "text": [
      "[LightGBM] [Warning] min_data_in_leaf is set=100, min_child_samples=20 will be ignored. Current value: min_data_in_leaf=100\n"
     ]
    },
    {
     "data": {
      "text/plain": [
       "Pipeline(steps=[('transformer',\n",
       "                 ColumnTransformer(transformers=[('binary', 'passthrough',\n",
       "                                                  ['has_superstructure_adobe_mud',\n",
       "                                                   'has_superstructure_mud_mortar_stone',\n",
       "                                                   'has_superstructure_stone_flag',\n",
       "                                                   'has_superstructure_cement_mortar_stone',\n",
       "                                                   'has_superstructure_mud_mortar_brick',\n",
       "                                                   'has_superstructure_cement_mortar_brick',\n",
       "                                                   'has_superstructure_timber',\n",
       "                                                   'has_superstr...\n",
       "                                                   'height_percentage',\n",
       "                                                   'count_families']),\n",
       "                                                 ('geo',\n",
       "                                                  Pipeline(steps=[('target_tuned',\n",
       "                                                                   TargetEncoder(cols=['geo_level_1_id',\n",
       "                                                                                       'geo_level_2_id',\n",
       "                                                                                       'geo_level_3_id'],\n",
       "                                                                                 min_samples_leaf=10,\n",
       "                                                                                 smoothing=5.0))]),\n",
       "                                                  ['geo_level_1_id',\n",
       "                                                   'geo_level_2_id',\n",
       "                                                   'geo_level_3_id'])])),\n",
       "                ('lightgbm',\n",
       "                 LGBMClassifier(min_data_in_leaf=100, num_iterations=200,\n",
       "                                num_leaves=200, objective='multiclass',\n",
       "                                random_state=42))])"
      ]
     },
     "execution_count": 100,
     "metadata": {},
     "output_type": "execute_result"
    }
   ],
   "source": [
    "target_tuned0.fit(X_train, y_train)"
   ]
  },
  {
   "cell_type": "code",
   "execution_count": 101,
   "metadata": {},
   "outputs": [
    {
     "data": {
      "text/plain": [
       "0.7467114856257003"
      ]
     },
     "execution_count": 101,
     "metadata": {},
     "output_type": "execute_result"
    }
   ],
   "source": [
    "target_tuned0_preds = target_tuned0.predict(X_test)\n",
    "target_tuned0_test_score = f1_score(y_test, target_tuned0_preds, average='micro')\n",
    "target_tuned0_test_score"
   ]
  },
  {
   "cell_type": "markdown",
   "metadata": {},
   "source": [
    "This is the best test score so far."
   ]
  },
  {
   "cell_type": "markdown",
   "metadata": {},
   "source": [
    "### Plot confusion matrix and check model's target accuracies"
   ]
  },
  {
   "cell_type": "code",
   "execution_count": 102,
   "metadata": {
    "scrolled": true
   },
   "outputs": [
    {
     "data": {
      "image/png": "[encoded data removed]",
      "text/plain": [
       "<Figure size 432x288 with 2 Axes>"
      ]
     },
     "metadata": {
      "needs_background": "light"
     },
     "output_type": "display_data"
    }
   ],
   "source": [
    "plot_confusion_matrix(target_tuned0, X_test, y_test);"
   ]
  },
  {
   "cell_type": "code",
   "execution_count": 103,
   "metadata": {},
   "outputs": [
    {
     "name": "stdout",
     "output_type": "stream",
     "text": [
      "The model correctly predicts 54.72% of low damage.\n",
      "The model correctly predicts 83.66% of medium damage.\n",
      "The model correctly predicts 65.14% of complete destruction.\n"
     ]
    }
   ],
   "source": [
    "cm = confusion_matrix(y_test, target_tuned0_preds)\n",
    "low_damage = cm[0][0] / (cm[0][0] + cm[0][1] + cm[0][2])\n",
    "medium_damage = cm[1][1] / (cm[1][0] + cm[1][1] + cm[1][2])\n",
    "complete_destruction = cm[2][2] / (cm[2][0] + cm[2][1] + cm[2][2])\n",
    "print(f'The model correctly predicts {round(low_damage*100, 2)}% of low damage.')\n",
    "print(f'The model correctly predicts {round(medium_damage*100, 2)}% of medium damage.')\n",
    "print(f'The model correctly predicts {round(complete_destruction*100, 2)}% of complete destruction.')"
   ]
  },
  {
   "cell_type": "markdown",
   "metadata": {},
   "source": [
    "### Export the model"
   ]
  },
  {
   "cell_type": "code",
   "execution_count": 104,
   "metadata": {},
   "outputs": [],
   "source": [
    "#with open ('../Models/target_tuned0.pickle', 'wb') as f:\n",
    "#    pickle.dump(target_tuned0, f, pickle.HIGHEST_PROTOCOL)"
   ]
  }
 ],
 "metadata": {
  "kernelspec": {
   "display_name": "Python (learn-env)",
   "language": "python",
   "name": "learn-env"
  },
  "language_info": {
   "codemirror_mode": {
    "name": "ipython",
    "version": 3
   },
   "file_extension": ".py",
   "mimetype": "text/x-python",
   "name": "python",
   "nbconvert_exporter": "python",
   "pygments_lexer": "ipython3",
   "version": "3.8.5"
  }
 },
 "nbformat": 4,
 "nbformat_minor": 4
}
