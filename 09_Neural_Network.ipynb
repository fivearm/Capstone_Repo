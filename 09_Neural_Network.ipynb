{
 "cells": [
  {
   "cell_type": "markdown",
   "metadata": {},
   "source": [
    "# Neural Networks"
   ]
  },
  {
   "cell_type": "code",
   "execution_count": 912,
   "metadata": {},
   "outputs": [],
   "source": [
    "import pandas as pd\n",
    "import numpy as np\n",
    "import time\n",
    "import pickle\n",
    "import seaborn as sns\n",
    "import matplotlib.pyplot as plt\n",
    "\n",
    "from keras.models import Sequential\n",
    "from keras.layers import Dense\n",
    "from keras.callbacks import EarlyStopping\n",
    "from tensorflow import keras\n",
    "from tensorflow.keras.regularizers import l2\n",
    "\n",
    "import tensorflow as tf\n",
    "import tensorflow_addons as tfa\n",
    "\n",
    "from sklearn.model_selection import train_test_split\n",
    "from sklearn.preprocessing import StandardScaler, OneHotEncoder, FunctionTransformer\n",
    "from sklearn.metrics import f1_score, plot_confusion_matrix, confusion_matrix\n",
    "from sklearn.compose import ColumnTransformer\n",
    "\n",
    "from imblearn.pipeline import Pipeline as imbPipeline\n",
    "from imblearn.over_sampling import SMOTE\n",
    "\n",
    "from category_encoders import TargetEncoder\n",
    "\n",
    "import warnings\n",
    "warnings.filterwarnings('ignore')"
   ]
  },
  {
   "cell_type": "code",
   "execution_count": 877,
   "metadata": {},
   "outputs": [],
   "source": [
    "X_train = pd.read_csv('Data/X_train.csv', index_col='building_id')\n",
    "X_test = pd.read_csv('Data/X_test.csv', index_col='building_id')\n",
    "y_train = pd.read_csv('Data/y_train.csv', index_col='building_id')\n",
    "y_test = pd.read_csv('Data/y_test.csv', index_col='building_id')"
   ]
  },
  {
   "cell_type": "markdown",
   "metadata": {},
   "source": [
    "### Further split X_train and y_train to create validation sets for the Keras model"
   ]
  },
  {
   "cell_type": "code",
   "execution_count": 878,
   "metadata": {},
   "outputs": [],
   "source": [
    "X_pure_train, X_val, y_pure_train, y_val = train_test_split(X_train, y_train, random_state=42, test_size=.2)"
   ]
  },
  {
   "cell_type": "markdown",
   "metadata": {},
   "source": [
    "### Divide the columns and define columns to drop"
   ]
  },
  {
   "cell_type": "markdown",
   "metadata": {},
   "source": [
    "As before, we will drop unimportant columns. "
   ]
  },
  {
   "cell_type": "code",
   "execution_count": 879,
   "metadata": {},
   "outputs": [],
   "source": [
    "binary_cols = []\n",
    "for col in X_train.columns:\n",
    "    if col.startswith('has'):\n",
    "        binary_cols.append(col)\n",
    "\n",
    "cat_cols = list(X_train.select_dtypes(include='object').columns)\n",
    "\n",
    "integer_cols = ['count_floors_pre_eq', 'age', 'area_percentage', 'height_percentage', 'count_families']\n",
    "\n",
    "geo_cols = ['geo_level_1_id', 'geo_level_2_id', 'geo_level_3_id']\n",
    "\n",
    "all_cols = geo_cols + cat_cols + integer_cols + binary_cols"
   ]
  },
  {
   "cell_type": "code",
   "execution_count": 880,
   "metadata": {},
   "outputs": [],
   "source": [
    "binary_cols_dropped = binary_cols.copy()\n",
    "for col in binary_cols_dropped:\n",
    "    if col.startswith('has_secondary'):\n",
    "        binary_cols_dropped.remove(col)\n",
    "binary_cols_dropped.append('has_secondary_use')\n",
    "\n",
    "cat_cols_dropped = cat_cols.copy()\n",
    "cat_cols_dropped.remove('legal_ownership_status')\n",
    "cat_cols_dropped.remove('plan_configuration')"
   ]
  },
  {
   "cell_type": "markdown",
   "metadata": {},
   "source": [
    "### Create the Column Transformer"
   ]
  },
  {
   "cell_type": "markdown",
   "metadata": {},
   "source": [
    "We will log transform and scale integer columns, OHE categorical columns, and target endcode the geographical columns."
   ]
  },
  {
   "cell_type": "code",
   "execution_count": 881,
   "metadata": {},
   "outputs": [],
   "source": [
    "#Small function for the integer columns\n",
    "def log_transform(x):\n",
    "    return np.log(x+1)"
   ]
  },
  {
   "cell_type": "code",
   "execution_count": 882,
   "metadata": {},
   "outputs": [],
   "source": [
    "function_transformer = FunctionTransformer(log_transform)\n",
    "\n",
    "ohe_pipe = imbPipeline([('ohe', OneHotEncoder(sparse=False, handle_unknown='ignore'))])\n",
    "integer_pipe = imbPipeline([\n",
    "    ('function', function_transformer),\n",
    "    ('ss', StandardScaler())\n",
    "])\n",
    "target_pipe = imbPipeline([('target', TargetEncoder(cols=geo_cols))])\n",
    "\n",
    "transformer = ColumnTransformer([\n",
    "    ('binary', 'passthrough', binary_cols_dropped),\n",
    "    ('categorical', ohe_pipe, cat_cols_dropped),\n",
    "    ('geo', target_pipe, geo_cols),\n",
    "    ('integer', integer_pipe, integer_cols),\n",
    "])"
   ]
  },
  {
   "cell_type": "code",
   "execution_count": 883,
   "metadata": {},
   "outputs": [],
   "source": [
    "#Fit_transform X_pure_train and y_pure_train; transform X_val and X_test (for later scoring the test set)\n",
    "X_pure_train = transformer.fit_transform(X_pure_train, y_pure_train)\n",
    "X_val = transformer.transform(X_val)\n",
    "X_test = transformer.transform(X_test)"
   ]
  },
  {
   "cell_type": "markdown",
   "metadata": {},
   "source": [
    "### Pickle the Column Transformer"
   ]
  },
  {
   "cell_type": "code",
   "execution_count": 524,
   "metadata": {},
   "outputs": [],
   "source": [
    "with open ('../Models/keras_transformer.pickle', 'wb') as f:\n",
    "    pickle.dump(transformer, f, pickle.HIGHEST_PROTOCOL)"
   ]
  },
  {
   "cell_type": "markdown",
   "metadata": {},
   "source": [
    "### OHE the target for use in the Keras model"
   ]
  },
  {
   "cell_type": "code",
   "execution_count": 884,
   "metadata": {},
   "outputs": [],
   "source": [
    "ohe = OneHotEncoder(sparse=False)\n",
    "y_pure_train_ohe = ohe.fit_transform(y_pure_train.values)\n",
    "y_val_ohe = ohe.transform(y_val.values)"
   ]
  },
  {
   "cell_type": "markdown",
   "metadata": {},
   "source": [
    "### keras0:  Build a simple neural network"
   ]
  },
  {
   "cell_type": "code",
   "execution_count": 929,
   "metadata": {},
   "outputs": [],
   "source": [
    "#Create an EarlyStopping object that monitors 'val_f1_score' for a maximum, with a patience of five epochs.\n",
    "early_stop = EarlyStopping(monitor='val_f1_score', mode='max', patience=5, verbose=1)"
   ]
  },
  {
   "cell_type": "code",
   "execution_count": 886,
   "metadata": {},
   "outputs": [],
   "source": [
    "#Use the tensorflow add-on F1Score to create a micro averaged f1 score metric for the model\n",
    "metric = tfa.metrics.F1Score(num_classes=3, average='micro')"
   ]
  },
  {
   "cell_type": "code",
   "execution_count": 887,
   "metadata": {},
   "outputs": [],
   "source": [
    "keras0 = Sequential()\n",
    "keras0.add(Dense(16, input_dim=X_pure_train.shape[1], activation='relu'))\n",
    "keras0.add(Dense(8, activation='relu'))\n",
    "keras0.add(Dense(3, activation='softmax'))\n",
    "\n",
    "keras0.compile(loss='categorical_crossentropy', optimizer='adam', \n",
    "               metrics=metric)"
   ]
  },
  {
   "cell_type": "code",
   "execution_count": 888,
   "metadata": {
    "scrolled": true
   },
   "outputs": [
    {
     "name": "stdout",
     "output_type": "stream",
     "text": [
      "Epoch 1/50\n",
      "157/157 [==============================] - 0s 3ms/step - loss: 0.9247 - f1_score: 0.5617 - val_loss: 0.7711 - val_f1_score: 0.6435\n",
      "Epoch 2/50\n",
      "157/157 [==============================] - 0s 2ms/step - loss: 0.6935 - f1_score: 0.6991 - val_loss: 0.6587 - val_f1_score: 0.7147\n",
      "Epoch 3/50\n",
      "157/157 [==============================] - 0s 2ms/step - loss: 0.6158 - f1_score: 0.7318 - val_loss: 0.6307 - val_f1_score: 0.7248\n",
      "Epoch 4/50\n",
      "157/157 [==============================] - 0s 2ms/step - loss: 0.5923 - f1_score: 0.7401 - val_loss: 0.6239 - val_f1_score: 0.7277\n",
      "Epoch 5/50\n",
      "157/157 [==============================] - 0s 2ms/step - loss: 0.5823 - f1_score: 0.7448 - val_loss: 0.6218 - val_f1_score: 0.7298\n",
      "Epoch 6/50\n",
      "157/157 [==============================] - 0s 2ms/step - loss: 0.5781 - f1_score: 0.7464 - val_loss: 0.6215 - val_f1_score: 0.7310\n",
      "Epoch 7/50\n",
      "157/157 [==============================] - 0s 2ms/step - loss: 0.5754 - f1_score: 0.7473 - val_loss: 0.6211 - val_f1_score: 0.7293\n",
      "Epoch 8/50\n",
      "157/157 [==============================] - 0s 2ms/step - loss: 0.5733 - f1_score: 0.7483 - val_loss: 0.6205 - val_f1_score: 0.7301\n",
      "Epoch 9/50\n",
      "157/157 [==============================] - 0s 2ms/step - loss: 0.5721 - f1_score: 0.7481 - val_loss: 0.6213 - val_f1_score: 0.7299\n",
      "Epoch 10/50\n",
      "157/157 [==============================] - 0s 2ms/step - loss: 0.5715 - f1_score: 0.7487 - val_loss: 0.6228 - val_f1_score: 0.7269\n",
      "Epoch 11/50\n",
      "157/157 [==============================] - 0s 2ms/step - loss: 0.5706 - f1_score: 0.7492 - val_loss: 0.6203 - val_f1_score: 0.7297\n",
      "Epoch 00011: early stopping\n"
     ]
    }
   ],
   "source": [
    "results = keras0.fit(X_pure_train, y_pure_train_ohe, epochs=50, batch_size=1000, \n",
    "                     validation_data=(X_val, y_val_ohe), callbacks=[early_stop])"
   ]
  },
  {
   "cell_type": "code",
   "execution_count": 889,
   "metadata": {},
   "outputs": [
    {
     "data": {
      "image/png": "[encoded data removed]",
      "text/plain": [
       "<Figure size 720x360 with 1 Axes>"
      ]
     },
     "metadata": {
      "needs_background": "light"
     },
     "output_type": "display_data"
    }
   ],
   "source": [
    "train_f1_micro = results.history['f1_score']\n",
    "val_f1_micro = results.history['val_f1_score']\n",
    "\n",
    "fig, ax = plt.subplots(figsize=(10,5))\n",
    "sns.lineplot(x=results.epoch, y=train_f1_micro, ax=ax, label='train_f1_micro')\n",
    "sns.lineplot(x=results.epoch, y=val_f1_micro, ax=ax, label='val_f1_micro');"
   ]
  },
  {
   "cell_type": "code",
   "execution_count": 890,
   "metadata": {},
   "outputs": [
    {
     "data": {
      "text/plain": [
       "0.7309797406196594"
      ]
     },
     "execution_count": 890,
     "metadata": {},
     "output_type": "execute_result"
    }
   ],
   "source": [
    "keras0_f1_micro = np.max(val_f1_micro)\n",
    "keras0_f1_micro"
   ]
  },
  {
   "cell_type": "markdown",
   "metadata": {},
   "source": [
    "This is a baseline score, in the ballpark of our other models, though less than Random Forest, XGBoost, and SVM. It's also worth noting that the models validated f1-micro score level out after only two or three epochs."
   ]
  },
  {
   "cell_type": "markdown",
   "metadata": {},
   "source": [
    "### keras1: Add more layers to the neural network"
   ]
  },
  {
   "cell_type": "code",
   "execution_count": 891,
   "metadata": {},
   "outputs": [],
   "source": [
    "keras1 = Sequential()\n",
    "keras1.add(Dense(64, input_dim=X_pure_train.shape[1], activation='relu'))\n",
    "keras1.add(Dense(32, activation='relu'))\n",
    "keras1.add(Dense(16, activation='relu'))\n",
    "keras1.add(Dense(8, activation='relu'))\n",
    "keras1.add(Dense(3, activation='softmax'))\n",
    "\n",
    "keras1.compile(loss='categorical_crossentropy', optimizer='adam', metrics=metric)"
   ]
  },
  {
   "cell_type": "code",
   "execution_count": 892,
   "metadata": {
    "scrolled": true
   },
   "outputs": [
    {
     "name": "stdout",
     "output_type": "stream",
     "text": [
      "Epoch 1/50\n",
      "157/157 [==============================] - 1s 4ms/step - loss: 0.7273 - f1_score: 0.6829 - val_loss: 0.6273 - val_f1_score: 0.7250\n",
      "Epoch 2/50\n",
      "157/157 [==============================] - 1s 5ms/step - loss: 0.5820 - f1_score: 0.7429 - val_loss: 0.6169 - val_f1_score: 0.7287\n",
      "Epoch 3/50\n",
      "157/157 [==============================] - 1s 3ms/step - loss: 0.5720 - f1_score: 0.7459 - val_loss: 0.6167 - val_f1_score: 0.7303\n",
      "Epoch 4/50\n",
      "157/157 [==============================] - 1s 6ms/step - loss: 0.5676 - f1_score: 0.7477 - val_loss: 0.6156 - val_f1_score: 0.7289\n",
      "Epoch 5/50\n",
      "157/157 [==============================] - 0s 3ms/step - loss: 0.5658 - f1_score: 0.7490 - val_loss: 0.6134 - val_f1_score: 0.7304\n",
      "Epoch 6/50\n",
      "157/157 [==============================] - 0s 3ms/step - loss: 0.5645 - f1_score: 0.7492 - val_loss: 0.6138 - val_f1_score: 0.7303\n",
      "Epoch 7/50\n",
      "157/157 [==============================] - 0s 3ms/step - loss: 0.5630 - f1_score: 0.7496 - val_loss: 0.6133 - val_f1_score: 0.7303\n",
      "Epoch 8/50\n",
      "157/157 [==============================] - 0s 3ms/step - loss: 0.5619 - f1_score: 0.7497 - val_loss: 0.6127 - val_f1_score: 0.7295\n",
      "Epoch 9/50\n",
      "157/157 [==============================] - 0s 3ms/step - loss: 0.5614 - f1_score: 0.7497 - val_loss: 0.6130 - val_f1_score: 0.7268\n",
      "Epoch 10/50\n",
      "157/157 [==============================] - 0s 2ms/step - loss: 0.5602 - f1_score: 0.7500 - val_loss: 0.6119 - val_f1_score: 0.7322\n",
      "Epoch 11/50\n",
      "157/157 [==============================] - 0s 2ms/step - loss: 0.5588 - f1_score: 0.7511 - val_loss: 0.6128 - val_f1_score: 0.7292\n",
      "Epoch 12/50\n",
      "157/157 [==============================] - 1s 5ms/step - loss: 0.5591 - f1_score: 0.7509 - val_loss: 0.6132 - val_f1_score: 0.7317\n",
      "Epoch 13/50\n",
      "157/157 [==============================] - 1s 6ms/step - loss: 0.5579 - f1_score: 0.7514 - val_loss: 0.6163 - val_f1_score: 0.7300\n",
      "Epoch 14/50\n",
      "157/157 [==============================] - 1s 4ms/step - loss: 0.5575 - f1_score: 0.7519 - val_loss: 0.6170 - val_f1_score: 0.7277\n",
      "Epoch 15/50\n",
      "157/157 [==============================] - 1s 3ms/step - loss: 0.5569 - f1_score: 0.7516 - val_loss: 0.6104 - val_f1_score: 0.7307\n",
      "Epoch 00015: early stopping\n"
     ]
    }
   ],
   "source": [
    "results = keras1.fit(X_pure_train, y_pure_train_ohe, epochs=50, batch_size=1000, \n",
    "                     validation_data=(X_val, y_val_ohe), callbacks=[early_stop])"
   ]
  },
  {
   "cell_type": "code",
   "execution_count": 893,
   "metadata": {},
   "outputs": [
    {
     "data": {
      "image/png": "[encoded data removed]",
      "text/plain": [
       "<Figure size 720x360 with 1 Axes>"
      ]
     },
     "metadata": {
      "needs_background": "light"
     },
     "output_type": "display_data"
    }
   ],
   "source": [
    "train_f1_micro = results.history['f1_score']\n",
    "val_f1_micro = results.history['val_f1_score']\n",
    "\n",
    "fig, ax = plt.subplots(figsize=(10,5))\n",
    "sns.lineplot(x=results.epoch, y=train_f1_micro, ax=ax, label='train_f1_micro')\n",
    "sns.lineplot(x=results.epoch, y=val_f1_micro, ax=ax, label='val_f1_micro');"
   ]
  },
  {
   "cell_type": "code",
   "execution_count": 894,
   "metadata": {},
   "outputs": [
    {
     "data": {
      "text/plain": [
       "0.7321821451187134"
      ]
     },
     "execution_count": 894,
     "metadata": {},
     "output_type": "execute_result"
    }
   ],
   "source": [
    "keras1_f1_micro = np.max(val_f1_micro)\n",
    "keras1_f1_micro"
   ]
  },
  {
   "cell_type": "markdown",
   "metadata": {},
   "source": [
    "Addtional layers has improved the score slightly.  "
   ]
  },
  {
   "cell_type": "markdown",
   "metadata": {},
   "source": [
    "### keras2: Add even more layers to the neural network"
   ]
  },
  {
   "cell_type": "code",
   "execution_count": 895,
   "metadata": {},
   "outputs": [],
   "source": [
    "keras2 = Sequential()\n",
    "keras2.add(Dense(512, input_dim=X_pure_train.shape[1], activation='relu'))\n",
    "keras2.add(Dense(256, activation='relu'))\n",
    "keras2.add(Dense(128, activation='relu'))\n",
    "keras2.add(Dense(64, activation='relu'))\n",
    "keras2.add(Dense(32, activation='relu'))\n",
    "keras2.add(Dense(16, activation='relu'))\n",
    "keras2.add(Dense(8, activation='relu'))\n",
    "keras2.add(Dense(3, activation='softmax'))\n",
    "\n",
    "keras2.compile(loss='categorical_crossentropy', optimizer='adam', metrics=metric)"
   ]
  },
  {
   "cell_type": "code",
   "execution_count": 896,
   "metadata": {
    "scrolled": true
   },
   "outputs": [
    {
     "name": "stdout",
     "output_type": "stream",
     "text": [
      "Epoch 1/50\n",
      "157/157 [==============================] - 3s 18ms/step - loss: 0.6464 - f1_score: 0.7088 - val_loss: 0.6277 - val_f1_score: 0.7291\n",
      "Epoch 2/50\n",
      "157/157 [==============================] - 3s 17ms/step - loss: 0.5690 - f1_score: 0.7475 - val_loss: 0.6205 - val_f1_score: 0.7291\n",
      "Epoch 3/50\n",
      "157/157 [==============================] - 4s 23ms/step - loss: 0.5648 - f1_score: 0.7483 - val_loss: 0.6182 - val_f1_score: 0.7278\n",
      "Epoch 4/50\n",
      "157/157 [==============================] - 3s 18ms/step - loss: 0.5611 - f1_score: 0.7498 - val_loss: 0.6179 - val_f1_score: 0.7295\n",
      "Epoch 5/50\n",
      "157/157 [==============================] - 2s 15ms/step - loss: 0.5589 - f1_score: 0.7504 - val_loss: 0.6383 - val_f1_score: 0.7155\n",
      "Epoch 6/50\n",
      "157/157 [==============================] - 2s 16ms/step - loss: 0.5588 - f1_score: 0.7504 - val_loss: 0.6133 - val_f1_score: 0.7298\n",
      "Epoch 7/50\n",
      "157/157 [==============================] - 3s 20ms/step - loss: 0.5573 - f1_score: 0.7507 - val_loss: 0.6103 - val_f1_score: 0.7304\n",
      "Epoch 8/50\n",
      "157/157 [==============================] - 3s 19ms/step - loss: 0.5541 - f1_score: 0.7520 - val_loss: 0.6133 - val_f1_score: 0.7310\n",
      "Epoch 9/50\n",
      "157/157 [==============================] - 3s 19ms/step - loss: 0.5525 - f1_score: 0.7521 - val_loss: 0.6189 - val_f1_score: 0.7249\n",
      "Epoch 10/50\n",
      "157/157 [==============================] - 3s 17ms/step - loss: 0.5517 - f1_score: 0.7526 - val_loss: 0.6106 - val_f1_score: 0.7301\n",
      "Epoch 11/50\n",
      "157/157 [==============================] - 3s 19ms/step - loss: 0.5525 - f1_score: 0.7525 - val_loss: 0.6149 - val_f1_score: 0.7324\n",
      "Epoch 12/50\n",
      "157/157 [==============================] - 3s 18ms/step - loss: 0.5502 - f1_score: 0.7541 - val_loss: 0.6200 - val_f1_score: 0.7287\n",
      "Epoch 13/50\n",
      "157/157 [==============================] - 3s 18ms/step - loss: 0.5461 - f1_score: 0.7545 - val_loss: 0.6125 - val_f1_score: 0.7314\n",
      "Epoch 14/50\n",
      "157/157 [==============================] - 3s 18ms/step - loss: 0.5454 - f1_score: 0.7550 - val_loss: 0.6162 - val_f1_score: 0.7316\n",
      "Epoch 15/50\n",
      "157/157 [==============================] - 3s 18ms/step - loss: 0.5455 - f1_score: 0.7553 - val_loss: 0.6134 - val_f1_score: 0.7305\n",
      "Epoch 16/50\n",
      "157/157 [==============================] - 3s 18ms/step - loss: 0.5418 - f1_score: 0.7555 - val_loss: 0.6159 - val_f1_score: 0.7311\n",
      "Epoch 00016: early stopping\n"
     ]
    }
   ],
   "source": [
    "results = keras2.fit(X_pure_train, y_pure_train_ohe, epochs=50, batch_size=1000, \n",
    "                     validation_data=(X_val, y_val_ohe), callbacks=[early_stop])"
   ]
  },
  {
   "cell_type": "code",
   "execution_count": 897,
   "metadata": {},
   "outputs": [
    {
     "data": {
      "image/png": "[encoded data removed]",
      "text/plain": [
       "<Figure size 720x360 with 1 Axes>"
      ]
     },
     "metadata": {
      "needs_background": "light"
     },
     "output_type": "display_data"
    }
   ],
   "source": [
    "train_f1_micro = results.history['f1_score']\n",
    "val_f1_micro = results.history['val_f1_score']\n",
    "\n",
    "fig, ax = plt.subplots(figsize=(10,5))\n",
    "sns.lineplot(x=results.epoch, y=train_f1_micro, ax=ax, label='train_f1_micro')\n",
    "sns.lineplot(x=results.epoch, y=val_f1_micro, ax=ax, label='val_f1_micro');"
   ]
  },
  {
   "cell_type": "code",
   "execution_count": 898,
   "metadata": {},
   "outputs": [
    {
     "data": {
      "text/plain": [
       "0.7324380278587341"
      ]
     },
     "execution_count": 898,
     "metadata": {},
     "output_type": "execute_result"
    }
   ],
   "source": [
    "keras2_f1_micro = np.max(val_f1_micro)\n",
    "keras2_f1_micro"
   ]
  },
  {
   "cell_type": "markdown",
   "metadata": {},
   "source": [
    "The addional complexity increases the score only marginally.  Let's still consider keras1 the better model, due to its relative simplicity."
   ]
  },
  {
   "cell_type": "markdown",
   "metadata": {},
   "source": [
    "### keras3:  Try using SMOTE"
   ]
  },
  {
   "cell_type": "markdown",
   "metadata": {},
   "source": [
    "First, I'll resample X_pure_train (to which the Column Transformer was already applied) and y_pure train using SMOTE. Then I'll OHE the new resampled y_pure_train in addition to transforming y_val again with the fitted OHE. I'll use the model structure of keras1, since it's a simpler model than keras2, but produced a similar validated f1-micro score. "
   ]
  },
  {
   "cell_type": "code",
   "execution_count": 899,
   "metadata": {},
   "outputs": [],
   "source": [
    "smote = SMOTE()\n",
    "X_pure_train_resampled, y_pure_train_resampled = smote.fit_sample(X_pure_train, y_pure_train)"
   ]
  },
  {
   "cell_type": "code",
   "execution_count": 902,
   "metadata": {},
   "outputs": [],
   "source": [
    "ohe = OneHotEncoder(sparse=False)\n",
    "y_pure_train_resampled_ohe = ohe.fit_transform(y_pure_train_resampled.values)\n",
    "y_val_ohe = ohe.transform(y_val.values)"
   ]
  },
  {
   "cell_type": "code",
   "execution_count": 906,
   "metadata": {},
   "outputs": [],
   "source": [
    "keras3 = Sequential()\n",
    "keras3.add(Dense(64, input_dim=X_pure_train_resampled.shape[1], activation='relu'))\n",
    "keras3.add(Dense(32, activation='relu'))\n",
    "keras3.add(Dense(16, activation='relu'))\n",
    "keras3.add(Dense(8, activation='relu'))\n",
    "keras3.add(Dense(3, activation='softmax'))\n",
    "\n",
    "keras3.compile(loss='categorical_crossentropy', optimizer='adam', metrics=metric)"
   ]
  },
  {
   "cell_type": "code",
   "execution_count": 907,
   "metadata": {
    "scrolled": true
   },
   "outputs": [
    {
     "name": "stdout",
     "output_type": "stream",
     "text": [
      "Epoch 1/50\n",
      "267/267 [==============================] - 1s 3ms/step - loss: 0.6771 - f1_score: 0.6934 - val_loss: 0.7204 - val_f1_score: 0.6806\n",
      "Epoch 2/50\n",
      "267/267 [==============================] - 1s 3ms/step - loss: 0.5708 - f1_score: 0.7563 - val_loss: 0.7286 - val_f1_score: 0.6779\n",
      "Epoch 3/50\n",
      "267/267 [==============================] - 1s 2ms/step - loss: 0.5633 - f1_score: 0.7598 - val_loss: 0.7176 - val_f1_score: 0.6850\n",
      "Epoch 4/50\n",
      "267/267 [==============================] - 1s 2ms/step - loss: 0.5602 - f1_score: 0.7609 - val_loss: 0.7151 - val_f1_score: 0.6798\n",
      "Epoch 5/50\n",
      "267/267 [==============================] - 1s 2ms/step - loss: 0.5570 - f1_score: 0.7617 - val_loss: 0.7239 - val_f1_score: 0.6775\n",
      "Epoch 6/50\n",
      "267/267 [==============================] - 1s 3ms/step - loss: 0.5544 - f1_score: 0.7630 - val_loss: 0.7230 - val_f1_score: 0.6853\n",
      "Epoch 7/50\n",
      "267/267 [==============================] - 1s 2ms/step - loss: 0.5530 - f1_score: 0.7630 - val_loss: 0.7220 - val_f1_score: 0.6805\n",
      "Epoch 8/50\n",
      "267/267 [==============================] - 1s 3ms/step - loss: 0.5504 - f1_score: 0.7643 - val_loss: 0.7256 - val_f1_score: 0.6729\n",
      "Epoch 9/50\n",
      "267/267 [==============================] - 1s 3ms/step - loss: 0.5503 - f1_score: 0.7644 - val_loss: 0.7138 - val_f1_score: 0.6806\n",
      "Epoch 10/50\n",
      "267/267 [==============================] - 1s 4ms/step - loss: 0.5488 - f1_score: 0.7650 - val_loss: 0.7016 - val_f1_score: 0.6867\n",
      "Epoch 11/50\n",
      "267/267 [==============================] - 1s 3ms/step - loss: 0.5470 - f1_score: 0.7656 - val_loss: 0.6942 - val_f1_score: 0.6934\n",
      "Epoch 12/50\n",
      "267/267 [==============================] - 1s 4ms/step - loss: 0.5449 - f1_score: 0.7664 - val_loss: 0.6928 - val_f1_score: 0.6922\n",
      "Epoch 13/50\n",
      "267/267 [==============================] - 1s 3ms/step - loss: 0.5440 - f1_score: 0.7663 - val_loss: 0.7183 - val_f1_score: 0.6809\n",
      "Epoch 14/50\n",
      "267/267 [==============================] - 1s 3ms/step - loss: 0.5432 - f1_score: 0.7669 - val_loss: 0.7191 - val_f1_score: 0.6751\n",
      "Epoch 15/50\n",
      "267/267 [==============================] - 1s 3ms/step - loss: 0.5424 - f1_score: 0.7673 - val_loss: 0.7021 - val_f1_score: 0.6856\n",
      "Epoch 16/50\n",
      "267/267 [==============================] - 1s 3ms/step - loss: 0.5418 - f1_score: 0.7676 - val_loss: 0.6960 - val_f1_score: 0.6901\n",
      "Epoch 00016: early stopping\n"
     ]
    }
   ],
   "source": [
    "results = keras3.fit(X_pure_train_resampled, y_pure_train_resampled_ohe, epochs=50, batch_size=1000, \n",
    "                     validation_data=(X_val, y_val_ohe), callbacks=[early_stop])"
   ]
  },
  {
   "cell_type": "code",
   "execution_count": 908,
   "metadata": {},
   "outputs": [
    {
     "data": {
      "image/png": "[encoded data removed]",
      "text/plain": [
       "<Figure size 720x360 with 1 Axes>"
      ]
     },
     "metadata": {
      "needs_background": "light"
     },
     "output_type": "display_data"
    }
   ],
   "source": [
    "train_f1_micro = results.history['f1_score']\n",
    "val_f1_micro = results.history['val_f1_score']\n",
    "\n",
    "fig, ax = plt.subplots(figsize=(10,5))\n",
    "sns.lineplot(x=results.epoch, y=train_f1_micro, ax=ax, label='train_f1_micro')\n",
    "sns.lineplot(x=results.epoch, y=val_f1_micro, ax=ax, label='val_f1_micro');"
   ]
  },
  {
   "cell_type": "code",
   "execution_count": 909,
   "metadata": {},
   "outputs": [
    {
     "data": {
      "text/plain": [
       "0.6934254169464111"
      ]
     },
     "execution_count": 909,
     "metadata": {},
     "output_type": "execute_result"
    }
   ],
   "source": [
    "keras3_f1_micro = np.max(val_f1_micro)\n",
    "keras3_f1_micro"
   ]
  },
  {
   "cell_type": "markdown",
   "metadata": {},
   "source": [
    "Using SMOTE results in an inferior validated f1-micro score.  Keras1 is still the best model."
   ]
  },
  {
   "cell_type": "markdown",
   "metadata": {},
   "source": [
    "### keras4:  Try using regularization"
   ]
  },
  {
   "cell_type": "markdown",
   "metadata": {},
   "source": [
    "Again, we will use keras1 as the baseline and then add some regularization to the layers."
   ]
  },
  {
   "cell_type": "code",
   "execution_count": 917,
   "metadata": {},
   "outputs": [],
   "source": [
    "keras4 = Sequential()\n",
    "keras4.add(Dense(64, input_dim=X_pure_train.shape[1], activation='relu'))\n",
    "keras4.add(Dense(32, activation='relu', kernel_regularizer=l2(l2=.001)))\n",
    "keras4.add(Dense(16, activation='relu', kernel_regularizer=l2(l2=.001)))\n",
    "keras4.add(Dense(8, activation='relu', kernel_regularizer=l2(l2=.001)))\n",
    "keras4.add(Dense(3, activation='softmax'))\n",
    "\n",
    "keras4.compile(loss='categorical_crossentropy', optimizer='adam', metrics=metric)"
   ]
  },
  {
   "cell_type": "code",
   "execution_count": 918,
   "metadata": {
    "scrolled": true
   },
   "outputs": [
    {
     "name": "stdout",
     "output_type": "stream",
     "text": [
      "Epoch 1/50\n",
      "157/157 [==============================] - 1s 4ms/step - loss: 0.8717 - f1_score: 0.6511 - val_loss: 0.7090 - val_f1_score: 0.7135\n",
      "Epoch 2/50\n",
      "157/157 [==============================] - 0s 3ms/step - loss: 0.6475 - f1_score: 0.7381 - val_loss: 0.6808 - val_f1_score: 0.7277\n",
      "Epoch 3/50\n",
      "157/157 [==============================] - 0s 3ms/step - loss: 0.6252 - f1_score: 0.7454 - val_loss: 0.6692 - val_f1_score: 0.7282\n",
      "Epoch 4/50\n",
      "157/157 [==============================] - 0s 3ms/step - loss: 0.6173 - f1_score: 0.7469 - val_loss: 0.6653 - val_f1_score: 0.7277\n",
      "Epoch 5/50\n",
      "157/157 [==============================] - 0s 3ms/step - loss: 0.6117 - f1_score: 0.7473 - val_loss: 0.6590 - val_f1_score: 0.7283\n",
      "Epoch 6/50\n",
      "157/157 [==============================] - 0s 3ms/step - loss: 0.6069 - f1_score: 0.7478 - val_loss: 0.6588 - val_f1_score: 0.7263\n",
      "Epoch 7/50\n",
      "157/157 [==============================] - 1s 5ms/step - loss: 0.6037 - f1_score: 0.7477 - val_loss: 0.6520 - val_f1_score: 0.7278\n",
      "Epoch 8/50\n",
      "157/157 [==============================] - 1s 5ms/step - loss: 0.6005 - f1_score: 0.7482 - val_loss: 0.6494 - val_f1_score: 0.7292\n",
      "Epoch 9/50\n",
      "157/157 [==============================] - 0s 3ms/step - loss: 0.5974 - f1_score: 0.7489 - val_loss: 0.6470 - val_f1_score: 0.7312\n",
      "Epoch 10/50\n",
      "157/157 [==============================] - 0s 3ms/step - loss: 0.5948 - f1_score: 0.7493 - val_loss: 0.6443 - val_f1_score: 0.7300\n",
      "Epoch 11/50\n",
      "157/157 [==============================] - 1s 4ms/step - loss: 0.5929 - f1_score: 0.7488 - val_loss: 0.6443 - val_f1_score: 0.7304\n",
      "Epoch 12/50\n",
      "157/157 [==============================] - 1s 4ms/step - loss: 0.5919 - f1_score: 0.7488 - val_loss: 0.6414 - val_f1_score: 0.7275\n",
      "Epoch 13/50\n",
      "157/157 [==============================] - 1s 3ms/step - loss: 0.5892 - f1_score: 0.7501 - val_loss: 0.6464 - val_f1_score: 0.7257\n",
      "Epoch 14/50\n",
      "157/157 [==============================] - 1s 4ms/step - loss: 0.5885 - f1_score: 0.7493 - val_loss: 0.6393 - val_f1_score: 0.7279\n",
      "Epoch 00014: early stopping\n"
     ]
    }
   ],
   "source": [
    "results = keras4.fit(X_pure_train, y_pure_train_ohe, epochs=50, batch_size=1000, \n",
    "                     validation_data=(X_val, y_val_ohe), callbacks=[early_stop])"
   ]
  },
  {
   "cell_type": "code",
   "execution_count": 919,
   "metadata": {},
   "outputs": [
    {
     "data": {
      "image/png": "[encoded data removed]",
      "text/plain": [
       "<Figure size 720x360 with 1 Axes>"
      ]
     },
     "metadata": {
      "needs_background": "light"
     },
     "output_type": "display_data"
    }
   ],
   "source": [
    "train_f1_micro = results.history['f1_score']\n",
    "val_f1_micro = results.history['val_f1_score']\n",
    "\n",
    "fig, ax = plt.subplots(figsize=(10,5))\n",
    "sns.lineplot(x=results.epoch, y=train_f1_micro, ax=ax, label='train_f1_micro')\n",
    "sns.lineplot(x=results.epoch, y=val_f1_micro, ax=ax, label='val_f1_micro');"
   ]
  },
  {
   "cell_type": "code",
   "execution_count": 920,
   "metadata": {},
   "outputs": [
    {
     "data": {
      "text/plain": [
       "0.7311844229698181"
      ]
     },
     "execution_count": 920,
     "metadata": {},
     "output_type": "execute_result"
    }
   ],
   "source": [
    "keras4_f1_micro = np.max(val_f1_micro)\n",
    "keras4_f1_micro"
   ]
  },
  {
   "cell_type": "markdown",
   "metadata": {},
   "source": [
    "Regularization reduces the f1-micro score slightly, though it is close to keras1.  We'll finish here and say that keras1 is the best model."
   ]
  },
  {
   "cell_type": "code",
   "execution_count": 930,
   "metadata": {},
   "outputs": [
    {
     "name": "stdout",
     "output_type": "stream",
     "text": [
      "keras0_f1_micro: 0.731\n",
      "keras1_f1_micro: 0.7322\n",
      "keras2_f1_micro: 0.7324\n",
      "keras3_f1_micro: 0.6934\n",
      "keras4_f1_micro: 0.7312\n"
     ]
    }
   ],
   "source": [
    "print(f'keras0_f1_micro: {round(keras0_f1_micro, 4)}')\n",
    "print(f'keras1_f1_micro: {round(keras1_f1_micro, 4)}')\n",
    "print(f'keras2_f1_micro: {round(keras2_f1_micro, 4)}')\n",
    "print(f'keras3_f1_micro: {round(keras3_f1_micro, 4)}')\n",
    "print(f'keras4_f1_micro: {round(keras4_f1_micro, 4)}')"
   ]
  },
  {
   "cell_type": "markdown",
   "metadata": {},
   "source": [
    "### Make predictions on the test set using keras1 and calculate the f1-micro score"
   ]
  },
  {
   "cell_type": "code",
   "execution_count": 924,
   "metadata": {},
   "outputs": [],
   "source": [
    "y_hat_test = np.argmax(keras1.predict(X_test), axis=-1)"
   ]
  },
  {
   "cell_type": "code",
   "execution_count": 925,
   "metadata": {},
   "outputs": [
    {
     "data": {
      "text/plain": [
       "0.7299964697395281"
      ]
     },
     "execution_count": 925,
     "metadata": {},
     "output_type": "execute_result"
    }
   ],
   "source": [
    "f1_score(y_test, y_hat_test + 1, average='micro')"
   ]
  },
  {
   "cell_type": "markdown",
   "metadata": {},
   "source": [
    "### Check model's target accuracies"
   ]
  },
  {
   "cell_type": "code",
   "execution_count": 927,
   "metadata": {},
   "outputs": [
    {
     "name": "stdout",
     "output_type": "stream",
     "text": [
      "The model correctly predicts 54.5% of low damage.\n",
      "The model correctly predicts 82.4% of medium damage.\n",
      "The model correctly predicts 62.35% of complete destruction.\n"
     ]
    }
   ],
   "source": [
    "cm = confusion_matrix(y_test, y_hat_test + 1)\n",
    "low_damage = cm[0][0] / (cm[0][0] + cm[0][1] + cm[0][2])\n",
    "medium_damage = cm[1][1] / (cm[1][0] + cm[1][1] + cm[1][2])\n",
    "complete_destruction = cm[2][2] / (cm[2][0] + cm[2][1] + cm[2][2])\n",
    "print(f'The model correctly predicts {round(low_damage*100, 2)}% of low damage.')\n",
    "print(f'The model correctly predicts {round(medium_damage*100, 2)}% of medium damage.')\n",
    "print(f'The model correctly predicts {round(complete_destruction*100, 2)}% of complete destruction.')"
   ]
  },
  {
   "cell_type": "markdown",
   "metadata": {},
   "source": [
    "### Export the model"
   ]
  },
  {
   "cell_type": "code",
   "execution_count": 928,
   "metadata": {},
   "outputs": [
    {
     "name": "stdout",
     "output_type": "stream",
     "text": [
      "INFO:tensorflow:Assets written to: ../Models/keras1/assets\n"
     ]
    }
   ],
   "source": [
    "keras1.save('../Models/keras1')"
   ]
  }
 ],
 "metadata": {
  "kernelspec": {
   "display_name": "Python (learn-env)",
   "language": "python",
   "name": "learn-env"
  },
  "language_info": {
   "codemirror_mode": {
    "name": "ipython",
    "version": 3
   },
   "file_extension": ".py",
   "mimetype": "text/x-python",
   "name": "python",
   "nbconvert_exporter": "python",
   "pygments_lexer": "ipython3",
   "version": "3.8.5"
  }
 },
 "nbformat": 4,
 "nbformat_minor": 4
}
