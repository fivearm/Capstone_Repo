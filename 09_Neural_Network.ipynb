{
 "cells": [
  {
   "cell_type": "markdown",
   "metadata": {},
   "source": [
    "# Neural Networks"
   ]
  },
  {
   "cell_type": "code",
   "execution_count": 1,
   "metadata": {},
   "outputs": [],
   "source": [
    "from numpy.random import seed\n",
    "seed(1)"
   ]
  },
  {
   "cell_type": "code",
   "execution_count": 2,
   "metadata": {},
   "outputs": [
    {
     "name": "stderr",
     "output_type": "stream",
     "text": [
      "/Applications/anaconda3/envs/learn-env/lib/python3.8/site-packages/tensorflow_addons/utils/ensure_tf_install.py:53: UserWarning: Tensorflow Addons supports using Python ops for all Tensorflow versions above or equal to 2.4.0 and strictly below 2.7.0 (nightly versions are not supported). \n",
      " The versions of TensorFlow you are currently using is 2.3.1 and is not supported. \n",
      "Some things might work, some things might not.\n",
      "If you were to encounter a bug, do not file an issue.\n",
      "If you want to make sure you're using a tested and supported configuration, either change the TensorFlow version or the TensorFlow Addons's version. \n",
      "You can find the compatibility matrix in TensorFlow Addon's readme:\n",
      "https://github.com/tensorflow/addons\n",
      "  warnings.warn(\n"
     ]
    }
   ],
   "source": [
    "import pandas as pd\n",
    "import numpy as np\n",
    "import time\n",
    "import pickle\n",
    "import seaborn as sns\n",
    "import matplotlib.pyplot as plt\n",
    "\n",
    "from keras.models import Sequential\n",
    "from keras.layers import Dense\n",
    "from keras.callbacks import EarlyStopping\n",
    "from tensorflow import keras\n",
    "from tensorflow.keras.regularizers import l2\n",
    "\n",
    "import tensorflow as tf\n",
    "import tensorflow_addons as tfa\n",
    "\n",
    "from sklearn.model_selection import train_test_split\n",
    "from sklearn.preprocessing import StandardScaler, OneHotEncoder, FunctionTransformer\n",
    "from sklearn.metrics import f1_score, plot_confusion_matrix, confusion_matrix\n",
    "from sklearn.compose import ColumnTransformer\n",
    "\n",
    "from imblearn.pipeline import Pipeline as imbPipeline\n",
    "from imblearn.over_sampling import SMOTE\n",
    "\n",
    "from category_encoders import TargetEncoder\n",
    "\n",
    "import warnings\n",
    "warnings.filterwarnings('ignore')"
   ]
  },
  {
   "cell_type": "code",
   "execution_count": 3,
   "metadata": {},
   "outputs": [],
   "source": [
    "X_train = pd.read_csv('Data/X_train.csv', index_col='building_id')\n",
    "X_test = pd.read_csv('Data/X_test.csv', index_col='building_id')\n",
    "y_train = pd.read_csv('Data/y_train.csv', index_col='building_id')\n",
    "y_test = pd.read_csv('Data/y_test.csv', index_col='building_id')"
   ]
  },
  {
   "cell_type": "markdown",
   "metadata": {},
   "source": [
    "### Further split X_train and y_train to create validation sets for the Keras model"
   ]
  },
  {
   "cell_type": "code",
   "execution_count": 4,
   "metadata": {},
   "outputs": [],
   "source": [
    "X_pure_train, X_val, y_pure_train, y_val = train_test_split(X_train, y_train, random_state=42, test_size=.2)"
   ]
  },
  {
   "cell_type": "markdown",
   "metadata": {},
   "source": [
    "### Divide the columns and define columns to drop"
   ]
  },
  {
   "cell_type": "markdown",
   "metadata": {},
   "source": [
    "As before, we will drop unimportant columns. "
   ]
  },
  {
   "cell_type": "code",
   "execution_count": 5,
   "metadata": {},
   "outputs": [],
   "source": [
    "binary_cols = []\n",
    "for col in X_train.columns:\n",
    "    if col.startswith('has'):\n",
    "        binary_cols.append(col)\n",
    "\n",
    "cat_cols = list(X_train.select_dtypes(include='object').columns)\n",
    "\n",
    "integer_cols = ['count_floors_pre_eq', 'age', 'area_percentage', 'height_percentage', 'count_families']\n",
    "\n",
    "geo_cols = ['geo_level_1_id', 'geo_level_2_id', 'geo_level_3_id']\n",
    "\n",
    "all_cols = geo_cols + cat_cols + integer_cols + binary_cols"
   ]
  },
  {
   "cell_type": "code",
   "execution_count": 6,
   "metadata": {},
   "outputs": [],
   "source": [
    "binary_cols_dropped = binary_cols.copy()\n",
    "for col in binary_cols_dropped:\n",
    "    if col.startswith('has_secondary'):\n",
    "        binary_cols_dropped.remove(col)\n",
    "binary_cols_dropped.append('has_secondary_use')\n",
    "\n",
    "cat_cols_dropped = cat_cols.copy()\n",
    "cat_cols_dropped.remove('legal_ownership_status')\n",
    "cat_cols_dropped.remove('plan_configuration')"
   ]
  },
  {
   "cell_type": "markdown",
   "metadata": {},
   "source": [
    "### Create the Column Transformer"
   ]
  },
  {
   "cell_type": "markdown",
   "metadata": {},
   "source": [
    "We will log transform and scale integer columns, OHE categorical columns, and target endcode the geographical columns."
   ]
  },
  {
   "cell_type": "code",
   "execution_count": 7,
   "metadata": {},
   "outputs": [],
   "source": [
    "#Small function for the integer columns\n",
    "def log_transform(x):\n",
    "    return np.log(x+1)"
   ]
  },
  {
   "cell_type": "code",
   "execution_count": 8,
   "metadata": {},
   "outputs": [],
   "source": [
    "function_transformer = FunctionTransformer(log_transform)\n",
    "\n",
    "ohe_pipe = imbPipeline([('ohe', OneHotEncoder(sparse=False, handle_unknown='ignore'))])\n",
    "integer_pipe = imbPipeline([\n",
    "    ('function', function_transformer),\n",
    "    ('ss', StandardScaler())\n",
    "])\n",
    "target_pipe = imbPipeline([('target', TargetEncoder(cols=geo_cols))])\n",
    "\n",
    "transformer = ColumnTransformer([\n",
    "    ('binary', 'passthrough', binary_cols_dropped),\n",
    "    ('categorical', ohe_pipe, cat_cols_dropped),\n",
    "    ('geo', target_pipe, geo_cols),\n",
    "    ('integer', integer_pipe, integer_cols),\n",
    "])"
   ]
  },
  {
   "cell_type": "code",
   "execution_count": 9,
   "metadata": {},
   "outputs": [],
   "source": [
    "#Fit_transform X_pure_train and y_pure_train; transform X_val and X_test (for later scoring the test set)\n",
    "X_pure_train = transformer.fit_transform(X_pure_train, y_pure_train)\n",
    "X_val = transformer.transform(X_val)\n",
    "X_test = transformer.transform(X_test)"
   ]
  },
  {
   "cell_type": "markdown",
   "metadata": {},
   "source": [
    "### Pickle the Column Transformer"
   ]
  },
  {
   "cell_type": "code",
   "execution_count": 10,
   "metadata": {},
   "outputs": [],
   "source": [
    "#with open ('../Models/keras_transformer.pickle', 'wb') as f:\n",
    "#    pickle.dump(transformer, f, pickle.HIGHEST_PROTOCOL)"
   ]
  },
  {
   "cell_type": "markdown",
   "metadata": {},
   "source": [
    "### OHE the target for use in the Keras model"
   ]
  },
  {
   "cell_type": "code",
   "execution_count": 11,
   "metadata": {},
   "outputs": [],
   "source": [
    "ohe = OneHotEncoder(sparse=False)\n",
    "y_pure_train_ohe = ohe.fit_transform(y_pure_train.values)\n",
    "y_val_ohe = ohe.transform(y_val.values)"
   ]
  },
  {
   "cell_type": "markdown",
   "metadata": {},
   "source": [
    "### keras0:  Build a simple neural network"
   ]
  },
  {
   "cell_type": "code",
   "execution_count": 12,
   "metadata": {},
   "outputs": [],
   "source": [
    "#Create an EarlyStopping object that monitors 'val_f1_score' for a maximum, with a patience of five epochs.\n",
    "early_stop = EarlyStopping(monitor='val_f1_score', mode='max', patience=5, verbose=1)"
   ]
  },
  {
   "cell_type": "code",
   "execution_count": 13,
   "metadata": {},
   "outputs": [],
   "source": [
    "#Use the tensorflow add-on F1Score to create a micro averaged f1 score metric for the model\n",
    "metric = tfa.metrics.F1Score(num_classes=3, average='micro')"
   ]
  },
  {
   "cell_type": "code",
   "execution_count": 14,
   "metadata": {},
   "outputs": [],
   "source": [
    "keras0 = Sequential()\n",
    "keras0.add(Dense(16, input_dim=X_pure_train.shape[1], activation='relu'))\n",
    "keras0.add(Dense(8, activation='relu'))\n",
    "keras0.add(Dense(3, activation='softmax'))\n",
    "\n",
    "keras0.compile(loss='categorical_crossentropy', optimizer='adam', \n",
    "               metrics=metric)"
   ]
  },
  {
   "cell_type": "code",
   "execution_count": 15,
   "metadata": {
    "scrolled": true
   },
   "outputs": [
    {
     "name": "stdout",
     "output_type": "stream",
     "text": [
      "Epoch 1/50\n",
      "157/157 [==============================] - 1s 3ms/step - loss: 0.8473 - f1_score: 0.5794 - val_loss: 0.7432 - val_f1_score: 0.6758\n",
      "Epoch 2/50\n",
      "157/157 [==============================] - 0s 2ms/step - loss: 0.6689 - f1_score: 0.7136 - val_loss: 0.6462 - val_f1_score: 0.7180\n",
      "Epoch 3/50\n",
      "157/157 [==============================] - 0s 2ms/step - loss: 0.6027 - f1_score: 0.7351 - val_loss: 0.6267 - val_f1_score: 0.7271\n",
      "Epoch 4/50\n",
      "157/157 [==============================] - 0s 1ms/step - loss: 0.5845 - f1_score: 0.7429 - val_loss: 0.6244 - val_f1_score: 0.7298\n",
      "Epoch 5/50\n",
      "157/157 [==============================] - 0s 2ms/step - loss: 0.5788 - f1_score: 0.7448 - val_loss: 0.6224 - val_f1_score: 0.7302\n",
      "Epoch 6/50\n",
      "157/157 [==============================] - 0s 1ms/step - loss: 0.5756 - f1_score: 0.7470 - val_loss: 0.6234 - val_f1_score: 0.7306\n",
      "Epoch 7/50\n",
      "157/157 [==============================] - 0s 1ms/step - loss: 0.5737 - f1_score: 0.7472 - val_loss: 0.6220 - val_f1_score: 0.7284\n",
      "Epoch 8/50\n",
      "157/157 [==============================] - 0s 1ms/step - loss: 0.5722 - f1_score: 0.7473 - val_loss: 0.6224 - val_f1_score: 0.7299\n",
      "Epoch 9/50\n",
      "157/157 [==============================] - 0s 1ms/step - loss: 0.5715 - f1_score: 0.7475 - val_loss: 0.6200 - val_f1_score: 0.7293\n",
      "Epoch 10/50\n",
      "157/157 [==============================] - 0s 3ms/step - loss: 0.5701 - f1_score: 0.7485 - val_loss: 0.6213 - val_f1_score: 0.7277\n",
      "Epoch 11/50\n",
      "157/157 [==============================] - 0s 2ms/step - loss: 0.5697 - f1_score: 0.7479 - val_loss: 0.6225 - val_f1_score: 0.7263\n",
      "Epoch 00011: early stopping\n"
     ]
    }
   ],
   "source": [
    "results = keras0.fit(X_pure_train, y_pure_train_ohe, epochs=50, batch_size=1000, \n",
    "                     validation_data=(X_val, y_val_ohe), callbacks=[early_stop])"
   ]
  },
  {
   "cell_type": "code",
   "execution_count": 16,
   "metadata": {},
   "outputs": [
    {
     "data": {
      "image/png": "[encoded data removed]",
      "text/plain": [
       "<Figure size 720x360 with 1 Axes>"
      ]
     },
     "metadata": {
      "needs_background": "light"
     },
     "output_type": "display_data"
    }
   ],
   "source": [
    "train_f1_micro = results.history['f1_score']\n",
    "val_f1_micro = results.history['val_f1_score']\n",
    "\n",
    "fig, ax = plt.subplots(figsize=(10,5))\n",
    "sns.lineplot(x=results.epoch, y=train_f1_micro, ax=ax, label='train_f1_micro')\n",
    "sns.lineplot(x=results.epoch, y=val_f1_micro, ax=ax, label='val_f1_micro');"
   ]
  },
  {
   "cell_type": "code",
   "execution_count": 17,
   "metadata": {},
   "outputs": [
    {
     "data": {
      "text/plain": [
       "0.7306216359138489"
      ]
     },
     "execution_count": 17,
     "metadata": {},
     "output_type": "execute_result"
    }
   ],
   "source": [
    "keras0_f1_micro = np.max(val_f1_micro)\n",
    "keras0_f1_micro"
   ]
  },
  {
   "cell_type": "markdown",
   "metadata": {},
   "source": [
    "This is a baseline score, in the ballpark of our other models, though less than Random Forest, XGBoost, and SVM. It's also worth noting that the models validated f1-micro score level out after only two or three epochs."
   ]
  },
  {
   "cell_type": "markdown",
   "metadata": {},
   "source": [
    "### keras1: Add more layers to the neural network"
   ]
  },
  {
   "cell_type": "code",
   "execution_count": 18,
   "metadata": {},
   "outputs": [],
   "source": [
    "keras1 = Sequential()\n",
    "keras1.add(Dense(64, input_dim=X_pure_train.shape[1], activation='relu'))\n",
    "keras1.add(Dense(32, activation='relu'))\n",
    "keras1.add(Dense(16, activation='relu'))\n",
    "keras1.add(Dense(8, activation='relu'))\n",
    "keras1.add(Dense(3, activation='softmax'))\n",
    "\n",
    "keras1.compile(loss='categorical_crossentropy', optimizer='adam', metrics=metric)"
   ]
  },
  {
   "cell_type": "code",
   "execution_count": 19,
   "metadata": {
    "scrolled": true
   },
   "outputs": [
    {
     "name": "stdout",
     "output_type": "stream",
     "text": [
      "Epoch 1/50\n",
      "157/157 [==============================] - 1s 6ms/step - loss: 0.7722 - f1_score: 0.6633 - val_loss: 0.6380 - val_f1_score: 0.7228\n",
      "Epoch 2/50\n",
      "157/157 [==============================] - 0s 3ms/step - loss: 0.5862 - f1_score: 0.7415 - val_loss: 0.6297 - val_f1_score: 0.7268\n",
      "Epoch 3/50\n",
      "157/157 [==============================] - 0s 2ms/step - loss: 0.5736 - f1_score: 0.7471 - val_loss: 0.6242 - val_f1_score: 0.7254\n",
      "Epoch 4/50\n",
      "157/157 [==============================] - 0s 2ms/step - loss: 0.5687 - f1_score: 0.7488 - val_loss: 0.6174 - val_f1_score: 0.7292\n",
      "Epoch 5/50\n",
      "157/157 [==============================] - 0s 2ms/step - loss: 0.5681 - f1_score: 0.7483 - val_loss: 0.6190 - val_f1_score: 0.7287\n",
      "Epoch 6/50\n",
      "157/157 [==============================] - 0s 2ms/step - loss: 0.5654 - f1_score: 0.7498 - val_loss: 0.6191 - val_f1_score: 0.7282\n",
      "Epoch 7/50\n",
      "157/157 [==============================] - 0s 2ms/step - loss: 0.5643 - f1_score: 0.7499 - val_loss: 0.6192 - val_f1_score: 0.7296\n",
      "Epoch 8/50\n",
      "157/157 [==============================] - 0s 2ms/step - loss: 0.5643 - f1_score: 0.7501 - val_loss: 0.6164 - val_f1_score: 0.7285\n",
      "Epoch 9/50\n",
      "157/157 [==============================] - 0s 2ms/step - loss: 0.5626 - f1_score: 0.7509 - val_loss: 0.6145 - val_f1_score: 0.7296\n",
      "Epoch 10/50\n",
      "157/157 [==============================] - 0s 2ms/step - loss: 0.5611 - f1_score: 0.7510 - val_loss: 0.6143 - val_f1_score: 0.7299\n",
      "Epoch 11/50\n",
      "157/157 [==============================] - 0s 2ms/step - loss: 0.5605 - f1_score: 0.7508 - val_loss: 0.6140 - val_f1_score: 0.7313\n",
      "Epoch 12/50\n",
      "157/157 [==============================] - 0s 2ms/step - loss: 0.5601 - f1_score: 0.7515 - val_loss: 0.6140 - val_f1_score: 0.7312\n",
      "Epoch 13/50\n",
      "157/157 [==============================] - 0s 2ms/step - loss: 0.5592 - f1_score: 0.7514 - val_loss: 0.6129 - val_f1_score: 0.7300\n",
      "Epoch 14/50\n",
      "157/157 [==============================] - 0s 2ms/step - loss: 0.5597 - f1_score: 0.7519 - val_loss: 0.6206 - val_f1_score: 0.7287\n",
      "Epoch 15/50\n",
      "157/157 [==============================] - 0s 2ms/step - loss: 0.5593 - f1_score: 0.7513 - val_loss: 0.6125 - val_f1_score: 0.7303\n",
      "Epoch 16/50\n",
      "157/157 [==============================] - 0s 2ms/step - loss: 0.5580 - f1_score: 0.7520 - val_loss: 0.6203 - val_f1_score: 0.7250\n",
      "Epoch 00016: early stopping\n"
     ]
    }
   ],
   "source": [
    "results = keras1.fit(X_pure_train, y_pure_train_ohe, epochs=50, batch_size=1000, \n",
    "                     validation_data=(X_val, y_val_ohe), callbacks=[early_stop])"
   ]
  },
  {
   "cell_type": "code",
   "execution_count": 20,
   "metadata": {},
   "outputs": [
    {
     "data": {
      "image/png": "[encoded data removed]",
      "text/plain": [
       "<Figure size 720x360 with 1 Axes>"
      ]
     },
     "metadata": {
      "needs_background": "light"
     },
     "output_type": "display_data"
    }
   ],
   "source": [
    "train_f1_micro = results.history['f1_score']\n",
    "val_f1_micro = results.history['val_f1_score']\n",
    "\n",
    "fig, ax = plt.subplots(figsize=(10,5))\n",
    "sns.lineplot(x=results.epoch, y=train_f1_micro, ax=ax, label='train_f1_micro')\n",
    "sns.lineplot(x=results.epoch, y=val_f1_micro, ax=ax, label='val_f1_micro');"
   ]
  },
  {
   "cell_type": "code",
   "execution_count": 21,
   "metadata": {},
   "outputs": [
    {
     "data": {
      "text/plain": [
       "0.7312611937522888"
      ]
     },
     "execution_count": 21,
     "metadata": {},
     "output_type": "execute_result"
    }
   ],
   "source": [
    "keras1_f1_micro = np.max(val_f1_micro)\n",
    "keras1_f1_micro"
   ]
  },
  {
   "cell_type": "markdown",
   "metadata": {},
   "source": [
    "Addtional layers has improved the score slightly.  "
   ]
  },
  {
   "cell_type": "markdown",
   "metadata": {},
   "source": [
    "### keras2: Add even more layers to the neural network"
   ]
  },
  {
   "cell_type": "code",
   "execution_count": 22,
   "metadata": {},
   "outputs": [],
   "source": [
    "keras2 = Sequential()\n",
    "keras2.add(Dense(512, input_dim=X_pure_train.shape[1], activation='relu'))\n",
    "keras2.add(Dense(256, activation='relu'))\n",
    "keras2.add(Dense(128, activation='relu'))\n",
    "keras2.add(Dense(64, activation='relu'))\n",
    "keras2.add(Dense(32, activation='relu'))\n",
    "keras2.add(Dense(16, activation='relu'))\n",
    "keras2.add(Dense(8, activation='relu'))\n",
    "keras2.add(Dense(3, activation='softmax'))\n",
    "\n",
    "keras2.compile(loss='categorical_crossentropy', optimizer='adam', metrics=metric)"
   ]
  },
  {
   "cell_type": "code",
   "execution_count": 23,
   "metadata": {
    "scrolled": true
   },
   "outputs": [
    {
     "name": "stdout",
     "output_type": "stream",
     "text": [
      "Epoch 1/50\n",
      "157/157 [==============================] - 2s 14ms/step - loss: 0.6474 - f1_score: 0.7115 - val_loss: 0.6224 - val_f1_score: 0.7215\n",
      "Epoch 2/50\n",
      "157/157 [==============================] - 2s 14ms/step - loss: 0.5739 - f1_score: 0.7448 - val_loss: 0.6455 - val_f1_score: 0.7075\n",
      "Epoch 3/50\n",
      "157/157 [==============================] - 2s 14ms/step - loss: 0.5689 - f1_score: 0.7471 - val_loss: 0.6139 - val_f1_score: 0.7290\n",
      "Epoch 4/50\n",
      "157/157 [==============================] - 3s 16ms/step - loss: 0.5645 - f1_score: 0.7480 - val_loss: 0.6141 - val_f1_score: 0.7308\n",
      "Epoch 5/50\n",
      "157/157 [==============================] - 3s 16ms/step - loss: 0.5579 - f1_score: 0.7511 - val_loss: 0.6149 - val_f1_score: 0.7291\n",
      "Epoch 6/50\n",
      "157/157 [==============================] - 4s 25ms/step - loss: 0.5571 - f1_score: 0.7510 - val_loss: 0.6205 - val_f1_score: 0.7296\n",
      "Epoch 7/50\n",
      "157/157 [==============================] - 2s 14ms/step - loss: 0.5571 - f1_score: 0.7514 - val_loss: 0.6190 - val_f1_score: 0.7271\n",
      "Epoch 8/50\n",
      "157/157 [==============================] - 2s 16ms/step - loss: 0.5548 - f1_score: 0.7511 - val_loss: 0.6152 - val_f1_score: 0.7305\n",
      "Epoch 9/50\n",
      "157/157 [==============================] - 2s 13ms/step - loss: 0.5549 - f1_score: 0.7522 - val_loss: 0.6157 - val_f1_score: 0.7296\n",
      "Epoch 00009: early stopping\n"
     ]
    }
   ],
   "source": [
    "results = keras2.fit(X_pure_train, y_pure_train_ohe, epochs=50, batch_size=1000, \n",
    "                     validation_data=(X_val, y_val_ohe), callbacks=[early_stop])"
   ]
  },
  {
   "cell_type": "code",
   "execution_count": 24,
   "metadata": {},
   "outputs": [
    {
     "data": {
      "image/png": "[encoded data removed]",
      "text/plain": [
       "<Figure size 720x360 with 1 Axes>"
      ]
     },
     "metadata": {
      "needs_background": "light"
     },
     "output_type": "display_data"
    }
   ],
   "source": [
    "train_f1_micro = results.history['f1_score']\n",
    "val_f1_micro = results.history['val_f1_score']\n",
    "\n",
    "fig, ax = plt.subplots(figsize=(10,5))\n",
    "sns.lineplot(x=results.epoch, y=train_f1_micro, ax=ax, label='train_f1_micro')\n",
    "sns.lineplot(x=results.epoch, y=val_f1_micro, ax=ax, label='val_f1_micro');"
   ]
  },
  {
   "cell_type": "code",
   "execution_count": 25,
   "metadata": {},
   "outputs": [
    {
     "data": {
      "text/plain": [
       "0.7307751178741455"
      ]
     },
     "execution_count": 25,
     "metadata": {},
     "output_type": "execute_result"
    }
   ],
   "source": [
    "keras2_f1_micro = np.max(val_f1_micro)\n",
    "keras2_f1_micro"
   ]
  },
  {
   "cell_type": "markdown",
   "metadata": {},
   "source": [
    "The addional complexity decreases the score marginally.  Let's consider keras1 the better model, especially due to its relative simplicity."
   ]
  },
  {
   "cell_type": "markdown",
   "metadata": {},
   "source": [
    "### keras3:  Try using SMOTE"
   ]
  },
  {
   "cell_type": "markdown",
   "metadata": {},
   "source": [
    "First, I'll resample X_pure_train (to which the Column Transformer was already applied) and y_pure train using SMOTE. Then I'll OHE the new resampled y_pure_train in addition to transforming y_val again with the fitted OHE. I'll use the model structure of keras1, since it's a simpler model than keras2, but produced a similar validated f1-micro score. "
   ]
  },
  {
   "cell_type": "code",
   "execution_count": 26,
   "metadata": {},
   "outputs": [],
   "source": [
    "smote = SMOTE()\n",
    "X_pure_train_resampled, y_pure_train_resampled = smote.fit_sample(X_pure_train, y_pure_train)"
   ]
  },
  {
   "cell_type": "code",
   "execution_count": 27,
   "metadata": {},
   "outputs": [],
   "source": [
    "ohe = OneHotEncoder(sparse=False)\n",
    "y_pure_train_resampled_ohe = ohe.fit_transform(y_pure_train_resampled.values)\n",
    "y_val_ohe = ohe.transform(y_val.values)"
   ]
  },
  {
   "cell_type": "code",
   "execution_count": 28,
   "metadata": {},
   "outputs": [],
   "source": [
    "keras3 = Sequential()\n",
    "keras3.add(Dense(64, input_dim=X_pure_train_resampled.shape[1], activation='relu'))\n",
    "keras3.add(Dense(32, activation='relu'))\n",
    "keras3.add(Dense(16, activation='relu'))\n",
    "keras3.add(Dense(8, activation='relu'))\n",
    "keras3.add(Dense(3, activation='softmax'))\n",
    "\n",
    "keras3.compile(loss='categorical_crossentropy', optimizer='adam', metrics=metric)"
   ]
  },
  {
   "cell_type": "code",
   "execution_count": 29,
   "metadata": {
    "scrolled": true
   },
   "outputs": [
    {
     "name": "stdout",
     "output_type": "stream",
     "text": [
      "Epoch 1/50\n",
      "267/267 [==============================] - 1s 3ms/step - loss: 0.6569 - f1_score: 0.7073 - val_loss: 0.7346 - val_f1_score: 0.6794\n",
      "Epoch 2/50\n",
      "267/267 [==============================] - 1s 2ms/step - loss: 0.5635 - f1_score: 0.7585 - val_loss: 0.7043 - val_f1_score: 0.6864\n",
      "Epoch 3/50\n",
      "267/267 [==============================] - 1s 2ms/step - loss: 0.5573 - f1_score: 0.7610 - val_loss: 0.7224 - val_f1_score: 0.6743\n",
      "Epoch 4/50\n",
      "267/267 [==============================] - 1s 2ms/step - loss: 0.5538 - f1_score: 0.7629 - val_loss: 0.7285 - val_f1_score: 0.6704\n",
      "Epoch 5/50\n",
      "267/267 [==============================] - 1s 2ms/step - loss: 0.5506 - f1_score: 0.7643 - val_loss: 0.7164 - val_f1_score: 0.6774\n",
      "Epoch 6/50\n",
      "267/267 [==============================] - 1s 2ms/step - loss: 0.5478 - f1_score: 0.7651 - val_loss: 0.6946 - val_f1_score: 0.6888\n",
      "Epoch 7/50\n",
      "267/267 [==============================] - 1s 2ms/step - loss: 0.5462 - f1_score: 0.7662 - val_loss: 0.6950 - val_f1_score: 0.6868\n",
      "Epoch 8/50\n",
      "267/267 [==============================] - 1s 2ms/step - loss: 0.5436 - f1_score: 0.7673 - val_loss: 0.7013 - val_f1_score: 0.6876\n",
      "Epoch 9/50\n",
      "267/267 [==============================] - 1s 2ms/step - loss: 0.5421 - f1_score: 0.7679 - val_loss: 0.7015 - val_f1_score: 0.6877\n",
      "Epoch 10/50\n",
      "267/267 [==============================] - 1s 2ms/step - loss: 0.5406 - f1_score: 0.7682 - val_loss: 0.7169 - val_f1_score: 0.6793\n",
      "Epoch 11/50\n",
      "267/267 [==============================] - 1s 2ms/step - loss: 0.5388 - f1_score: 0.7693 - val_loss: 0.7201 - val_f1_score: 0.6810\n",
      "Epoch 00011: early stopping\n"
     ]
    }
   ],
   "source": [
    "results = keras3.fit(X_pure_train_resampled, y_pure_train_resampled_ohe, epochs=50, batch_size=1000, \n",
    "                     validation_data=(X_val, y_val_ohe), callbacks=[early_stop])"
   ]
  },
  {
   "cell_type": "code",
   "execution_count": 30,
   "metadata": {},
   "outputs": [
    {
     "data": {
      "image/png": "[encoded data removed]",
      "text/plain": [
       "<Figure size 720x360 with 1 Axes>"
      ]
     },
     "metadata": {
      "needs_background": "light"
     },
     "output_type": "display_data"
    }
   ],
   "source": [
    "train_f1_micro = results.history['f1_score']\n",
    "val_f1_micro = results.history['val_f1_score']\n",
    "\n",
    "fig, ax = plt.subplots(figsize=(10,5))\n",
    "sns.lineplot(x=results.epoch, y=train_f1_micro, ax=ax, label='train_f1_micro')\n",
    "sns.lineplot(x=results.epoch, y=val_f1_micro, ax=ax, label='val_f1_micro');"
   ]
  },
  {
   "cell_type": "code",
   "execution_count": 31,
   "metadata": {},
   "outputs": [
    {
     "data": {
      "text/plain": [
       "0.688769519329071"
      ]
     },
     "execution_count": 31,
     "metadata": {},
     "output_type": "execute_result"
    }
   ],
   "source": [
    "keras3_f1_micro = np.max(val_f1_micro)\n",
    "keras3_f1_micro"
   ]
  },
  {
   "cell_type": "markdown",
   "metadata": {},
   "source": [
    "Using SMOTE results in an inferior validated f1-micro score.  Keras1 is still the best model."
   ]
  },
  {
   "cell_type": "markdown",
   "metadata": {},
   "source": [
    "### keras4:  Try using regularization"
   ]
  },
  {
   "cell_type": "markdown",
   "metadata": {},
   "source": [
    "Again, we will use keras1 as the baseline and then add some regularization to the layers."
   ]
  },
  {
   "cell_type": "code",
   "execution_count": 32,
   "metadata": {},
   "outputs": [],
   "source": [
    "keras4 = Sequential()\n",
    "keras4.add(Dense(64, input_dim=X_pure_train.shape[1], activation='relu'))\n",
    "keras4.add(Dense(32, activation='relu', kernel_regularizer=l2(l2=.001)))\n",
    "keras4.add(Dense(16, activation='relu', kernel_regularizer=l2(l2=.001)))\n",
    "keras4.add(Dense(8, activation='relu', kernel_regularizer=l2(l2=.001)))\n",
    "keras4.add(Dense(3, activation='softmax'))\n",
    "\n",
    "keras4.compile(loss='categorical_crossentropy', optimizer='adam', metrics=metric)"
   ]
  },
  {
   "cell_type": "code",
   "execution_count": 33,
   "metadata": {
    "scrolled": true
   },
   "outputs": [
    {
     "name": "stdout",
     "output_type": "stream",
     "text": [
      "Epoch 1/50\n",
      "157/157 [==============================] - 1s 3ms/step - loss: 0.7878 - f1_score: 0.6466 - val_loss: 0.6718 - val_f1_score: 0.7290\n",
      "Epoch 2/50\n",
      "157/157 [==============================] - 0s 2ms/step - loss: 0.6212 - f1_score: 0.7428 - val_loss: 0.6652 - val_f1_score: 0.7256\n",
      "Epoch 3/50\n",
      "157/157 [==============================] - 0s 2ms/step - loss: 0.6078 - f1_score: 0.7465 - val_loss: 0.6506 - val_f1_score: 0.7301\n",
      "Epoch 4/50\n",
      "157/157 [==============================] - 0s 2ms/step - loss: 0.6007 - f1_score: 0.7479 - val_loss: 0.6467 - val_f1_score: 0.7275\n",
      "Epoch 5/50\n",
      "157/157 [==============================] - 0s 2ms/step - loss: 0.5967 - f1_score: 0.7481 - val_loss: 0.6436 - val_f1_score: 0.7282\n",
      "Epoch 6/50\n",
      "157/157 [==============================] - 0s 2ms/step - loss: 0.5946 - f1_score: 0.7479 - val_loss: 0.6458 - val_f1_score: 0.7275\n",
      "Epoch 7/50\n",
      "157/157 [==============================] - 0s 2ms/step - loss: 0.5922 - f1_score: 0.7483 - val_loss: 0.6493 - val_f1_score: 0.7248\n",
      "Epoch 8/50\n",
      "157/157 [==============================] - 0s 3ms/step - loss: 0.5897 - f1_score: 0.7500 - val_loss: 0.6446 - val_f1_score: 0.7280\n",
      "Epoch 00008: early stopping\n"
     ]
    }
   ],
   "source": [
    "results = keras4.fit(X_pure_train, y_pure_train_ohe, epochs=50, batch_size=1000, \n",
    "                     validation_data=(X_val, y_val_ohe), callbacks=[early_stop])"
   ]
  },
  {
   "cell_type": "code",
   "execution_count": 34,
   "metadata": {},
   "outputs": [
    {
     "data": {
      "image/png": "[encoded data removed]",
      "text/plain": [
       "<Figure size 720x360 with 1 Axes>"
      ]
     },
     "metadata": {
      "needs_background": "light"
     },
     "output_type": "display_data"
    }
   ],
   "source": [
    "train_f1_micro = results.history['f1_score']\n",
    "val_f1_micro = results.history['val_f1_score']\n",
    "\n",
    "fig, ax = plt.subplots(figsize=(10,5))\n",
    "sns.lineplot(x=results.epoch, y=train_f1_micro, ax=ax, label='train_f1_micro')\n",
    "sns.lineplot(x=results.epoch, y=val_f1_micro, ax=ax, label='val_f1_micro');"
   ]
  },
  {
   "cell_type": "code",
   "execution_count": 35,
   "metadata": {},
   "outputs": [
    {
     "data": {
      "text/plain": [
       "0.7301355600357056"
      ]
     },
     "execution_count": 35,
     "metadata": {},
     "output_type": "execute_result"
    }
   ],
   "source": [
    "keras4_f1_micro = np.max(val_f1_micro)\n",
    "keras4_f1_micro"
   ]
  },
  {
   "cell_type": "markdown",
   "metadata": {},
   "source": [
    "Regularization reduces the f1-micro score slightly, though it is close to keras1.  We'll finish here and say that keras1 is the best model."
   ]
  },
  {
   "cell_type": "code",
   "execution_count": 36,
   "metadata": {},
   "outputs": [
    {
     "name": "stdout",
     "output_type": "stream",
     "text": [
      "keras0_f1_micro: 0.7306\n",
      "keras1_f1_micro: 0.7313\n",
      "keras2_f1_micro: 0.7308\n",
      "keras3_f1_micro: 0.6888\n",
      "keras4_f1_micro: 0.7301\n"
     ]
    }
   ],
   "source": [
    "print(f'keras0_f1_micro: {round(keras0_f1_micro, 4)}')\n",
    "print(f'keras1_f1_micro: {round(keras1_f1_micro, 4)}')\n",
    "print(f'keras2_f1_micro: {round(keras2_f1_micro, 4)}')\n",
    "print(f'keras3_f1_micro: {round(keras3_f1_micro, 4)}')\n",
    "print(f'keras4_f1_micro: {round(keras4_f1_micro, 4)}')"
   ]
  },
  {
   "cell_type": "markdown",
   "metadata": {},
   "source": [
    "### Make predictions on the test set using keras1 and calculate the f1-micro score"
   ]
  },
  {
   "cell_type": "code",
   "execution_count": 37,
   "metadata": {},
   "outputs": [],
   "source": [
    "y_hat_test = np.argmax(keras1.predict(X_test), axis=-1)"
   ]
  },
  {
   "cell_type": "code",
   "execution_count": 38,
   "metadata": {},
   "outputs": [
    {
     "data": {
      "text/plain": [
       "0.7258522509247748"
      ]
     },
     "execution_count": 38,
     "metadata": {},
     "output_type": "execute_result"
    }
   ],
   "source": [
    "f1_score(y_test, y_hat_test + 1, average='micro')"
   ]
  },
  {
   "cell_type": "markdown",
   "metadata": {},
   "source": [
    "The final test f1-micro score is in the ballpark of our other models, though Random Forest, XGBoost, SVM, and even Logistic Regression perform slightly better."
   ]
  },
  {
   "cell_type": "markdown",
   "metadata": {},
   "source": [
    "### Check model's target accuracies"
   ]
  },
  {
   "cell_type": "code",
   "execution_count": 39,
   "metadata": {},
   "outputs": [
    {
     "name": "stdout",
     "output_type": "stream",
     "text": [
      "The model correctly predicts 50.72% of low damage.\n",
      "The model correctly predicts 79.02% of medium damage.\n",
      "The model correctly predicts 67.95% of complete destruction.\n"
     ]
    }
   ],
   "source": [
    "cm = confusion_matrix(y_test, y_hat_test + 1)\n",
    "low_damage = cm[0][0] / (cm[0][0] + cm[0][1] + cm[0][2])\n",
    "medium_damage = cm[1][1] / (cm[1][0] + cm[1][1] + cm[1][2])\n",
    "complete_destruction = cm[2][2] / (cm[2][0] + cm[2][1] + cm[2][2])\n",
    "print(f'The model correctly predicts {round(low_damage*100, 2)}% of low damage.')\n",
    "print(f'The model correctly predicts {round(medium_damage*100, 2)}% of medium damage.')\n",
    "print(f'The model correctly predicts {round(complete_destruction*100, 2)}% of complete destruction.')"
   ]
  },
  {
   "cell_type": "markdown",
   "metadata": {},
   "source": [
    "### Export the model"
   ]
  },
  {
   "cell_type": "code",
   "execution_count": 40,
   "metadata": {},
   "outputs": [
    {
     "name": "stdout",
     "output_type": "stream",
     "text": [
      "WARNING:tensorflow:From /Applications/anaconda3/envs/learn-env/lib/python3.8/site-packages/tensorflow/python/training/tracking/tracking.py:111: Model.state_updates (from tensorflow.python.keras.engine.training) is deprecated and will be removed in a future version.\n",
      "Instructions for updating:\n",
      "This property should not be used in TensorFlow 2.0, as updates are applied automatically.\n",
      "WARNING:tensorflow:From /Applications/anaconda3/envs/learn-env/lib/python3.8/site-packages/tensorflow/python/training/tracking/tracking.py:111: Layer.updates (from tensorflow.python.keras.engine.base_layer) is deprecated and will be removed in a future version.\n",
      "Instructions for updating:\n",
      "This property should not be used in TensorFlow 2.0, as updates are applied automatically.\n",
      "INFO:tensorflow:Assets written to: ../Models/keras1/assets\n"
     ]
    }
   ],
   "source": [
    "#keras1.save('../Models/keras1')"
   ]
  }
 ],
 "metadata": {
  "kernelspec": {
   "display_name": "Python (learn-env)",
   "language": "python",
   "name": "learn-env"
  },
  "language_info": {
   "codemirror_mode": {
    "name": "ipython",
    "version": 3
   },
   "file_extension": ".py",
   "mimetype": "text/x-python",
   "name": "python",
   "nbconvert_exporter": "python",
   "pygments_lexer": "ipython3",
   "version": "3.8.5"
  }
 },
 "nbformat": 4,
 "nbformat_minor": 4
}
