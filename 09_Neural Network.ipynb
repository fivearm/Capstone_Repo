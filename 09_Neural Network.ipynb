{
 "cells": [
  {
   "cell_type": "code",
   "execution_count": 662,
   "metadata": {},
   "outputs": [],
   "source": [
    "from sklearn import datasets\n",
    "import pandas as pd\n",
    "import numpy as np\n",
    "import time\n",
    "import pickle\n",
    "import seaborn as sns\n",
    "import matplotlib.pyplot as plt\n",
    "\n",
    "from keras.models import Sequential\n",
    "from keras.layers import Dense, Dropout\n",
    "from keras.wrappers.scikit_learn import KerasClassifier\n",
    "from keras.utils import np_utils\n",
    "from keras.callbacks import EarlyStopping\n",
    "from tensorflow.keras import backend as K\n",
    "from tensorflow import keras\n",
    "\n",
    "from sklearn.model_selection import KFold, cross_val_score, train_test_split\n",
    "from sklearn.preprocessing import LabelEncoder, StandardScaler, OneHotEncoder, FunctionTransformer\n",
    "from sklearn.metrics import f1_score, plot_confusion_matrix, confusion_matrix\n",
    "from sklearn.compose import ColumnTransformer\n",
    "\n",
    "from imblearn.pipeline import Pipeline as imbPipeline\n",
    "from imblearn.over_sampling import SMOTE\n",
    "\n",
    "from category_encoders import TargetEncoder\n",
    "\n",
    "import warnings\n",
    "warnings.filterwarnings('ignore')"
   ]
  },
  {
   "cell_type": "code",
   "execution_count": 734,
   "metadata": {},
   "outputs": [],
   "source": [
    "X_train = pd.read_csv('Data/X_train.csv', index_col='building_id')\n",
    "X_test = pd.read_csv('Data/X_test.csv', index_col='building_id')\n",
    "y_train = pd.read_csv('Data/y_train.csv', index_col='building_id')\n",
    "y_test = pd.read_csv('Data/y_test.csv', index_col='building_id')"
   ]
  },
  {
   "cell_type": "code",
   "execution_count": 735,
   "metadata": {},
   "outputs": [],
   "source": [
    "X_pure_train, X_val, y_pure_train, y_val = train_test_split(X_train, y_train, random_state=42, test_size=.2)"
   ]
  },
  {
   "cell_type": "code",
   "execution_count": null,
   "metadata": {},
   "outputs": [],
   "source": []
  },
  {
   "cell_type": "code",
   "execution_count": 736,
   "metadata": {},
   "outputs": [],
   "source": [
    "binary_cols = []\n",
    "for col in X_train.columns:\n",
    "    if col.startswith('has'):\n",
    "        binary_cols.append(col)\n",
    "\n",
    "cat_cols = list(X_train.select_dtypes(include='object').columns)\n",
    "\n",
    "integer_cols = ['count_floors_pre_eq', 'age', 'area_percentage', 'height_percentage', 'count_families']\n",
    "\n",
    "geo_cols = ['geo_level_1_id', 'geo_level_2_id', 'geo_level_3_id']\n",
    "\n",
    "all_cols = geo_cols + cat_cols + integer_cols + binary_cols"
   ]
  },
  {
   "cell_type": "code",
   "execution_count": 737,
   "metadata": {},
   "outputs": [],
   "source": [
    "binary_cols_dropped = binary_cols.copy()\n",
    "for col in binary_cols_dropped:\n",
    "    if col.startswith('has_secondary'):\n",
    "        binary_cols_dropped.remove(col)\n",
    "binary_cols_dropped.append('has_secondary_use')\n",
    "\n",
    "cat_cols_dropped = cat_cols.copy()\n",
    "cat_cols_dropped.remove('legal_ownership_status')\n",
    "cat_cols_dropped.remove('plan_configuration')"
   ]
  },
  {
   "cell_type": "code",
   "execution_count": 738,
   "metadata": {},
   "outputs": [],
   "source": [
    "def log_transform(x):\n",
    "    return np.log(x+1)"
   ]
  },
  {
   "cell_type": "code",
   "execution_count": 739,
   "metadata": {},
   "outputs": [],
   "source": [
    "function_transformer = FunctionTransformer(log_transform)\n",
    "\n",
    "ohe_pipe = imbPipeline([('ohe', OneHotEncoder(sparse=False, handle_unknown='ignore'))])\n",
    "integer_pipe = imbPipeline([\n",
    "    ('function', function_transformer),\n",
    "    ('ss', StandardScaler())\n",
    "])\n",
    "target_pipe = imbPipeline([('target', TargetEncoder(cols=geo_cols))])\n",
    "\n",
    "transformer = ColumnTransformer([\n",
    "    ('binary', 'passthrough', binary_cols_dropped),\n",
    "    ('categorical', ohe_pipe, cat_cols_dropped),\n",
    "    ('geo', target_pipe, geo_cols),\n",
    "    ('integer', integer_pipe, integer_cols),\n",
    "])"
   ]
  },
  {
   "cell_type": "code",
   "execution_count": 740,
   "metadata": {},
   "outputs": [],
   "source": [
    "X_pure_train = transformer.fit_transform(X_pure_train, y_pure_train)\n",
    "X_val = transformer.transform(X_val)\n",
    "X_test = transformer.transform(X_test)"
   ]
  },
  {
   "cell_type": "code",
   "execution_count": 741,
   "metadata": {},
   "outputs": [],
   "source": [
    "ohe = OneHotEncoder(sparse=False)\n",
    "y_pure_train = ohe.fit_transform(y_pure_train.values)\n",
    "y_val = ohe.transform(y_val.values)"
   ]
  },
  {
   "cell_type": "code",
   "execution_count": 742,
   "metadata": {},
   "outputs": [],
   "source": [
    "keras0 = Sequential()\n",
    "keras0.add(Dense(256, input_dim=49, activation='relu'))\n",
    "keras0.add(Dense(256, activation='relu'))\n",
    "keras0.add(Dense(128, activation='relu'))\n",
    "keras0.add(Dense(64, activation='relu'))\n",
    "keras0.add(Dense(32, activation='relu'))\n",
    "keras0.add(Dense(16, activation='relu'))\n",
    "keras0.add(Dense(8, activation='relu'))\n",
    "keras0.add(Dense(8, activation='relu'))\n",
    "keras0.add(Dense(8, activation='relu'))\n",
    "keras0.add(Dense(8, activation='relu'))\n",
    "keras0.add(Dense(3, activation='softmax'))\n",
    "\n",
    "keras0.compile(loss='categorical_crossentropy', optimizer='adam', \n",
    "               metrics=[keras.metrics.CategoricalAccuracy()])"
   ]
  },
  {
   "cell_type": "code",
   "execution_count": 743,
   "metadata": {},
   "outputs": [],
   "source": [
    "early_stop = EarlyStopping(monitor='val_loss', mode='min', patience=5, verbose=1)"
   ]
  },
  {
   "cell_type": "code",
   "execution_count": 744,
   "metadata": {
    "scrolled": true
   },
   "outputs": [
    {
     "name": "stdout",
     "output_type": "stream",
     "text": [
      "Epoch 1/50\n",
      "157/157 [==============================] - 2s 10ms/step - loss: 0.9851 - categorical_accuracy: 0.5659 - val_loss: 0.6945 - val_categorical_accuracy: 0.7021\n",
      "Epoch 2/50\n",
      "157/157 [==============================] - 1s 9ms/step - loss: 0.5961 - categorical_accuracy: 0.7359 - val_loss: 0.6237 - val_categorical_accuracy: 0.7278\n",
      "Epoch 3/50\n",
      "157/157 [==============================] - 1s 9ms/step - loss: 0.5772 - categorical_accuracy: 0.7450 - val_loss: 0.6170 - val_categorical_accuracy: 0.7287\n",
      "Epoch 4/50\n",
      "157/157 [==============================] - 1s 9ms/step - loss: 0.5710 - categorical_accuracy: 0.7468 - val_loss: 0.6176 - val_categorical_accuracy: 0.7305\n",
      "Epoch 5/50\n",
      "157/157 [==============================] - 2s 10ms/step - loss: 0.5690 - categorical_accuracy: 0.7474 - val_loss: 0.6163 - val_categorical_accuracy: 0.7285\n",
      "Epoch 6/50\n",
      "157/157 [==============================] - 2s 10ms/step - loss: 0.5657 - categorical_accuracy: 0.7484 - val_loss: 0.6199 - val_categorical_accuracy: 0.7277\n",
      "Epoch 7/50\n",
      "157/157 [==============================] - 2s 10ms/step - loss: 0.5650 - categorical_accuracy: 0.7492 - val_loss: 0.6125 - val_categorical_accuracy: 0.7311\n",
      "Epoch 8/50\n",
      "157/157 [==============================] - 2s 11ms/step - loss: 0.5633 - categorical_accuracy: 0.7493 - val_loss: 0.6168 - val_categorical_accuracy: 0.7313\n",
      "Epoch 9/50\n",
      "157/157 [==============================] - 2s 11ms/step - loss: 0.5620 - categorical_accuracy: 0.7510 - val_loss: 0.6176 - val_categorical_accuracy: 0.7295\n",
      "Epoch 10/50\n",
      "157/157 [==============================] - 2s 11ms/step - loss: 0.5612 - categorical_accuracy: 0.7508 - val_loss: 0.6137 - val_categorical_accuracy: 0.7315\n",
      "Epoch 11/50\n",
      "157/157 [==============================] - 2s 11ms/step - loss: 0.5613 - categorical_accuracy: 0.7505 - val_loss: 0.6181 - val_categorical_accuracy: 0.7278\n",
      "Epoch 12/50\n",
      "157/157 [==============================] - 2s 11ms/step - loss: 0.5598 - categorical_accuracy: 0.7508 - val_loss: 0.6185 - val_categorical_accuracy: 0.7273\n",
      "Epoch 00012: early stopping\n"
     ]
    }
   ],
   "source": [
    "results = keras0.fit(X_pure_train, y_pure_train, epochs=50, batch_size=1000, \n",
    "                     validation_data=(X_val, y_val), callbacks=[early_stop])"
   ]
  },
  {
   "cell_type": "code",
   "execution_count": 745,
   "metadata": {},
   "outputs": [
    {
     "data": {
      "image/png": "[encoded data removed]",
      "text/plain": [
       "<Figure size 720x360 with 1 Axes>"
      ]
     },
     "metadata": {
      "needs_background": "light"
     },
     "output_type": "display_data"
    }
   ],
   "source": [
    "train_loss = results.history['loss']\n",
    "val_loss = results.history['val_loss']\n",
    "\n",
    "fig, ax = plt.subplots(figsize=(10,5))\n",
    "sns.lineplot(x=results.epoch, y=train_loss, ax=ax, label='train_loss')\n",
    "sns.lineplot(x=results.epoch, y=val_loss, ax=ax, label='val_loss');"
   ]
  },
  {
   "cell_type": "code",
   "execution_count": 748,
   "metadata": {},
   "outputs": [
    {
     "name": "stdout",
     "output_type": "stream",
     "text": [
      "Model: \"sequential_62\"\n",
      "_________________________________________________________________\n",
      "Layer (type)                 Output Shape              Param #   \n",
      "=================================================================\n",
      "dense_241 (Dense)            (None, 256)               12800     \n",
      "_________________________________________________________________\n",
      "dense_242 (Dense)            (None, 256)               65792     \n",
      "_________________________________________________________________\n",
      "dense_243 (Dense)            (None, 128)               32896     \n",
      "_________________________________________________________________\n",
      "dense_244 (Dense)            (None, 64)                8256      \n",
      "_________________________________________________________________\n",
      "dense_245 (Dense)            (None, 32)                2080      \n",
      "_________________________________________________________________\n",
      "dense_246 (Dense)            (None, 16)                528       \n",
      "_________________________________________________________________\n",
      "dense_247 (Dense)            (None, 8)                 136       \n",
      "_________________________________________________________________\n",
      "dense_248 (Dense)            (None, 8)                 72        \n",
      "_________________________________________________________________\n",
      "dense_249 (Dense)            (None, 8)                 72        \n",
      "_________________________________________________________________\n",
      "dense_250 (Dense)            (None, 8)                 72        \n",
      "_________________________________________________________________\n",
      "dense_251 (Dense)            (None, 3)                 27        \n",
      "=================================================================\n",
      "Total params: 122,731\n",
      "Trainable params: 122,731\n",
      "Non-trainable params: 0\n",
      "_________________________________________________________________\n"
     ]
    }
   ],
   "source": [
    "keras0.summary()"
   ]
  },
  {
   "cell_type": "code",
   "execution_count": 746,
   "metadata": {},
   "outputs": [],
   "source": [
    "y_hat_test = np.argmax(keras0.predict(X_test), axis=-1)"
   ]
  },
  {
   "cell_type": "code",
   "execution_count": 747,
   "metadata": {},
   "outputs": [
    {
     "data": {
      "text/plain": [
       "0.7300578655738209"
      ]
     },
     "execution_count": 747,
     "metadata": {},
     "output_type": "execute_result"
    }
   ],
   "source": [
    "f1_score(y_test, y_hat_test + 1, average='micro')"
   ]
  },
  {
   "cell_type": "code",
   "execution_count": null,
   "metadata": {},
   "outputs": [],
   "source": []
  },
  {
   "cell_type": "code",
   "execution_count": null,
   "metadata": {},
   "outputs": [],
   "source": []
  },
  {
   "cell_type": "markdown",
   "metadata": {},
   "source": [
    "### Reshape y_train for the Keras model"
   ]
  },
  {
   "cell_type": "markdown",
   "metadata": {},
   "source": [
    "I need y_train in the shape (len(y_train), 3).  I also need to re-encode y so that 1, 2, 3 goes to 0, 1, 2, so that I can use np.utils.to_categorical.  When I do my predictions, I will reverse this encoding with np.argmax."
   ]
  },
  {
   "cell_type": "code",
   "execution_count": 515,
   "metadata": {},
   "outputs": [],
   "source": [
    "y_train_adj = y_train - 1"
   ]
  },
  {
   "cell_type": "code",
   "execution_count": 516,
   "metadata": {},
   "outputs": [],
   "source": [
    "dummy_y_train = np_utils.to_categorical(y_train_adj)"
   ]
  },
  {
   "cell_type": "code",
   "execution_count": 517,
   "metadata": {},
   "outputs": [
    {
     "data": {
      "text/plain": [
       "array([[0., 1., 0.],\n",
       "       [0., 1., 0.],\n",
       "       [0., 1., 0.],\n",
       "       ...,\n",
       "       [0., 1., 0.],\n",
       "       [0., 0., 1.],\n",
       "       [0., 1., 0.]], dtype=float32)"
      ]
     },
     "execution_count": 517,
     "metadata": {},
     "output_type": "execute_result"
    }
   ],
   "source": [
    "dummy_y_train"
   ]
  },
  {
   "cell_type": "markdown",
   "metadata": {},
   "source": [
    "### Column Transformer"
   ]
  },
  {
   "cell_type": "markdown",
   "metadata": {},
   "source": [
    "I will be doing the ususal transformations:  dropping unimportant columns, log-transforming and scaling the integer columns, and target encoding the categorical columns."
   ]
  },
  {
   "cell_type": "code",
   "execution_count": 518,
   "metadata": {},
   "outputs": [],
   "source": [
    "binary_cols = []\n",
    "for col in X_train.columns:\n",
    "    if col.startswith('has'):\n",
    "        binary_cols.append(col)\n",
    "\n",
    "cat_cols = list(X_train.select_dtypes(include='object').columns)\n",
    "\n",
    "integer_cols = ['count_floors_pre_eq', 'age', 'area_percentage', 'height_percentage', 'count_families']\n",
    "\n",
    "geo_cols = ['geo_level_1_id', 'geo_level_2_id', 'geo_level_3_id']\n",
    "\n",
    "all_cols = geo_cols + cat_cols + integer_cols + binary_cols"
   ]
  },
  {
   "cell_type": "code",
   "execution_count": 519,
   "metadata": {},
   "outputs": [],
   "source": [
    "binary_cols_dropped = binary_cols.copy()\n",
    "for col in binary_cols_dropped:\n",
    "    if col.startswith('has_secondary'):\n",
    "        binary_cols_dropped.remove(col)\n",
    "binary_cols_dropped.append('has_secondary_use')\n",
    "\n",
    "cat_cols_dropped = cat_cols.copy()\n",
    "cat_cols_dropped.remove('legal_ownership_status')\n",
    "cat_cols_dropped.remove('plan_configuration')"
   ]
  },
  {
   "cell_type": "code",
   "execution_count": 520,
   "metadata": {},
   "outputs": [],
   "source": [
    "def log_transform(x):\n",
    "    return np.log(x+1)"
   ]
  },
  {
   "cell_type": "code",
   "execution_count": 521,
   "metadata": {},
   "outputs": [],
   "source": [
    "function_transformer = FunctionTransformer(log_transform)\n",
    "\n",
    "ohe_pipe = imbPipeline([('ohe', OneHotEncoder(sparse=False, handle_unknown='ignore'))])\n",
    "integer_pipe = imbPipeline([\n",
    "    ('function', function_transformer),\n",
    "    ('ss', StandardScaler())\n",
    "])\n",
    "target_pipe = imbPipeline([('target', TargetEncoder(cols=geo_cols))])\n",
    "\n",
    "transformer = ColumnTransformer([\n",
    "    ('binary', 'passthrough', binary_cols_dropped),\n",
    "    ('categorical', ohe_pipe, cat_cols_dropped),\n",
    "    ('geo', target_pipe, geo_cols),\n",
    "    ('integer', integer_pipe, integer_cols),\n",
    "])"
   ]
  },
  {
   "cell_type": "code",
   "execution_count": 522,
   "metadata": {},
   "outputs": [],
   "source": [
    "transformed_X_train = transformer.fit_transform(X_train, y_train)"
   ]
  },
  {
   "cell_type": "code",
   "execution_count": 523,
   "metadata": {},
   "outputs": [
    {
     "data": {
      "text/plain": [
       "(195450, 49)"
      ]
     },
     "execution_count": 523,
     "metadata": {},
     "output_type": "execute_result"
    }
   ],
   "source": [
    "transformed_X_train.shape"
   ]
  },
  {
   "cell_type": "markdown",
   "metadata": {},
   "source": [
    "The final X_train has 49 features."
   ]
  },
  {
   "cell_type": "markdown",
   "metadata": {},
   "source": [
    "### Pickle the Column Transformer"
   ]
  },
  {
   "cell_type": "code",
   "execution_count": 524,
   "metadata": {},
   "outputs": [],
   "source": [
    "with open ('../Models/keras_transformer.pickle', 'wb') as f:\n",
    "    pickle.dump(transformer, f, pickle.HIGHEST_PROTOCOL)"
   ]
  },
  {
   "cell_type": "markdown",
   "metadata": {},
   "source": [
    "### keras0:  Build a simple neural network"
   ]
  },
  {
   "cell_type": "code",
   "execution_count": 525,
   "metadata": {},
   "outputs": [],
   "source": [
    "keras0 = Sequential()\n",
    "keras0.add(Dense(8, input_dim=49, activation='relu'))\n",
    "keras0.add(Dense(3, activation='softmax'))\n",
    "\n",
    "keras0.compile(loss='categorical_crossentropy', optimizer='adam', \n",
    "               metrics=[keras.metrics.CategoricalAccuracy()])"
   ]
  },
  {
   "cell_type": "code",
   "execution_count": 526,
   "metadata": {
    "scrolled": true
   },
   "outputs": [
    {
     "name": "stdout",
     "output_type": "stream",
     "text": [
      "196/196 [==============================] - 0s 1ms/step - loss: 0.9841 - categorical_accuracy: 0.5068\n",
      "Runtime: 0.6388249397277832 seconds\n"
     ]
    }
   ],
   "source": [
    "start = time.time()\n",
    "keras0.fit(transformed_X_train, dummy_y_train, epochs=1, batch_size=1000)\n",
    "end = time.time()\n",
    "print(f'Runtime: {end-start} seconds')"
   ]
  },
  {
   "cell_type": "markdown",
   "metadata": {},
   "source": [
    "### Create a cross validation procedure"
   ]
  },
  {
   "cell_type": "code",
   "execution_count": 527,
   "metadata": {},
   "outputs": [],
   "source": [
    "def custom_cross_val(model, X=transformed_X_train, y=dummy_y_train, epochs=1,\\\n",
    "                     batch_size=1000, n_splits=5, shuffle=True):\n",
    "    \n",
    "    \"\"\"Takes in a model and performs a cross-validation and returns the average micro-averaged F1 score.\n",
    "    \n",
    "    Parameters\n",
    "    ------------\n",
    "    model: the name of the model\n",
    "    X:  default is 'transformed_X_train'\n",
    "    y:  default is 'dummy_y_train\n",
    "    epochs: default is 1\n",
    "    batch_size: default is 1000\n",
    "    n_splits: number of splits in the KFold, default is 5\n",
    "    shuffle:  whether to shuffle the splits, default is True\n",
    "    \"\"\"\n",
    "    \n",
    "    start = time.time()\n",
    "    #Create a list to hold f1-micro scores\n",
    "    f1_micro_scores = []\n",
    "    #Instantiate a KFold object\n",
    "    kf = KFold(n_splits=n_splits, shuffle=shuffle, random_state=42)\n",
    "    \n",
    "    for train_ind, val_ind in kf.split(X):\n",
    "        #Fit the model\n",
    "        model.fit(X[train_ind], y[train_ind], epochs=epochs, batch_size=batch_size)\n",
    "        #Make predictions\n",
    "        y_pred_adj = model.predict_classes(X[val_ind])\n",
    "        #Calculate the f1-micro score\n",
    "        f1_micro = f1_score(np.argmax(y[val_ind], axis=1), y_pred_adj, average='micro')\n",
    "        print(f1_micro)\n",
    "        #Append the score to the list \n",
    "        f1_micro_scores.append(f1_micro)\n",
    "    end = time.time()  \n",
    "    runtime = end-start\n",
    "    print('---------------------------------------------------------')\n",
    "    print(f'f1-micro score: {np.mean(f1_micro_scores)},  Runtime: {runtime}')"
   ]
  },
  {
   "cell_type": "code",
   "execution_count": 528,
   "metadata": {
    "scrolled": true
   },
   "outputs": [
    {
     "name": "stdout",
     "output_type": "stream",
     "text": [
      "Epoch 1/10\n",
      "157/157 [==============================] - 0s 1ms/step - loss: 0.7915 - categorical_accuracy: 0.6153\n",
      "Epoch 2/10\n",
      "157/157 [==============================] - 0s 1ms/step - loss: 0.7086 - categorical_accuracy: 0.6930\n",
      "Epoch 3/10\n",
      "157/157 [==============================] - 0s 1ms/step - loss: 0.6568 - categorical_accuracy: 0.7197\n",
      "Epoch 4/10\n",
      "157/157 [==============================] - 0s 1ms/step - loss: 0.6297 - categorical_accuracy: 0.7278\n",
      "Epoch 5/10\n",
      "157/157 [==============================] - 0s 1ms/step - loss: 0.6149 - categorical_accuracy: 0.7318\n",
      "Epoch 6/10\n",
      "157/157 [==============================] - 0s 1ms/step - loss: 0.6064 - categorical_accuracy: 0.7342\n",
      "Epoch 7/10\n",
      "157/157 [==============================] - 0s 1ms/step - loss: 0.6004 - categorical_accuracy: 0.7366\n",
      "Epoch 8/10\n",
      "157/157 [==============================] - 0s 1ms/step - loss: 0.5960 - categorical_accuracy: 0.7382\n",
      "Epoch 9/10\n",
      "157/157 [==============================] - 0s 1ms/step - loss: 0.5924 - categorical_accuracy: 0.7398\n",
      "Epoch 10/10\n",
      "157/157 [==============================] - 0s 1ms/step - loss: 0.5894 - categorical_accuracy: 0.7411\n",
      "0.7428242517267843\n",
      "Epoch 1/10\n",
      "157/157 [==============================] - 0s 2ms/step - loss: 0.5867 - categorical_accuracy: 0.7423\n",
      "Epoch 2/10\n",
      "157/157 [==============================] - 0s 1ms/step - loss: 0.5847 - categorical_accuracy: 0.7431\n",
      "Epoch 3/10\n",
      "157/157 [==============================] - 0s 1ms/step - loss: 0.5831 - categorical_accuracy: 0.7440\n",
      "Epoch 4/10\n",
      "157/157 [==============================] - 0s 1ms/step - loss: 0.5816 - categorical_accuracy: 0.7441\n",
      "Epoch 5/10\n",
      "157/157 [==============================] - 0s 1ms/step - loss: 0.5804 - categorical_accuracy: 0.7448\n",
      "Epoch 6/10\n",
      "157/157 [==============================] - 0s 2ms/step - loss: 0.5794 - categorical_accuracy: 0.7453\n",
      "Epoch 7/10\n",
      "157/157 [==============================] - 0s 1ms/step - loss: 0.5784 - categorical_accuracy: 0.7457\n",
      "Epoch 8/10\n",
      "157/157 [==============================] - 0s 1ms/step - loss: 0.5773 - categorical_accuracy: 0.7461\n",
      "Epoch 9/10\n",
      "157/157 [==============================] - 0s 1ms/step - loss: 0.5767 - categorical_accuracy: 0.7459\n",
      "Epoch 10/10\n",
      "157/157 [==============================] - 0s 1ms/step - loss: 0.5762 - categorical_accuracy: 0.7464\n",
      "0.7438475313379381\n",
      "Epoch 1/10\n",
      "157/157 [==============================] - 0s 1ms/step - loss: 0.5777 - categorical_accuracy: 0.7452\n",
      "Epoch 2/10\n",
      "157/157 [==============================] - 0s 1ms/step - loss: 0.5770 - categorical_accuracy: 0.7456\n",
      "Epoch 3/10\n",
      "157/157 [==============================] - 0s 1ms/step - loss: 0.5764 - categorical_accuracy: 0.7457\n",
      "Epoch 4/10\n",
      "157/157 [==============================] - 0s 1ms/step - loss: 0.5759 - categorical_accuracy: 0.7461\n",
      "Epoch 5/10\n",
      "157/157 [==============================] - 0s 2ms/step - loss: 0.5755 - categorical_accuracy: 0.7457\n",
      "Epoch 6/10\n",
      "157/157 [==============================] - 0s 2ms/step - loss: 0.5750 - categorical_accuracy: 0.7456\n",
      "Epoch 7/10\n",
      "157/157 [==============================] - 0s 2ms/step - loss: 0.5749 - categorical_accuracy: 0.7457\n",
      "Epoch 8/10\n",
      "157/157 [==============================] - 0s 1ms/step - loss: 0.5742 - categorical_accuracy: 0.7459\n",
      "Epoch 9/10\n",
      "157/157 [==============================] - 0s 2ms/step - loss: 0.5738 - categorical_accuracy: 0.7459\n",
      "Epoch 10/10\n",
      "157/157 [==============================] - 0s 2ms/step - loss: 0.5737 - categorical_accuracy: 0.7455\n",
      "0.7491430033256588\n",
      "Epoch 1/10\n",
      "157/157 [==============================] - 0s 1ms/step - loss: 0.5713 - categorical_accuracy: 0.7464\n",
      "Epoch 2/10\n",
      "157/157 [==============================] - 0s 1ms/step - loss: 0.5711 - categorical_accuracy: 0.7457\n",
      "Epoch 3/10\n",
      "157/157 [==============================] - 0s 1ms/step - loss: 0.5706 - categorical_accuracy: 0.7461\n",
      "Epoch 4/10\n",
      "157/157 [==============================] - 0s 1ms/step - loss: 0.5704 - categorical_accuracy: 0.7461\n",
      "Epoch 5/10\n",
      "157/157 [==============================] - 0s 1ms/step - loss: 0.5702 - categorical_accuracy: 0.7459\n",
      "Epoch 6/10\n",
      "157/157 [==============================] - 0s 1ms/step - loss: 0.5700 - categorical_accuracy: 0.7466\n",
      "Epoch 7/10\n",
      "157/157 [==============================] - 0s 2ms/step - loss: 0.5697 - categorical_accuracy: 0.7465\n",
      "Epoch 8/10\n",
      "157/157 [==============================] - 0s 2ms/step - loss: 0.5692 - categorical_accuracy: 0.7468\n",
      "Epoch 9/10\n",
      "157/157 [==============================] - 0s 1ms/step - loss: 0.5693 - categorical_accuracy: 0.7465\n",
      "Epoch 10/10\n",
      "157/157 [==============================] - 0s 1ms/step - loss: 0.5689 - categorical_accuracy: 0.7468\n",
      "0.7481708876950627\n",
      "Epoch 1/10\n",
      "157/157 [==============================] - 0s 2ms/step - loss: 0.5691 - categorical_accuracy: 0.7471\n",
      "Epoch 2/10\n",
      "157/157 [==============================] - 0s 1ms/step - loss: 0.5687 - categorical_accuracy: 0.7480: 0s - loss: 0.5668 - categorical_accuracy\n",
      "Epoch 3/10\n",
      "157/157 [==============================] - 0s 1ms/step - loss: 0.5686 - categorical_accuracy: 0.7475\n",
      "Epoch 4/10\n",
      "157/157 [==============================] - 0s 1ms/step - loss: 0.5683 - categorical_accuracy: 0.7476\n",
      "Epoch 5/10\n",
      "157/157 [==============================] - 0s 1ms/step - loss: 0.5685 - categorical_accuracy: 0.7480\n",
      "Epoch 6/10\n",
      "157/157 [==============================] - 0s 1ms/step - loss: 0.5683 - categorical_accuracy: 0.7479\n",
      "Epoch 7/10\n",
      "157/157 [==============================] - 0s 1ms/step - loss: 0.5682 - categorical_accuracy: 0.7482\n",
      "Epoch 8/10\n",
      "157/157 [==============================] - 0s 1ms/step - loss: 0.5680 - categorical_accuracy: 0.7480\n",
      "Epoch 9/10\n",
      "157/157 [==============================] - 0s 1ms/step - loss: 0.5680 - categorical_accuracy: 0.7482\n",
      "Epoch 10/10\n",
      "157/157 [==============================] - 0s 1ms/step - loss: 0.5679 - categorical_accuracy: 0.7487\n",
      "0.7443335891532362\n",
      "---------------------------------------------------------\n",
      "f1-micro score: 0.745663852647736,  Runtime: 14.08693814277649\n"
     ]
    }
   ],
   "source": [
    "custom_cross_val(keras0, epochs=10, batch_size=1000)"
   ]
  },
  {
   "cell_type": "markdown",
   "metadata": {},
   "source": [
    "### keras1:  Add more layers to the network"
   ]
  },
  {
   "cell_type": "code",
   "execution_count": 485,
   "metadata": {},
   "outputs": [],
   "source": [
    "keras1 = Sequential()\n",
    "keras1.add(Dense(512, input_dim=49, activation='relu'))\n",
    "keras1.add(Dense(256, activation='relu'))\n",
    "keras1.add(Dense(128, activation='relu'))\n",
    "keras1.add(Dense(3, activation='softmax'))\n",
    "\n",
    "keras1.compile(loss='categorical_crossentropy', optimizer='adam', metrics=[keras.metrics.CategoricalAccuracy()])"
   ]
  },
  {
   "cell_type": "code",
   "execution_count": 486,
   "metadata": {
    "scrolled": true
   },
   "outputs": [
    {
     "name": "stdout",
     "output_type": "stream",
     "text": [
      "196/196 [==============================] - 2s 11ms/step - loss: 0.6167 - categorical_accuracy: 0.7222\n",
      "Runtime: 2.642557144165039 seconds\n"
     ]
    }
   ],
   "source": [
    "start = time.time()\n",
    "keras1.fit(transformed_X_train, dummy_y_train, epochs=1, batch_size=1000)\n",
    "end = time.time()\n",
    "print(f'Runtime: {end-start} seconds')"
   ]
  },
  {
   "cell_type": "code",
   "execution_count": 487,
   "metadata": {
    "scrolled": true
   },
   "outputs": [
    {
     "name": "stdout",
     "output_type": "stream",
     "text": [
      "Epoch 1/20\n",
      "157/157 [==============================] - 2s 11ms/step - loss: 0.5722 - categorical_accuracy: 0.7453\n",
      "Epoch 2/20\n",
      "157/157 [==============================] - 2s 11ms/step - loss: 0.5670 - categorical_accuracy: 0.7470\n",
      "Epoch 3/20\n",
      "157/157 [==============================] - 2s 11ms/step - loss: 0.5645 - categorical_accuracy: 0.7484\n",
      "Epoch 4/20\n",
      "157/157 [==============================] - 2s 11ms/step - loss: 0.5613 - categorical_accuracy: 0.7492\n",
      "Epoch 5/20\n",
      "157/157 [==============================] - 2s 11ms/step - loss: 0.5593 - categorical_accuracy: 0.7495\n",
      "Epoch 6/20\n",
      "157/157 [==============================] - 2s 11ms/step - loss: 0.5564 - categorical_accuracy: 0.7506\n",
      "Epoch 7/20\n",
      "157/157 [==============================] - 2s 11ms/step - loss: 0.5545 - categorical_accuracy: 0.7520\n",
      "Epoch 8/20\n",
      "157/157 [==============================] - 2s 11ms/step - loss: 0.5549 - categorical_accuracy: 0.7515\n",
      "Epoch 9/20\n",
      "157/157 [==============================] - 2s 12ms/step - loss: 0.5525 - categorical_accuracy: 0.7525\n",
      "Epoch 10/20\n",
      "157/157 [==============================] - 2s 12ms/step - loss: 0.5507 - categorical_accuracy: 0.7524\n",
      "Epoch 11/20\n",
      "157/157 [==============================] - 2s 12ms/step - loss: 0.5483 - categorical_accuracy: 0.7540\n",
      "Epoch 12/20\n",
      "157/157 [==============================] - 2s 15ms/step - loss: 0.5453 - categorical_accuracy: 0.7551\n",
      "Epoch 13/20\n",
      "157/157 [==============================] - 2s 15ms/step - loss: 0.5444 - categorical_accuracy: 0.7546\n",
      "Epoch 14/20\n",
      "157/157 [==============================] - 2s 14ms/step - loss: 0.5423 - categorical_accuracy: 0.7559\n",
      "Epoch 15/20\n",
      "157/157 [==============================] - 2s 15ms/step - loss: 0.5414 - categorical_accuracy: 0.7560\n",
      "Epoch 16/20\n",
      "157/157 [==============================] - 2s 14ms/step - loss: 0.5379 - categorical_accuracy: 0.7576\n",
      "Epoch 17/20\n",
      "157/157 [==============================] - 2s 14ms/step - loss: 0.5373 - categorical_accuracy: 0.7580\n",
      "Epoch 18/20\n",
      "157/157 [==============================] - 2s 14ms/step - loss: 0.5340 - categorical_accuracy: 0.7596\n",
      "Epoch 19/20\n",
      "157/157 [==============================] - 2s 14ms/step - loss: 0.5315 - categorical_accuracy: 0.7599\n",
      "Epoch 20/20\n",
      "157/157 [==============================] - 2s 14ms/step - loss: 0.5317 - categorical_accuracy: 0.7615\n",
      "0.7485290355589665\n",
      "Epoch 1/20\n",
      "157/157 [==============================] - 2s 14ms/step - loss: 0.5386 - categorical_accuracy: 0.7585\n",
      "Epoch 2/20\n",
      "157/157 [==============================] - 2s 13ms/step - loss: 0.5346 - categorical_accuracy: 0.7593\n",
      "Epoch 3/20\n",
      "157/157 [==============================] - 2s 12ms/step - loss: 0.5319 - categorical_accuracy: 0.7610\n",
      "Epoch 4/20\n",
      "157/157 [==============================] - 2s 12ms/step - loss: 0.5278 - categorical_accuracy: 0.7627\n",
      "Epoch 5/20\n",
      "157/157 [==============================] - 2s 12ms/step - loss: 0.5281 - categorical_accuracy: 0.7628\n",
      "Epoch 6/20\n",
      "157/157 [==============================] - 2s 15ms/step - loss: 0.5223 - categorical_accuracy: 0.7648\n",
      "Epoch 7/20\n",
      "157/157 [==============================] - 2s 13ms/step - loss: 0.5208 - categorical_accuracy: 0.7658\n",
      "Epoch 8/20\n",
      "157/157 [==============================] - 2s 11ms/step - loss: 0.5173 - categorical_accuracy: 0.7674\n",
      "Epoch 9/20\n",
      "157/157 [==============================] - 2s 11ms/step - loss: 0.5142 - categorical_accuracy: 0.7686\n",
      "Epoch 10/20\n",
      "157/157 [==============================] - 2s 14ms/step - loss: 0.5103 - categorical_accuracy: 0.7702\n",
      "Epoch 11/20\n",
      "157/157 [==============================] - 2s 12ms/step - loss: 0.5073 - categorical_accuracy: 0.7719\n",
      "Epoch 12/20\n",
      "157/157 [==============================] - 2s 11ms/step - loss: 0.5052 - categorical_accuracy: 0.7720\n",
      "Epoch 13/20\n",
      "157/157 [==============================] - 2s 11ms/step - loss: 0.5019 - categorical_accuracy: 0.7737\n",
      "Epoch 14/20\n",
      "157/157 [==============================] - 2s 11ms/step - loss: 0.4981 - categorical_accuracy: 0.7753\n",
      "Epoch 15/20\n",
      "157/157 [==============================] - 2s 11ms/step - loss: 0.4947 - categorical_accuracy: 0.7768\n",
      "Epoch 16/20\n",
      "157/157 [==============================] - 2s 11ms/step - loss: 0.4917 - categorical_accuracy: 0.7781\n",
      "Epoch 17/20\n",
      "157/157 [==============================] - 2s 11ms/step - loss: 0.4890 - categorical_accuracy: 0.7792\n",
      "Epoch 18/20\n",
      "157/157 [==============================] - 2s 12ms/step - loss: 0.4849 - categorical_accuracy: 0.7807\n",
      "Epoch 19/20\n",
      "157/157 [==============================] - 2s 14ms/step - loss: 0.4813 - categorical_accuracy: 0.7829\n",
      "Epoch 20/20\n",
      "157/157 [==============================] - 3s 17ms/step - loss: 0.4773 - categorical_accuracy: 0.7843\n",
      "0.7429265796878998\n",
      "Epoch 1/20\n",
      "157/157 [==============================] - 2s 13ms/step - loss: 0.5061 - categorical_accuracy: 0.7734\n",
      "Epoch 2/20\n",
      "157/157 [==============================] - 2s 15ms/step - loss: 0.4960 - categorical_accuracy: 0.7760\n",
      "Epoch 3/20\n",
      "157/157 [==============================] - 2s 15ms/step - loss: 0.4907 - categorical_accuracy: 0.7785\n",
      "Epoch 4/20\n",
      "157/157 [==============================] - 2s 13ms/step - loss: 0.4853 - categorical_accuracy: 0.7812\n",
      "Epoch 5/20\n",
      "157/157 [==============================] - 2s 16ms/step - loss: 0.4801 - categorical_accuracy: 0.7838\n",
      "Epoch 6/20\n",
      "157/157 [==============================] - 3s 16ms/step - loss: 0.4770 - categorical_accuracy: 0.7852\n",
      "Epoch 7/20\n",
      "157/157 [==============================] - 2s 15ms/step - loss: 0.4730 - categorical_accuracy: 0.7867\n",
      "Epoch 8/20\n",
      "157/157 [==============================] - 2s 14ms/step - loss: 0.4690 - categorical_accuracy: 0.7882\n",
      "Epoch 9/20\n",
      "157/157 [==============================] - 2s 15ms/step - loss: 0.4670 - categorical_accuracy: 0.7891\n",
      "Epoch 10/20\n",
      "157/157 [==============================] - 2s 14ms/step - loss: 0.4623 - categorical_accuracy: 0.7914\n",
      "Epoch 11/20\n",
      "157/157 [==============================] - 2s 14ms/step - loss: 0.4575 - categorical_accuracy: 0.7938\n",
      "Epoch 12/20\n",
      "157/157 [==============================] - 2s 14ms/step - loss: 0.4544 - categorical_accuracy: 0.7948\n",
      "Epoch 13/20\n",
      "157/157 [==============================] - 2s 15ms/step - loss: 0.4517 - categorical_accuracy: 0.7966\n",
      "Epoch 14/20\n",
      "157/157 [==============================] - 2s 14ms/step - loss: 0.4479 - categorical_accuracy: 0.7977\n",
      "Epoch 15/20\n",
      "157/157 [==============================] - 2s 15ms/step - loss: 0.4446 - categorical_accuracy: 0.7987\n",
      "Epoch 16/20\n",
      "157/157 [==============================] - 2s 15ms/step - loss: 0.4415 - categorical_accuracy: 0.8012\n",
      "Epoch 17/20\n",
      "157/157 [==============================] - 2s 15ms/step - loss: 0.4394 - categorical_accuracy: 0.8015\n",
      "Epoch 18/20\n",
      "157/157 [==============================] - 2s 15ms/step - loss: 0.4346 - categorical_accuracy: 0.8046\n",
      "Epoch 19/20\n",
      "157/157 [==============================] - 2s 14ms/step - loss: 0.4311 - categorical_accuracy: 0.8052\n",
      "Epoch 20/20\n",
      "157/157 [==============================] - 2s 15ms/step - loss: 0.4290 - categorical_accuracy: 0.8058\n",
      "0.7567408544384753\n",
      "Epoch 1/20\n",
      "157/157 [==============================] - 2s 15ms/step - loss: 0.4675 - categorical_accuracy: 0.7905\n",
      "Epoch 2/20\n",
      "157/157 [==============================] - 2s 13ms/step - loss: 0.4517 - categorical_accuracy: 0.7969\n",
      "Epoch 3/20\n",
      "157/157 [==============================] - 2s 13ms/step - loss: 0.4445 - categorical_accuracy: 0.7998\n",
      "Epoch 4/20\n",
      "157/157 [==============================] - 2s 13ms/step - loss: 0.4383 - categorical_accuracy: 0.8015\n",
      "Epoch 5/20\n",
      "157/157 [==============================] - 2s 14ms/step - loss: 0.4344 - categorical_accuracy: 0.8041\n",
      "Epoch 6/20\n",
      "157/157 [==============================] - 2s 13ms/step - loss: 0.4297 - categorical_accuracy: 0.8062\n",
      "Epoch 7/20\n",
      "157/157 [==============================] - 2s 13ms/step - loss: 0.4255 - categorical_accuracy: 0.8084\n",
      "Epoch 8/20\n",
      "157/157 [==============================] - 2s 15ms/step - loss: 0.4221 - categorical_accuracy: 0.8095\n",
      "Epoch 9/20\n",
      "157/157 [==============================] - 3s 17ms/step - loss: 0.4192 - categorical_accuracy: 0.8103\n",
      "Epoch 10/20\n",
      "157/157 [==============================] - 2s 12ms/step - loss: 0.4156 - categorical_accuracy: 0.8123\n",
      "Epoch 11/20\n",
      "157/157 [==============================] - 2s 13ms/step - loss: 0.4141 - categorical_accuracy: 0.8130\n",
      "Epoch 12/20\n"
     ]
    },
    {
     "name": "stdout",
     "output_type": "stream",
     "text": [
      "157/157 [==============================] - 2s 12ms/step - loss: 0.4101 - categorical_accuracy: 0.8146\n",
      "Epoch 13/20\n",
      "157/157 [==============================] - 2s 10ms/step - loss: 0.4076 - categorical_accuracy: 0.8158\n",
      "Epoch 14/20\n",
      "157/157 [==============================] - 2s 11ms/step - loss: 0.4046 - categorical_accuracy: 0.8170\n",
      "Epoch 15/20\n",
      "157/157 [==============================] - 2s 10ms/step - loss: 0.4010 - categorical_accuracy: 0.8187\n",
      "Epoch 16/20\n",
      "157/157 [==============================] - 2s 10ms/step - loss: 0.3991 - categorical_accuracy: 0.8197\n",
      "Epoch 17/20\n",
      "157/157 [==============================] - 2s 10ms/step - loss: 0.3952 - categorical_accuracy: 0.8210\n",
      "Epoch 18/20\n",
      "157/157 [==============================] - 2s 11ms/step - loss: 0.3938 - categorical_accuracy: 0.8226\n",
      "Epoch 19/20\n",
      "157/157 [==============================] - 2s 10ms/step - loss: 0.3894 - categorical_accuracy: 0.8249\n",
      "Epoch 20/20\n",
      "157/157 [==============================] - 2s 10ms/step - loss: 0.3887 - categorical_accuracy: 0.8252\n",
      "0.774290099769762\n",
      "Epoch 1/20\n",
      "157/157 [==============================] - 2s 13ms/step - loss: 0.4323 - categorical_accuracy: 0.8070\n",
      "Epoch 2/20\n",
      "157/157 [==============================] - 2s 13ms/step - loss: 0.4147 - categorical_accuracy: 0.8139\n",
      "Epoch 3/20\n",
      "157/157 [==============================] - 2s 13ms/step - loss: 0.4068 - categorical_accuracy: 0.8162\n",
      "Epoch 4/20\n",
      "157/157 [==============================] - 2s 10ms/step - loss: 0.4010 - categorical_accuracy: 0.8200\n",
      "Epoch 5/20\n",
      "157/157 [==============================] - 2s 15ms/step - loss: 0.3968 - categorical_accuracy: 0.8214\n",
      "Epoch 6/20\n",
      "157/157 [==============================] - 2s 10ms/step - loss: 0.3949 - categorical_accuracy: 0.8225\n",
      "Epoch 7/20\n",
      "157/157 [==============================] - 2s 10ms/step - loss: 0.3919 - categorical_accuracy: 0.8232\n",
      "Epoch 8/20\n",
      "157/157 [==============================] - 2s 10ms/step - loss: 0.3877 - categorical_accuracy: 0.8264\n",
      "Epoch 9/20\n",
      "157/157 [==============================] - 2s 13ms/step - loss: 0.3850 - categorical_accuracy: 0.8269\n",
      "Epoch 10/20\n",
      "157/157 [==============================] - 2s 14ms/step - loss: 0.3812 - categorical_accuracy: 0.8291\n",
      "Epoch 11/20\n",
      "157/157 [==============================] - 2s 11ms/step - loss: 0.3787 - categorical_accuracy: 0.8301\n",
      "Epoch 12/20\n",
      "157/157 [==============================] - 2s 11ms/step - loss: 0.3768 - categorical_accuracy: 0.8308\n",
      "Epoch 13/20\n",
      "157/157 [==============================] - 2s 10ms/step - loss: 0.3772 - categorical_accuracy: 0.8310\n",
      "Epoch 14/20\n",
      "157/157 [==============================] - 2s 11ms/step - loss: 0.3718 - categorical_accuracy: 0.8326\n",
      "Epoch 15/20\n",
      "157/157 [==============================] - 2s 11ms/step - loss: 0.3692 - categorical_accuracy: 0.8344\n",
      "Epoch 16/20\n",
      "157/157 [==============================] - 2s 11ms/step - loss: 0.3677 - categorical_accuracy: 0.8349\n",
      "Epoch 17/20\n",
      "157/157 [==============================] - 2s 11ms/step - loss: 0.3659 - categorical_accuracy: 0.8356\n",
      "Epoch 18/20\n",
      "157/157 [==============================] - 2s 11ms/step - loss: 0.3642 - categorical_accuracy: 0.8364\n",
      "Epoch 19/20\n",
      "157/157 [==============================] - 2s 12ms/step - loss: 0.3621 - categorical_accuracy: 0.8376\n",
      "Epoch 20/20\n",
      "157/157 [==============================] - 2s 14ms/step - loss: 0.3604 - categorical_accuracy: 0.8384\n",
      "0.7820670248145306\n",
      "---------------------------------------------------------\n",
      "f1-micro score: 0.7609107188539268,  Runtime: 207.85871005058289\n"
     ]
    }
   ],
   "source": [
    "custom_cross_val(keras1, epochs=1, batch_size=1000)"
   ]
  },
  {
   "cell_type": "markdown",
   "metadata": {},
   "source": [
    "### keras2:  Try using SMOTE"
   ]
  },
  {
   "cell_type": "code",
   "execution_count": 531,
   "metadata": {},
   "outputs": [],
   "source": [
    "smote = SMOTE()\n",
    "X_train_resampled, y_train_resampled = smote.fit_sample(transformed_X_train, y_train_adj)"
   ]
  },
  {
   "cell_type": "code",
   "execution_count": 536,
   "metadata": {},
   "outputs": [],
   "source": [
    "dummy_y_train_resampled = np_utils.to_categorical(y_train_resampled)"
   ]
  },
  {
   "cell_type": "code",
   "execution_count": 550,
   "metadata": {},
   "outputs": [],
   "source": [
    "keras2 = Sequential()\n",
    "keras2.add(Dense(32, input_dim=49, activation='relu'))\n",
    "keras2.add(Dense(16, activation='relu'))\n",
    "keras2.add(Dense(8, activation='relu'))\n",
    "keras2.add(Dense(3, activation='softmax'))\n",
    "\n",
    "keras2.compile(loss='categorical_crossentropy', optimizer='adam', \n",
    "               metrics=[keras.metrics.CategoricalAccuracy()])"
   ]
  },
  {
   "cell_type": "code",
   "execution_count": 551,
   "metadata": {
    "scrolled": true
   },
   "outputs": [
    {
     "name": "stdout",
     "output_type": "stream",
     "text": [
      "196/196 [==============================] - 0s 1ms/step - loss: 0.5682 - categorical_accuracy: 0.7477\n",
      "Runtime: 0.36264610290527344 seconds\n"
     ]
    }
   ],
   "source": [
    "start = time.time()\n",
    "keras0.fit(transformed_X_train, dummy_y_train, epochs=1, batch_size=1000)\n",
    "end = time.time()\n",
    "print(f'Runtime: {end-start} seconds')"
   ]
  },
  {
   "cell_type": "code",
   "execution_count": 552,
   "metadata": {
    "scrolled": true
   },
   "outputs": [
    {
     "name": "stdout",
     "output_type": "stream",
     "text": [
      "Epoch 1/10\n",
      "267/267 [==============================] - 0s 1ms/step - loss: 0.8194 - categorical_accuracy: 0.5781\n",
      "Epoch 2/10\n",
      "267/267 [==============================] - 0s 1ms/step - loss: 0.5873 - categorical_accuracy: 0.7508\n",
      "Epoch 3/10\n",
      "267/267 [==============================] - 0s 1ms/step - loss: 0.5771 - categorical_accuracy: 0.7534\n",
      "Epoch 4/10\n",
      "267/267 [==============================] - 0s 1ms/step - loss: 0.5730 - categorical_accuracy: 0.7545\n",
      "Epoch 5/10\n",
      "267/267 [==============================] - 0s 1ms/step - loss: 0.5709 - categorical_accuracy: 0.7558\n",
      "Epoch 6/10\n",
      "267/267 [==============================] - 0s 1ms/step - loss: 0.5687 - categorical_accuracy: 0.7567\n",
      "Epoch 7/10\n",
      "267/267 [==============================] - 0s 1ms/step - loss: 0.5675 - categorical_accuracy: 0.7569\n",
      "Epoch 8/10\n",
      "267/267 [==============================] - 0s 1ms/step - loss: 0.5664 - categorical_accuracy: 0.7575\n",
      "Epoch 9/10\n",
      "267/267 [==============================] - 0s 1ms/step - loss: 0.5650 - categorical_accuracy: 0.7582\n",
      "Epoch 10/10\n",
      "267/267 [==============================] - 0s 2ms/step - loss: 0.5643 - categorical_accuracy: 0.7582\n",
      "0.7584423760061154\n",
      "Epoch 1/10\n",
      "267/267 [==============================] - 0s 2ms/step - loss: 0.5631 - categorical_accuracy: 0.7591\n",
      "Epoch 2/10\n",
      "267/267 [==============================] - 0s 2ms/step - loss: 0.5619 - categorical_accuracy: 0.7598\n",
      "Epoch 3/10\n",
      "267/267 [==============================] - 0s 2ms/step - loss: 0.5618 - categorical_accuracy: 0.7596\n",
      "Epoch 4/10\n",
      "267/267 [==============================] - 1s 2ms/step - loss: 0.5606 - categorical_accuracy: 0.7600\n",
      "Epoch 5/10\n",
      "267/267 [==============================] - 0s 2ms/step - loss: 0.5598 - categorical_accuracy: 0.7604\n",
      "Epoch 6/10\n",
      "267/267 [==============================] - 0s 1ms/step - loss: 0.5593 - categorical_accuracy: 0.7603\n",
      "Epoch 7/10\n",
      "267/267 [==============================] - 0s 2ms/step - loss: 0.5595 - categorical_accuracy: 0.7602: 0s - loss: 0.5592 - categorical_accuracy: 0.76\n",
      "Epoch 8/10\n",
      "267/267 [==============================] - 0s 2ms/step - loss: 0.5579 - categorical_accuracy: 0.7611\n",
      "Epoch 9/10\n",
      "267/267 [==============================] - 0s 2ms/step - loss: 0.5576 - categorical_accuracy: 0.7605\n",
      "Epoch 10/10\n",
      "267/267 [==============================] - 0s 1ms/step - loss: 0.5569 - categorical_accuracy: 0.7611\n",
      "0.7583524439048518\n",
      "Epoch 1/10\n",
      "267/267 [==============================] - 1s 2ms/step - loss: 0.5565 - categorical_accuracy: 0.7606\n",
      "Epoch 2/10\n",
      "267/267 [==============================] - 0s 2ms/step - loss: 0.5555 - categorical_accuracy: 0.7608\n",
      "Epoch 3/10\n",
      "267/267 [==============================] - 1s 2ms/step - loss: 0.5550 - categorical_accuracy: 0.7613\n",
      "Epoch 4/10\n",
      "267/267 [==============================] - 0s 2ms/step - loss: 0.5545 - categorical_accuracy: 0.7618\n",
      "Epoch 5/10\n",
      "267/267 [==============================] - 0s 2ms/step - loss: 0.5541 - categorical_accuracy: 0.7618\n",
      "Epoch 6/10\n",
      "267/267 [==============================] - 1s 2ms/step - loss: 0.5537 - categorical_accuracy: 0.7617\n",
      "Epoch 7/10\n",
      "267/267 [==============================] - 0s 2ms/step - loss: 0.5532 - categorical_accuracy: 0.7623\n",
      "Epoch 8/10\n",
      "267/267 [==============================] - 1s 3ms/step - loss: 0.5531 - categorical_accuracy: 0.7620\n",
      "Epoch 9/10\n",
      "267/267 [==============================] - 1s 2ms/step - loss: 0.5528 - categorical_accuracy: 0.7622\n",
      "Epoch 10/10\n",
      "267/267 [==============================] - 0s 1ms/step - loss: 0.5523 - categorical_accuracy: 0.7622\n",
      "0.7587984891180526\n",
      "Epoch 1/10\n",
      "267/267 [==============================] - 1s 3ms/step - loss: 0.5535 - categorical_accuracy: 0.7627\n",
      "Epoch 2/10\n",
      "267/267 [==============================] - 1s 2ms/step - loss: 0.5534 - categorical_accuracy: 0.7623\n",
      "Epoch 3/10\n",
      "267/267 [==============================] - 1s 2ms/step - loss: 0.5524 - categorical_accuracy: 0.7630\n",
      "Epoch 4/10\n",
      "267/267 [==============================] - 1s 3ms/step - loss: 0.5525 - categorical_accuracy: 0.7630\n",
      "Epoch 5/10\n",
      "267/267 [==============================] - 0s 2ms/step - loss: 0.5520 - categorical_accuracy: 0.7633\n",
      "Epoch 6/10\n",
      "267/267 [==============================] - 0s 2ms/step - loss: 0.5516 - categorical_accuracy: 0.7633\n",
      "Epoch 7/10\n",
      "267/267 [==============================] - 0s 2ms/step - loss: 0.5516 - categorical_accuracy: 0.7634\n",
      "Epoch 8/10\n",
      "267/267 [==============================] - 0s 2ms/step - loss: 0.5515 - categorical_accuracy: 0.7635\n",
      "Epoch 9/10\n",
      "267/267 [==============================] - 0s 2ms/step - loss: 0.5511 - categorical_accuracy: 0.7638\n",
      "Epoch 10/10\n",
      "267/267 [==============================] - 0s 2ms/step - loss: 0.5503 - categorical_accuracy: 0.7639\n",
      "0.7596828347023202\n",
      "Epoch 1/10\n",
      "267/267 [==============================] - 1s 2ms/step - loss: 0.5505 - categorical_accuracy: 0.7631\n",
      "Epoch 2/10\n",
      "267/267 [==============================] - 1s 2ms/step - loss: 0.5501 - categorical_accuracy: 0.7639\n",
      "Epoch 3/10\n",
      "267/267 [==============================] - 0s 2ms/step - loss: 0.5497 - categorical_accuracy: 0.7636\n",
      "Epoch 4/10\n",
      "267/267 [==============================] - 0s 2ms/step - loss: 0.5496 - categorical_accuracy: 0.7640\n",
      "Epoch 5/10\n",
      "267/267 [==============================] - 0s 2ms/step - loss: 0.5490 - categorical_accuracy: 0.7646\n",
      "Epoch 6/10\n",
      "267/267 [==============================] - 1s 3ms/step - loss: 0.5490 - categorical_accuracy: 0.7639\n",
      "Epoch 7/10\n",
      "267/267 [==============================] - 1s 2ms/step - loss: 0.5493 - categorical_accuracy: 0.7640\n",
      "Epoch 8/10\n",
      "267/267 [==============================] - 1s 2ms/step - loss: 0.5481 - categorical_accuracy: 0.7644\n",
      "Epoch 9/10\n",
      "267/267 [==============================] - 1s 2ms/step - loss: 0.5479 - categorical_accuracy: 0.7641\n",
      "Epoch 10/10\n",
      "267/267 [==============================] - 0s 2ms/step - loss: 0.5481 - categorical_accuracy: 0.7645\n",
      "0.7655135199952036\n",
      "---------------------------------------------------------\n",
      "f1-micro score: 0.7601579327453087,  Runtime: 30.42802882194519\n"
     ]
    }
   ],
   "source": [
    "custom_cross_val(keras2, X=X_train_resampled, y=dummy_y_train_resampled, epochs=10, batch_size=1000)"
   ]
  },
  {
   "cell_type": "markdown",
   "metadata": {},
   "source": [
    "### Transform X_test"
   ]
  },
  {
   "cell_type": "code",
   "execution_count": 412,
   "metadata": {},
   "outputs": [],
   "source": [
    "transformed_X_test = transformer.transform(X_test)"
   ]
  },
  {
   "cell_type": "markdown",
   "metadata": {},
   "source": [
    "### Make predictions on X_test and score the results"
   ]
  },
  {
   "cell_type": "markdown",
   "metadata": {},
   "source": [
    "After predicting classes, I will reverse transform the predictions so that 0, 1, 2 is mapped to 1, 2, 3 (the original target.)"
   ]
  },
  {
   "cell_type": "code",
   "execution_count": 610,
   "metadata": {},
   "outputs": [],
   "source": [
    "y_pred_adj = keras0.predict_classes(transformed_X_test)"
   ]
  },
  {
   "cell_type": "code",
   "execution_count": 611,
   "metadata": {},
   "outputs": [],
   "source": [
    "y_pred = y_pred_adj + 1"
   ]
  },
  {
   "cell_type": "code",
   "execution_count": 612,
   "metadata": {},
   "outputs": [
    {
     "ename": "ValueError",
     "evalue": "Classification metrics can't handle a mix of multilabel-indicator and multiclass targets",
     "output_type": "error",
     "traceback": [
      "\u001b[0;31m---------------------------------------------------------------------------\u001b[0m",
      "\u001b[0;31mValueError\u001b[0m                                Traceback (most recent call last)",
      "\u001b[0;32m<ipython-input-612-98db69348fef>\u001b[0m in \u001b[0;36m<module>\u001b[0;34m\u001b[0m\n\u001b[0;32m----> 1\u001b[0;31m \u001b[0mkeras_score\u001b[0m \u001b[0;34m=\u001b[0m \u001b[0mf1_score\u001b[0m\u001b[0;34m(\u001b[0m\u001b[0my_test\u001b[0m\u001b[0;34m,\u001b[0m \u001b[0my_pred\u001b[0m\u001b[0;34m,\u001b[0m \u001b[0maverage\u001b[0m\u001b[0;34m=\u001b[0m\u001b[0;34m'micro'\u001b[0m\u001b[0;34m)\u001b[0m\u001b[0;34m\u001b[0m\u001b[0;34m\u001b[0m\u001b[0m\n\u001b[0m\u001b[1;32m      2\u001b[0m \u001b[0mkeras_score\u001b[0m\u001b[0;34m\u001b[0m\u001b[0;34m\u001b[0m\u001b[0m\n",
      "\u001b[0;32m/Applications/anaconda3/envs/learn-env/lib/python3.8/site-packages/sklearn/utils/validation.py\u001b[0m in \u001b[0;36minner_f\u001b[0;34m(*args, **kwargs)\u001b[0m\n\u001b[1;32m     70\u001b[0m                           FutureWarning)\n\u001b[1;32m     71\u001b[0m         \u001b[0mkwargs\u001b[0m\u001b[0;34m.\u001b[0m\u001b[0mupdate\u001b[0m\u001b[0;34m(\u001b[0m\u001b[0;34m{\u001b[0m\u001b[0mk\u001b[0m\u001b[0;34m:\u001b[0m \u001b[0marg\u001b[0m \u001b[0;32mfor\u001b[0m \u001b[0mk\u001b[0m\u001b[0;34m,\u001b[0m \u001b[0marg\u001b[0m \u001b[0;32min\u001b[0m \u001b[0mzip\u001b[0m\u001b[0;34m(\u001b[0m\u001b[0msig\u001b[0m\u001b[0;34m.\u001b[0m\u001b[0mparameters\u001b[0m\u001b[0;34m,\u001b[0m \u001b[0margs\u001b[0m\u001b[0;34m)\u001b[0m\u001b[0;34m}\u001b[0m\u001b[0;34m)\u001b[0m\u001b[0;34m\u001b[0m\u001b[0;34m\u001b[0m\u001b[0m\n\u001b[0;32m---> 72\u001b[0;31m         \u001b[0;32mreturn\u001b[0m \u001b[0mf\u001b[0m\u001b[0;34m(\u001b[0m\u001b[0;34m**\u001b[0m\u001b[0mkwargs\u001b[0m\u001b[0;34m)\u001b[0m\u001b[0;34m\u001b[0m\u001b[0;34m\u001b[0m\u001b[0m\n\u001b[0m\u001b[1;32m     73\u001b[0m     \u001b[0;32mreturn\u001b[0m \u001b[0minner_f\u001b[0m\u001b[0;34m\u001b[0m\u001b[0;34m\u001b[0m\u001b[0m\n\u001b[1;32m     74\u001b[0m \u001b[0;34m\u001b[0m\u001b[0m\n",
      "\u001b[0;32m/Applications/anaconda3/envs/learn-env/lib/python3.8/site-packages/sklearn/metrics/_classification.py\u001b[0m in \u001b[0;36mf1_score\u001b[0;34m(y_true, y_pred, labels, pos_label, average, sample_weight, zero_division)\u001b[0m\n\u001b[1;32m   1042\u001b[0m     \u001b[0mmodified\u001b[0m \u001b[0;32mwith\u001b[0m\u001b[0;31m \u001b[0m\u001b[0;31m`\u001b[0m\u001b[0;31m`\u001b[0m\u001b[0mzero_division\u001b[0m\u001b[0;31m`\u001b[0m\u001b[0;31m`\u001b[0m\u001b[0;34m.\u001b[0m\u001b[0;34m\u001b[0m\u001b[0;34m\u001b[0m\u001b[0m\n\u001b[1;32m   1043\u001b[0m     \"\"\"\n\u001b[0;32m-> 1044\u001b[0;31m     return fbeta_score(y_true, y_pred, beta=1, labels=labels,\n\u001b[0m\u001b[1;32m   1045\u001b[0m                        \u001b[0mpos_label\u001b[0m\u001b[0;34m=\u001b[0m\u001b[0mpos_label\u001b[0m\u001b[0;34m,\u001b[0m \u001b[0maverage\u001b[0m\u001b[0;34m=\u001b[0m\u001b[0maverage\u001b[0m\u001b[0;34m,\u001b[0m\u001b[0;34m\u001b[0m\u001b[0;34m\u001b[0m\u001b[0m\n\u001b[1;32m   1046\u001b[0m                        \u001b[0msample_weight\u001b[0m\u001b[0;34m=\u001b[0m\u001b[0msample_weight\u001b[0m\u001b[0;34m,\u001b[0m\u001b[0;34m\u001b[0m\u001b[0;34m\u001b[0m\u001b[0m\n",
      "\u001b[0;32m/Applications/anaconda3/envs/learn-env/lib/python3.8/site-packages/sklearn/utils/validation.py\u001b[0m in \u001b[0;36minner_f\u001b[0;34m(*args, **kwargs)\u001b[0m\n\u001b[1;32m     70\u001b[0m                           FutureWarning)\n\u001b[1;32m     71\u001b[0m         \u001b[0mkwargs\u001b[0m\u001b[0;34m.\u001b[0m\u001b[0mupdate\u001b[0m\u001b[0;34m(\u001b[0m\u001b[0;34m{\u001b[0m\u001b[0mk\u001b[0m\u001b[0;34m:\u001b[0m \u001b[0marg\u001b[0m \u001b[0;32mfor\u001b[0m \u001b[0mk\u001b[0m\u001b[0;34m,\u001b[0m \u001b[0marg\u001b[0m \u001b[0;32min\u001b[0m \u001b[0mzip\u001b[0m\u001b[0;34m(\u001b[0m\u001b[0msig\u001b[0m\u001b[0;34m.\u001b[0m\u001b[0mparameters\u001b[0m\u001b[0;34m,\u001b[0m \u001b[0margs\u001b[0m\u001b[0;34m)\u001b[0m\u001b[0;34m}\u001b[0m\u001b[0;34m)\u001b[0m\u001b[0;34m\u001b[0m\u001b[0;34m\u001b[0m\u001b[0m\n\u001b[0;32m---> 72\u001b[0;31m         \u001b[0;32mreturn\u001b[0m \u001b[0mf\u001b[0m\u001b[0;34m(\u001b[0m\u001b[0;34m**\u001b[0m\u001b[0mkwargs\u001b[0m\u001b[0;34m)\u001b[0m\u001b[0;34m\u001b[0m\u001b[0;34m\u001b[0m\u001b[0m\n\u001b[0m\u001b[1;32m     73\u001b[0m     \u001b[0;32mreturn\u001b[0m \u001b[0minner_f\u001b[0m\u001b[0;34m\u001b[0m\u001b[0;34m\u001b[0m\u001b[0m\n\u001b[1;32m     74\u001b[0m \u001b[0;34m\u001b[0m\u001b[0m\n",
      "\u001b[0;32m/Applications/anaconda3/envs/learn-env/lib/python3.8/site-packages/sklearn/metrics/_classification.py\u001b[0m in \u001b[0;36mfbeta_score\u001b[0;34m(y_true, y_pred, beta, labels, pos_label, average, sample_weight, zero_division)\u001b[0m\n\u001b[1;32m   1166\u001b[0m     \"\"\"\n\u001b[1;32m   1167\u001b[0m \u001b[0;34m\u001b[0m\u001b[0m\n\u001b[0;32m-> 1168\u001b[0;31m     _, _, f, _ = precision_recall_fscore_support(y_true, y_pred,\n\u001b[0m\u001b[1;32m   1169\u001b[0m                                                  \u001b[0mbeta\u001b[0m\u001b[0;34m=\u001b[0m\u001b[0mbeta\u001b[0m\u001b[0;34m,\u001b[0m\u001b[0;34m\u001b[0m\u001b[0;34m\u001b[0m\u001b[0m\n\u001b[1;32m   1170\u001b[0m                                                  \u001b[0mlabels\u001b[0m\u001b[0;34m=\u001b[0m\u001b[0mlabels\u001b[0m\u001b[0;34m,\u001b[0m\u001b[0;34m\u001b[0m\u001b[0;34m\u001b[0m\u001b[0m\n",
      "\u001b[0;32m/Applications/anaconda3/envs/learn-env/lib/python3.8/site-packages/sklearn/utils/validation.py\u001b[0m in \u001b[0;36minner_f\u001b[0;34m(*args, **kwargs)\u001b[0m\n\u001b[1;32m     70\u001b[0m                           FutureWarning)\n\u001b[1;32m     71\u001b[0m         \u001b[0mkwargs\u001b[0m\u001b[0;34m.\u001b[0m\u001b[0mupdate\u001b[0m\u001b[0;34m(\u001b[0m\u001b[0;34m{\u001b[0m\u001b[0mk\u001b[0m\u001b[0;34m:\u001b[0m \u001b[0marg\u001b[0m \u001b[0;32mfor\u001b[0m \u001b[0mk\u001b[0m\u001b[0;34m,\u001b[0m \u001b[0marg\u001b[0m \u001b[0;32min\u001b[0m \u001b[0mzip\u001b[0m\u001b[0;34m(\u001b[0m\u001b[0msig\u001b[0m\u001b[0;34m.\u001b[0m\u001b[0mparameters\u001b[0m\u001b[0;34m,\u001b[0m \u001b[0margs\u001b[0m\u001b[0;34m)\u001b[0m\u001b[0;34m}\u001b[0m\u001b[0;34m)\u001b[0m\u001b[0;34m\u001b[0m\u001b[0;34m\u001b[0m\u001b[0m\n\u001b[0;32m---> 72\u001b[0;31m         \u001b[0;32mreturn\u001b[0m \u001b[0mf\u001b[0m\u001b[0;34m(\u001b[0m\u001b[0;34m**\u001b[0m\u001b[0mkwargs\u001b[0m\u001b[0;34m)\u001b[0m\u001b[0;34m\u001b[0m\u001b[0;34m\u001b[0m\u001b[0m\n\u001b[0m\u001b[1;32m     73\u001b[0m     \u001b[0;32mreturn\u001b[0m \u001b[0minner_f\u001b[0m\u001b[0;34m\u001b[0m\u001b[0;34m\u001b[0m\u001b[0m\n\u001b[1;32m     74\u001b[0m \u001b[0;34m\u001b[0m\u001b[0m\n",
      "\u001b[0;32m/Applications/anaconda3/envs/learn-env/lib/python3.8/site-packages/sklearn/metrics/_classification.py\u001b[0m in \u001b[0;36mprecision_recall_fscore_support\u001b[0;34m(y_true, y_pred, beta, labels, pos_label, average, warn_for, sample_weight, zero_division)\u001b[0m\n\u001b[1;32m   1431\u001b[0m     \u001b[0;32mif\u001b[0m \u001b[0mbeta\u001b[0m \u001b[0;34m<\u001b[0m \u001b[0;36m0\u001b[0m\u001b[0;34m:\u001b[0m\u001b[0;34m\u001b[0m\u001b[0;34m\u001b[0m\u001b[0m\n\u001b[1;32m   1432\u001b[0m         \u001b[0;32mraise\u001b[0m \u001b[0mValueError\u001b[0m\u001b[0;34m(\u001b[0m\u001b[0;34m\"beta should be >=0 in the F-beta score\"\u001b[0m\u001b[0;34m)\u001b[0m\u001b[0;34m\u001b[0m\u001b[0;34m\u001b[0m\u001b[0m\n\u001b[0;32m-> 1433\u001b[0;31m     labels = _check_set_wise_labels(y_true, y_pred, average, labels,\n\u001b[0m\u001b[1;32m   1434\u001b[0m                                     pos_label)\n\u001b[1;32m   1435\u001b[0m \u001b[0;34m\u001b[0m\u001b[0m\n",
      "\u001b[0;32m/Applications/anaconda3/envs/learn-env/lib/python3.8/site-packages/sklearn/metrics/_classification.py\u001b[0m in \u001b[0;36m_check_set_wise_labels\u001b[0;34m(y_true, y_pred, average, labels, pos_label)\u001b[0m\n\u001b[1;32m   1248\u001b[0m                          str(average_options))\n\u001b[1;32m   1249\u001b[0m \u001b[0;34m\u001b[0m\u001b[0m\n\u001b[0;32m-> 1250\u001b[0;31m     \u001b[0my_type\u001b[0m\u001b[0;34m,\u001b[0m \u001b[0my_true\u001b[0m\u001b[0;34m,\u001b[0m \u001b[0my_pred\u001b[0m \u001b[0;34m=\u001b[0m \u001b[0m_check_targets\u001b[0m\u001b[0;34m(\u001b[0m\u001b[0my_true\u001b[0m\u001b[0;34m,\u001b[0m \u001b[0my_pred\u001b[0m\u001b[0;34m)\u001b[0m\u001b[0;34m\u001b[0m\u001b[0;34m\u001b[0m\u001b[0m\n\u001b[0m\u001b[1;32m   1251\u001b[0m     \u001b[0mpresent_labels\u001b[0m \u001b[0;34m=\u001b[0m \u001b[0munique_labels\u001b[0m\u001b[0;34m(\u001b[0m\u001b[0my_true\u001b[0m\u001b[0;34m,\u001b[0m \u001b[0my_pred\u001b[0m\u001b[0;34m)\u001b[0m\u001b[0;34m\u001b[0m\u001b[0;34m\u001b[0m\u001b[0m\n\u001b[1;32m   1252\u001b[0m     \u001b[0;32mif\u001b[0m \u001b[0maverage\u001b[0m \u001b[0;34m==\u001b[0m \u001b[0;34m'binary'\u001b[0m\u001b[0;34m:\u001b[0m\u001b[0;34m\u001b[0m\u001b[0;34m\u001b[0m\u001b[0m\n",
      "\u001b[0;32m/Applications/anaconda3/envs/learn-env/lib/python3.8/site-packages/sklearn/metrics/_classification.py\u001b[0m in \u001b[0;36m_check_targets\u001b[0;34m(y_true, y_pred)\u001b[0m\n\u001b[1;32m     88\u001b[0m \u001b[0;34m\u001b[0m\u001b[0m\n\u001b[1;32m     89\u001b[0m     \u001b[0;32mif\u001b[0m \u001b[0mlen\u001b[0m\u001b[0;34m(\u001b[0m\u001b[0my_type\u001b[0m\u001b[0;34m)\u001b[0m \u001b[0;34m>\u001b[0m \u001b[0;36m1\u001b[0m\u001b[0;34m:\u001b[0m\u001b[0;34m\u001b[0m\u001b[0;34m\u001b[0m\u001b[0m\n\u001b[0;32m---> 90\u001b[0;31m         raise ValueError(\"Classification metrics can't handle a mix of {0} \"\n\u001b[0m\u001b[1;32m     91\u001b[0m                          \"and {1} targets\".format(type_true, type_pred))\n\u001b[1;32m     92\u001b[0m \u001b[0;34m\u001b[0m\u001b[0m\n",
      "\u001b[0;31mValueError\u001b[0m: Classification metrics can't handle a mix of multilabel-indicator and multiclass targets"
     ]
    }
   ],
   "source": [
    "keras_score = f1_score(y_test, y_pred, average='micro')\n",
    "keras_score"
   ]
  },
  {
   "cell_type": "markdown",
   "metadata": {},
   "source": [
    "### Export the model"
   ]
  },
  {
   "cell_type": "code",
   "execution_count": 459,
   "metadata": {},
   "outputs": [
    {
     "name": "stdout",
     "output_type": "stream",
     "text": [
      "WARNING:tensorflow:From /Applications/anaconda3/envs/learn-env/lib/python3.8/site-packages/tensorflow/python/training/tracking/tracking.py:111: Model.state_updates (from tensorflow.python.keras.engine.training) is deprecated and will be removed in a future version.\n",
      "Instructions for updating:\n",
      "This property should not be used in TensorFlow 2.0, as updates are applied automatically.\n",
      "WARNING:tensorflow:From /Applications/anaconda3/envs/learn-env/lib/python3.8/site-packages/tensorflow/python/training/tracking/tracking.py:111: Layer.updates (from tensorflow.python.keras.engine.base_layer) is deprecated and will be removed in a future version.\n",
      "Instructions for updating:\n",
      "This property should not be used in TensorFlow 2.0, as updates are applied automatically.\n",
      "INFO:tensorflow:Assets written to: ../Models/keras0/assets\n"
     ]
    }
   ],
   "source": [
    "keras0.save('../Models/keras0')"
   ]
  },
  {
   "cell_type": "code",
   "execution_count": null,
   "metadata": {},
   "outputs": [],
   "source": []
  }
 ],
 "metadata": {
  "kernelspec": {
   "display_name": "Python (learn-env)",
   "language": "python",
   "name": "learn-env"
  },
  "language_info": {
   "codemirror_mode": {
    "name": "ipython",
    "version": 3
   },
   "file_extension": ".py",
   "mimetype": "text/x-python",
   "name": "python",
   "nbconvert_exporter": "python",
   "pygments_lexer": "ipython3",
   "version": "3.8.5"
  }
 },
 "nbformat": 4,
 "nbformat_minor": 4
}
