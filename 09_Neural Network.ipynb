{
 "cells": [
  {
   "cell_type": "code",
   "execution_count": 229,
   "metadata": {},
   "outputs": [],
   "source": [
    "from sklearn import datasets\n",
    "import pandas as pd\n",
    "import numpy as np\n",
    "\n",
    "from keras.models import Sequential\n",
    "from keras.layers import Dense\n",
    "from keras.wrappers.scikit_learn import KerasClassifier\n",
    "from keras.utils import np_utils\n",
    "\n",
    "from sklearn.model_selection import cross_val_score\n",
    "from sklearn.model_selection import KFold\n",
    "from sklearn.preprocessing import LabelEncoder, StandardScaler, OneHotEncoder, FunctionTransformer\n",
    "from sklearn.metrics import f1_score, plot_confusion_matrix, confusion_matrix\n",
    "from sklearn.compose import ColumnTransformer\n",
    "\n",
    "from imblearn.pipeline import Pipeline as imbPipeline\n",
    "\n",
    "from category_encoders import TargetEncoder\n",
    "\n",
    "import warnings\n",
    "warnings.filterwarnings('ignore')"
   ]
  },
  {
   "cell_type": "code",
   "execution_count": 124,
   "metadata": {},
   "outputs": [],
   "source": [
    "iris = datasets.load_iris()\n",
    "X = iris.data\n",
    "y = iris.target"
   ]
  },
  {
   "cell_type": "code",
   "execution_count": 125,
   "metadata": {},
   "outputs": [
    {
     "data": {
      "text/plain": [
       "array([0, 0, 0, 0, 0, 0, 0, 0, 0, 0, 0, 0, 0, 0, 0, 0, 0, 0, 0, 0, 0, 0,\n",
       "       0, 0, 0, 0, 0, 0, 0, 0, 0, 0, 0, 0, 0, 0, 0, 0, 0, 0, 0, 0, 0, 0,\n",
       "       0, 0, 0, 0, 0, 0, 1, 1, 1, 1, 1, 1, 1, 1, 1, 1, 1, 1, 1, 1, 1, 1,\n",
       "       1, 1, 1, 1, 1, 1, 1, 1, 1, 1, 1, 1, 1, 1, 1, 1, 1, 1, 1, 1, 1, 1,\n",
       "       1, 1, 1, 1, 1, 1, 1, 1, 1, 1, 1, 1, 2, 2, 2, 2, 2, 2, 2, 2, 2, 2,\n",
       "       2, 2, 2, 2, 2, 2, 2, 2, 2, 2, 2, 2, 2, 2, 2, 2, 2, 2, 2, 2, 2, 2,\n",
       "       2, 2, 2, 2, 2, 2, 2, 2, 2, 2, 2, 2, 2, 2, 2, 2, 2, 2])"
      ]
     },
     "execution_count": 125,
     "metadata": {},
     "output_type": "execute_result"
    }
   ],
   "source": [
    "y"
   ]
  },
  {
   "cell_type": "code",
   "execution_count": 112,
   "metadata": {},
   "outputs": [],
   "source": [
    "df = pd.DataFrame(X)\n",
    "df1 = pd.DataFrame(y, columns=['target'])"
   ]
  },
  {
   "cell_type": "code",
   "execution_count": 113,
   "metadata": {},
   "outputs": [],
   "source": [
    "df = df.join(df1)"
   ]
  },
  {
   "cell_type": "code",
   "execution_count": 114,
   "metadata": {},
   "outputs": [],
   "source": [
    "X = df.drop('target', axis=1)\n",
    "y = [df.target]"
   ]
  },
  {
   "cell_type": "code",
   "execution_count": 128,
   "metadata": {},
   "outputs": [
    {
     "data": {
      "text/plain": [
       "array([[0, 0, 0, 0, 0, 0, 0, 0, 0, 0, 0, 0, 0, 0, 0, 0, 0, 0, 0, 0, 0, 0,\n",
       "        0, 0, 0, 0, 0, 0, 0, 0, 0, 0, 0, 0, 0, 0, 0, 0, 0, 0, 0, 0, 0, 0,\n",
       "        0, 0, 0, 0, 0, 0, 1, 1, 1, 1, 1, 1, 1, 1, 1, 1, 1, 1, 1, 1, 1, 1,\n",
       "        1, 1, 1, 1, 1, 1, 1, 1, 1, 1, 1, 1, 1, 1, 1, 1, 1, 1, 1, 1, 1, 1,\n",
       "        1, 1, 1, 1, 1, 1, 1, 1, 1, 1, 1, 1, 2, 2, 2, 2, 2, 2, 2, 2, 2, 2,\n",
       "        2, 2, 2, 2, 2, 2, 2, 2, 2, 2, 2, 2, 2, 2, 2, 2, 2, 2, 2, 2, 2, 2,\n",
       "        2, 2, 2, 2, 2, 2, 2, 2, 2, 2, 2, 2, 2, 2, 2, 2, 2, 2]])"
      ]
     },
     "execution_count": 128,
     "metadata": {},
     "output_type": "execute_result"
    }
   ],
   "source": [
    "y.reshape(1,-1)"
   ]
  },
  {
   "cell_type": "code",
   "execution_count": 129,
   "metadata": {},
   "outputs": [],
   "source": [
    "#ohe = OneHotEncoder()\n",
    "#y_encoded = ohe.fit_transform([y])"
   ]
  },
  {
   "cell_type": "code",
   "execution_count": 130,
   "metadata": {},
   "outputs": [],
   "source": [
    "dummy_y = np_utils.to_categorical(y)"
   ]
  },
  {
   "cell_type": "code",
   "execution_count": 131,
   "metadata": {},
   "outputs": [
    {
     "data": {
      "text/plain": [
       "array([[1., 0., 0.],\n",
       "       [1., 0., 0.],\n",
       "       [1., 0., 0.],\n",
       "       [1., 0., 0.],\n",
       "       [1., 0., 0.],\n",
       "       [1., 0., 0.],\n",
       "       [1., 0., 0.],\n",
       "       [1., 0., 0.],\n",
       "       [1., 0., 0.],\n",
       "       [1., 0., 0.],\n",
       "       [1., 0., 0.],\n",
       "       [1., 0., 0.],\n",
       "       [1., 0., 0.],\n",
       "       [1., 0., 0.],\n",
       "       [1., 0., 0.],\n",
       "       [1., 0., 0.],\n",
       "       [1., 0., 0.],\n",
       "       [1., 0., 0.],\n",
       "       [1., 0., 0.],\n",
       "       [1., 0., 0.],\n",
       "       [1., 0., 0.],\n",
       "       [1., 0., 0.],\n",
       "       [1., 0., 0.],\n",
       "       [1., 0., 0.],\n",
       "       [1., 0., 0.],\n",
       "       [1., 0., 0.],\n",
       "       [1., 0., 0.],\n",
       "       [1., 0., 0.],\n",
       "       [1., 0., 0.],\n",
       "       [1., 0., 0.],\n",
       "       [1., 0., 0.],\n",
       "       [1., 0., 0.],\n",
       "       [1., 0., 0.],\n",
       "       [1., 0., 0.],\n",
       "       [1., 0., 0.],\n",
       "       [1., 0., 0.],\n",
       "       [1., 0., 0.],\n",
       "       [1., 0., 0.],\n",
       "       [1., 0., 0.],\n",
       "       [1., 0., 0.],\n",
       "       [1., 0., 0.],\n",
       "       [1., 0., 0.],\n",
       "       [1., 0., 0.],\n",
       "       [1., 0., 0.],\n",
       "       [1., 0., 0.],\n",
       "       [1., 0., 0.],\n",
       "       [1., 0., 0.],\n",
       "       [1., 0., 0.],\n",
       "       [1., 0., 0.],\n",
       "       [1., 0., 0.],\n",
       "       [0., 1., 0.],\n",
       "       [0., 1., 0.],\n",
       "       [0., 1., 0.],\n",
       "       [0., 1., 0.],\n",
       "       [0., 1., 0.],\n",
       "       [0., 1., 0.],\n",
       "       [0., 1., 0.],\n",
       "       [0., 1., 0.],\n",
       "       [0., 1., 0.],\n",
       "       [0., 1., 0.],\n",
       "       [0., 1., 0.],\n",
       "       [0., 1., 0.],\n",
       "       [0., 1., 0.],\n",
       "       [0., 1., 0.],\n",
       "       [0., 1., 0.],\n",
       "       [0., 1., 0.],\n",
       "       [0., 1., 0.],\n",
       "       [0., 1., 0.],\n",
       "       [0., 1., 0.],\n",
       "       [0., 1., 0.],\n",
       "       [0., 1., 0.],\n",
       "       [0., 1., 0.],\n",
       "       [0., 1., 0.],\n",
       "       [0., 1., 0.],\n",
       "       [0., 1., 0.],\n",
       "       [0., 1., 0.],\n",
       "       [0., 1., 0.],\n",
       "       [0., 1., 0.],\n",
       "       [0., 1., 0.],\n",
       "       [0., 1., 0.],\n",
       "       [0., 1., 0.],\n",
       "       [0., 1., 0.],\n",
       "       [0., 1., 0.],\n",
       "       [0., 1., 0.],\n",
       "       [0., 1., 0.],\n",
       "       [0., 1., 0.],\n",
       "       [0., 1., 0.],\n",
       "       [0., 1., 0.],\n",
       "       [0., 1., 0.],\n",
       "       [0., 1., 0.],\n",
       "       [0., 1., 0.],\n",
       "       [0., 1., 0.],\n",
       "       [0., 1., 0.],\n",
       "       [0., 1., 0.],\n",
       "       [0., 1., 0.],\n",
       "       [0., 1., 0.],\n",
       "       [0., 1., 0.],\n",
       "       [0., 1., 0.],\n",
       "       [0., 1., 0.],\n",
       "       [0., 1., 0.],\n",
       "       [0., 0., 1.],\n",
       "       [0., 0., 1.],\n",
       "       [0., 0., 1.],\n",
       "       [0., 0., 1.],\n",
       "       [0., 0., 1.],\n",
       "       [0., 0., 1.],\n",
       "       [0., 0., 1.],\n",
       "       [0., 0., 1.],\n",
       "       [0., 0., 1.],\n",
       "       [0., 0., 1.],\n",
       "       [0., 0., 1.],\n",
       "       [0., 0., 1.],\n",
       "       [0., 0., 1.],\n",
       "       [0., 0., 1.],\n",
       "       [0., 0., 1.],\n",
       "       [0., 0., 1.],\n",
       "       [0., 0., 1.],\n",
       "       [0., 0., 1.],\n",
       "       [0., 0., 1.],\n",
       "       [0., 0., 1.],\n",
       "       [0., 0., 1.],\n",
       "       [0., 0., 1.],\n",
       "       [0., 0., 1.],\n",
       "       [0., 0., 1.],\n",
       "       [0., 0., 1.],\n",
       "       [0., 0., 1.],\n",
       "       [0., 0., 1.],\n",
       "       [0., 0., 1.],\n",
       "       [0., 0., 1.],\n",
       "       [0., 0., 1.],\n",
       "       [0., 0., 1.],\n",
       "       [0., 0., 1.],\n",
       "       [0., 0., 1.],\n",
       "       [0., 0., 1.],\n",
       "       [0., 0., 1.],\n",
       "       [0., 0., 1.],\n",
       "       [0., 0., 1.],\n",
       "       [0., 0., 1.],\n",
       "       [0., 0., 1.],\n",
       "       [0., 0., 1.],\n",
       "       [0., 0., 1.],\n",
       "       [0., 0., 1.],\n",
       "       [0., 0., 1.],\n",
       "       [0., 0., 1.],\n",
       "       [0., 0., 1.],\n",
       "       [0., 0., 1.],\n",
       "       [0., 0., 1.],\n",
       "       [0., 0., 1.],\n",
       "       [0., 0., 1.],\n",
       "       [0., 0., 1.]], dtype=float32)"
      ]
     },
     "execution_count": 131,
     "metadata": {},
     "output_type": "execute_result"
    }
   ],
   "source": [
    "dummy_y"
   ]
  },
  {
   "cell_type": "code",
   "execution_count": 132,
   "metadata": {},
   "outputs": [],
   "source": [
    "model = Sequential()\n",
    "model.add(Dense(8, input_dim=4, activation='relu'))\n",
    "model.add(Dense(3, activation='softmax'))"
   ]
  },
  {
   "cell_type": "code",
   "execution_count": 133,
   "metadata": {},
   "outputs": [],
   "source": [
    "# Compile model\n",
    "model.compile(loss='categorical_crossentropy', optimizer='adam', metrics=['accuracy'])"
   ]
  },
  {
   "cell_type": "code",
   "execution_count": 135,
   "metadata": {},
   "outputs": [
    {
     "name": "stdout",
     "output_type": "stream",
     "text": [
      "Epoch 1/50\n",
      "30/30 [==============================] - 0s 2ms/step - loss: 2.2177 - accuracy: 0.3333\n",
      "Epoch 2/50\n",
      "30/30 [==============================] - 0s 1ms/step - loss: 1.6723 - accuracy: 0.3333\n",
      "Epoch 3/50\n",
      "30/30 [==============================] - 0s 2ms/step - loss: 1.3490 - accuracy: 0.3333\n",
      "Epoch 4/50\n",
      "30/30 [==============================] - 0s 1ms/step - loss: 1.2158 - accuracy: 0.3333\n",
      "Epoch 5/50\n",
      "30/30 [==============================] - 0s 2ms/step - loss: 1.1531 - accuracy: 0.3333\n",
      "Epoch 6/50\n",
      "30/30 [==============================] - 0s 1ms/step - loss: 1.1080 - accuracy: 0.3400\n",
      "Epoch 7/50\n",
      "30/30 [==============================] - 0s 2ms/step - loss: 1.0572 - accuracy: 0.3400\n",
      "Epoch 8/50\n",
      "30/30 [==============================] - 0s 2ms/step - loss: 1.0186 - accuracy: 0.3600\n",
      "Epoch 9/50\n",
      "30/30 [==============================] - 0s 2ms/step - loss: 0.9749 - accuracy: 0.3467\n",
      "Epoch 10/50\n",
      "30/30 [==============================] - 0s 2ms/step - loss: 0.9366 - accuracy: 0.4000\n",
      "Epoch 11/50\n",
      "30/30 [==============================] - 0s 1ms/step - loss: 0.9005 - accuracy: 0.4800\n",
      "Epoch 12/50\n",
      "30/30 [==============================] - 0s 1ms/step - loss: 0.8558 - accuracy: 0.6600\n",
      "Epoch 13/50\n",
      "30/30 [==============================] - 0s 1ms/step - loss: 0.8020 - accuracy: 0.8333\n",
      "Epoch 14/50\n",
      "30/30 [==============================] - 0s 1ms/step - loss: 0.7289 - accuracy: 0.8000\n",
      "Epoch 15/50\n",
      "30/30 [==============================] - 0s 2ms/step - loss: 0.6720 - accuracy: 0.8467\n",
      "Epoch 16/50\n",
      "30/30 [==============================] - 0s 1ms/step - loss: 0.6258 - accuracy: 0.9200\n",
      "Epoch 17/50\n",
      "30/30 [==============================] - 0s 2ms/step - loss: 0.5906 - accuracy: 0.9400\n",
      "Epoch 18/50\n",
      "30/30 [==============================] - 0s 1ms/step - loss: 0.5598 - accuracy: 0.9400\n",
      "Epoch 19/50\n",
      "30/30 [==============================] - 0s 1ms/step - loss: 0.5361 - accuracy: 0.9667\n",
      "Epoch 20/50\n",
      "30/30 [==============================] - 0s 1ms/step - loss: 0.5146 - accuracy: 0.9200\n",
      "Epoch 21/50\n",
      "30/30 [==============================] - 0s 2ms/step - loss: 0.4957 - accuracy: 0.9467\n",
      "Epoch 22/50\n",
      "30/30 [==============================] - 0s 1ms/step - loss: 0.4795 - accuracy: 0.9667\n",
      "Epoch 23/50\n",
      "30/30 [==============================] - 0s 2ms/step - loss: 0.4659 - accuracy: 0.9667\n",
      "Epoch 24/50\n",
      "30/30 [==============================] - 0s 1ms/step - loss: 0.4544 - accuracy: 0.9133\n",
      "Epoch 25/50\n",
      "30/30 [==============================] - 0s 1ms/step - loss: 0.4418 - accuracy: 0.9333\n",
      "Epoch 26/50\n",
      "30/30 [==============================] - 0s 2ms/step - loss: 0.4316 - accuracy: 0.9467\n",
      "Epoch 27/50\n",
      "30/30 [==============================] - 0s 1ms/step - loss: 0.4216 - accuracy: 0.9667\n",
      "Epoch 28/50\n",
      "30/30 [==============================] - 0s 1ms/step - loss: 0.4136 - accuracy: 0.9333\n",
      "Epoch 29/50\n",
      "30/30 [==============================] - 0s 5ms/step - loss: 0.4043 - accuracy: 0.9533\n",
      "Epoch 30/50\n",
      "30/30 [==============================] - 0s 4ms/step - loss: 0.3983 - accuracy: 0.9600\n",
      "Epoch 31/50\n",
      "30/30 [==============================] - 0s 3ms/step - loss: 0.3901 - accuracy: 0.9733\n",
      "Epoch 32/50\n",
      "30/30 [==============================] - 0s 3ms/step - loss: 0.3835 - accuracy: 0.9467\n",
      "Epoch 33/50\n",
      "30/30 [==============================] - 0s 3ms/step - loss: 0.3771 - accuracy: 0.9467\n",
      "Epoch 34/50\n",
      "30/30 [==============================] - 0s 2ms/step - loss: 0.3721 - accuracy: 0.9667\n",
      "Epoch 35/50\n",
      "30/30 [==============================] - 0s 2ms/step - loss: 0.3710 - accuracy: 0.9200\n",
      "Epoch 36/50\n",
      "30/30 [==============================] - 0s 2ms/step - loss: 0.3614 - accuracy: 0.9533\n",
      "Epoch 37/50\n",
      "30/30 [==============================] - 0s 2ms/step - loss: 0.3561 - accuracy: 0.9733\n",
      "Epoch 38/50\n",
      "30/30 [==============================] - 0s 2ms/step - loss: 0.3493 - accuracy: 0.9667\n",
      "Epoch 39/50\n",
      "30/30 [==============================] - 0s 2ms/step - loss: 0.3462 - accuracy: 0.9467\n",
      "Epoch 40/50\n",
      "30/30 [==============================] - 0s 3ms/step - loss: 0.3405 - accuracy: 0.9667\n",
      "Epoch 41/50\n",
      "30/30 [==============================] - 0s 3ms/step - loss: 0.3354 - accuracy: 0.9733\n",
      "Epoch 42/50\n",
      "30/30 [==============================] - 0s 3ms/step - loss: 0.3335 - accuracy: 0.9667\n",
      "Epoch 43/50\n",
      "30/30 [==============================] - 0s 2ms/step - loss: 0.3282 - accuracy: 0.9733\n",
      "Epoch 44/50\n",
      "30/30 [==============================] - 0s 1ms/step - loss: 0.3234 - accuracy: 0.9667\n",
      "Epoch 45/50\n",
      "30/30 [==============================] - 0s 1ms/step - loss: 0.3178 - accuracy: 0.9733\n",
      "Epoch 46/50\n",
      "30/30 [==============================] - 0s 924us/step - loss: 0.3142 - accuracy: 0.9533\n",
      "Epoch 47/50\n",
      "30/30 [==============================] - 0s 1ms/step - loss: 0.3116 - accuracy: 0.9667\n",
      "Epoch 48/50\n",
      "30/30 [==============================] - 0s 992us/step - loss: 0.3069 - accuracy: 0.9667\n",
      "Epoch 49/50\n",
      "30/30 [==============================] - 0s 1ms/step - loss: 0.3051 - accuracy: 0.9600\n",
      "Epoch 50/50\n",
      "30/30 [==============================] - 0s 1ms/step - loss: 0.2969 - accuracy: 0.9733\n"
     ]
    },
    {
     "data": {
      "text/plain": [
       "<tensorflow.python.keras.callbacks.History at 0x7fb239971c70>"
      ]
     },
     "execution_count": 135,
     "metadata": {},
     "output_type": "execute_result"
    }
   ],
   "source": [
    "model.fit(X, dummy_y, epochs=50, batch_size=5)"
   ]
  },
  {
   "cell_type": "markdown",
   "metadata": {},
   "source": [
    "# Neural Network"
   ]
  },
  {
   "cell_type": "code",
   "execution_count": 226,
   "metadata": {},
   "outputs": [],
   "source": [
    "X_train = pd.read_csv('Data/X_train.csv', index_col='building_id')\n",
    "X_test = pd.read_csv('Data/X_test.csv', index_col='building_id')\n",
    "y_train = pd.read_csv('Data/y_train.csv', index_col='building_id')\n",
    "y_test = pd.read_csv('Data/y_test.csv', index_col='building_id')"
   ]
  },
  {
   "cell_type": "code",
   "execution_count": 143,
   "metadata": {},
   "outputs": [
    {
     "data": {
      "text/plain": [
       "array([[2, 2, 2, ..., 2, 3, 2]])"
      ]
     },
     "execution_count": 143,
     "metadata": {},
     "output_type": "execute_result"
    }
   ],
   "source": [
    "y_train.values.reshape(1, -1)"
   ]
  },
  {
   "cell_type": "code",
   "execution_count": 165,
   "metadata": {},
   "outputs": [],
   "source": [
    "y_train['target'] = y_train.damage_grade.apply(lambda x: x - 1)"
   ]
  },
  {
   "cell_type": "code",
   "execution_count": 178,
   "metadata": {},
   "outputs": [],
   "source": [
    "dummy_y_train = np_utils.to_categorical(y_train.target)"
   ]
  },
  {
   "cell_type": "code",
   "execution_count": 179,
   "metadata": {},
   "outputs": [
    {
     "data": {
      "text/plain": [
       "(195450, 3)"
      ]
     },
     "execution_count": 179,
     "metadata": {},
     "output_type": "execute_result"
    }
   ],
   "source": [
    "dummy_y_train.shape"
   ]
  },
  {
   "cell_type": "markdown",
   "metadata": {},
   "source": [
    "### Column Transformer"
   ]
  },
  {
   "cell_type": "code",
   "execution_count": 217,
   "metadata": {},
   "outputs": [],
   "source": [
    "binary_cols = []\n",
    "for col in X_train.columns:\n",
    "    if col.startswith('has'):\n",
    "        binary_cols.append(col)\n",
    "\n",
    "cat_cols = list(X_train.select_dtypes(include='object').columns)\n",
    "\n",
    "integer_cols = ['count_floors_pre_eq', 'age', 'area_percentage', 'height_percentage', 'count_families']\n",
    "\n",
    "geo_cols = ['geo_level_1_id', 'geo_level_2_id', 'geo_level_3_id']\n",
    "\n",
    "all_cols = geo_cols + cat_cols + integer_cols + binary_cols"
   ]
  },
  {
   "cell_type": "code",
   "execution_count": 218,
   "metadata": {},
   "outputs": [],
   "source": [
    "binary_cols_dropped = binary_cols.copy()\n",
    "for col in binary_cols_dropped:\n",
    "    if col.startswith('has_secondary'):\n",
    "        binary_cols_dropped.remove(col)\n",
    "binary_cols_dropped.append('has_secondary_use')\n",
    "\n",
    "cat_cols_dropped = cat_cols.copy()\n",
    "cat_cols_dropped.remove('legal_ownership_status')\n",
    "cat_cols_dropped.remove('plan_configuration')"
   ]
  },
  {
   "cell_type": "code",
   "execution_count": 219,
   "metadata": {},
   "outputs": [],
   "source": [
    "def log_transform(x):\n",
    "    return np.log(x+1)"
   ]
  },
  {
   "cell_type": "code",
   "execution_count": 224,
   "metadata": {},
   "outputs": [],
   "source": [
    "function_transformer = FunctionTransformer(log_transform)\n",
    "\n",
    "ohe_pipe = imbPipeline([('ohe', OneHotEncoder(sparse=False, handle_unknown='ignore'))])\n",
    "integer_pipe = imbPipeline([\n",
    "    ('function', function_transformer),\n",
    "    ('ss', StandardScaler())\n",
    "])\n",
    "target_pipe = imbPipeline([('target', TargetEncoder(cols=geo_cols))])\n",
    "\n",
    "transformer = ColumnTransformer([\n",
    "    ('binary', 'passthrough', binary_cols_dropped),\n",
    "    ('categorical', ohe_pipe, cat_cols_dropped),\n",
    "    ('geo', target_pipe, geo_cols),\n",
    "    ('integer', integer_pipe, integer_cols),\n",
    "])"
   ]
  },
  {
   "cell_type": "code",
   "execution_count": 230,
   "metadata": {},
   "outputs": [],
   "source": [
    "transformed_X_train = transformer.fit_transform(X_train, y_train)"
   ]
  },
  {
   "cell_type": "code",
   "execution_count": 232,
   "metadata": {},
   "outputs": [
    {
     "data": {
      "text/plain": [
       "(195450, 49)"
      ]
     },
     "execution_count": 232,
     "metadata": {},
     "output_type": "execute_result"
    }
   ],
   "source": [
    "transformed_X_train.shape"
   ]
  },
  {
   "cell_type": "code",
   "execution_count": 234,
   "metadata": {},
   "outputs": [],
   "source": [
    "model = Sequential()\n",
    "model.add(Dense(8, input_dim=49, activation='relu'))\n",
    "model.add(Dense(3, activation='softmax'))"
   ]
  },
  {
   "cell_type": "code",
   "execution_count": 235,
   "metadata": {},
   "outputs": [],
   "source": [
    "# Compile model\n",
    "model.compile(loss='categorical_crossentropy', optimizer='adam', metrics=['accuracy'])"
   ]
  },
  {
   "cell_type": "code",
   "execution_count": null,
   "metadata": {},
   "outputs": [],
   "source": []
  },
  {
   "cell_type": "code",
   "execution_count": 237,
   "metadata": {
    "scrolled": true
   },
   "outputs": [
    {
     "name": "stdout",
     "output_type": "stream",
     "text": [
      "Epoch 1/50\n",
      "196/196 [==============================] - 0s 1ms/step - loss: 0.8871 - accuracy: 0.5528\n",
      "Epoch 2/50\n",
      "196/196 [==============================] - 0s 1ms/step - loss: 0.7773 - accuracy: 0.6382\n",
      "Epoch 3/50\n",
      "196/196 [==============================] - 0s 1ms/step - loss: 0.7283 - accuracy: 0.6790\n",
      "Epoch 4/50\n",
      "196/196 [==============================] - 0s 1ms/step - loss: 0.6850 - accuracy: 0.7081\n",
      "Epoch 5/50\n",
      "196/196 [==============================] - 0s 1ms/step - loss: 0.6480 - accuracy: 0.7244\n",
      "Epoch 6/50\n",
      "196/196 [==============================] - 0s 1ms/step - loss: 0.6218 - accuracy: 0.7326\n",
      "Epoch 7/50\n",
      "196/196 [==============================] - 0s 1ms/step - loss: 0.6059 - accuracy: 0.7362\n",
      "Epoch 8/50\n",
      "196/196 [==============================] - 0s 1ms/step - loss: 0.5966 - accuracy: 0.7387\n",
      "Epoch 9/50\n",
      "196/196 [==============================] - 0s 2ms/step - loss: 0.5911 - accuracy: 0.7404\n",
      "Epoch 10/50\n",
      "196/196 [==============================] - 0s 2ms/step - loss: 0.5877 - accuracy: 0.7426\n",
      "Epoch 11/50\n",
      "196/196 [==============================] - 0s 1ms/step - loss: 0.5854 - accuracy: 0.7433\n",
      "Epoch 12/50\n",
      "196/196 [==============================] - 0s 1ms/step - loss: 0.5838 - accuracy: 0.7440\n",
      "Epoch 13/50\n",
      "196/196 [==============================] - 0s 1ms/step - loss: 0.5825 - accuracy: 0.7447\n",
      "Epoch 14/50\n",
      "196/196 [==============================] - 0s 1ms/step - loss: 0.5818 - accuracy: 0.7449\n",
      "Epoch 15/50\n",
      "196/196 [==============================] - 0s 1ms/step - loss: 0.5811 - accuracy: 0.7450\n",
      "Epoch 16/50\n",
      "196/196 [==============================] - 0s 1ms/step - loss: 0.5804 - accuracy: 0.7452\n",
      "Epoch 17/50\n",
      "196/196 [==============================] - 0s 1ms/step - loss: 0.5796 - accuracy: 0.7453\n",
      "Epoch 18/50\n",
      "196/196 [==============================] - 0s 1ms/step - loss: 0.5791 - accuracy: 0.7457\n",
      "Epoch 19/50\n",
      "196/196 [==============================] - 0s 1ms/step - loss: 0.5786 - accuracy: 0.7460\n",
      "Epoch 20/50\n",
      "196/196 [==============================] - 0s 1ms/step - loss: 0.5781 - accuracy: 0.7459\n",
      "Epoch 21/50\n",
      "196/196 [==============================] - 0s 1ms/step - loss: 0.5779 - accuracy: 0.7459\n",
      "Epoch 22/50\n",
      "196/196 [==============================] - 0s 1ms/step - loss: 0.5774 - accuracy: 0.7462\n",
      "Epoch 23/50\n",
      "196/196 [==============================] - 0s 1ms/step - loss: 0.5770 - accuracy: 0.7463\n",
      "Epoch 24/50\n",
      "196/196 [==============================] - 0s 2ms/step - loss: 0.5766 - accuracy: 0.7461\n",
      "Epoch 25/50\n",
      "196/196 [==============================] - 0s 2ms/step - loss: 0.5761 - accuracy: 0.7464\n",
      "Epoch 26/50\n",
      "196/196 [==============================] - 0s 1ms/step - loss: 0.5758 - accuracy: 0.7466\n",
      "Epoch 27/50\n",
      "196/196 [==============================] - 0s 1ms/step - loss: 0.5754 - accuracy: 0.7466\n",
      "Epoch 28/50\n",
      "196/196 [==============================] - 0s 1ms/step - loss: 0.5750 - accuracy: 0.7467\n",
      "Epoch 29/50\n",
      "196/196 [==============================] - 0s 1ms/step - loss: 0.5748 - accuracy: 0.7465\n",
      "Epoch 30/50\n",
      "196/196 [==============================] - 0s 2ms/step - loss: 0.5743 - accuracy: 0.7470\n",
      "Epoch 31/50\n",
      "196/196 [==============================] - 0s 2ms/step - loss: 0.5742 - accuracy: 0.7471\n",
      "Epoch 32/50\n",
      "196/196 [==============================] - 0s 1ms/step - loss: 0.5739 - accuracy: 0.7464\n",
      "Epoch 33/50\n",
      "196/196 [==============================] - 0s 1ms/step - loss: 0.5735 - accuracy: 0.7469\n",
      "Epoch 34/50\n",
      "196/196 [==============================] - 0s 1ms/step - loss: 0.5734 - accuracy: 0.7467\n",
      "Epoch 35/50\n",
      "196/196 [==============================] - 0s 1ms/step - loss: 0.5729 - accuracy: 0.7469\n",
      "Epoch 36/50\n",
      "196/196 [==============================] - 0s 2ms/step - loss: 0.5727 - accuracy: 0.7469\n",
      "Epoch 37/50\n",
      "196/196 [==============================] - 0s 2ms/step - loss: 0.5723 - accuracy: 0.7474\n",
      "Epoch 38/50\n",
      "196/196 [==============================] - 0s 1ms/step - loss: 0.5719 - accuracy: 0.7476\n",
      "Epoch 39/50\n",
      "196/196 [==============================] - 0s 1ms/step - loss: 0.5715 - accuracy: 0.7471\n",
      "Epoch 40/50\n",
      "196/196 [==============================] - 0s 1ms/step - loss: 0.5713 - accuracy: 0.7473\n",
      "Epoch 41/50\n",
      "196/196 [==============================] - 0s 1ms/step - loss: 0.5711 - accuracy: 0.7475\n",
      "Epoch 42/50\n",
      "196/196 [==============================] - 0s 2ms/step - loss: 0.5709 - accuracy: 0.7475\n",
      "Epoch 43/50\n",
      "196/196 [==============================] - 0s 2ms/step - loss: 0.5708 - accuracy: 0.7473\n",
      "Epoch 44/50\n",
      "196/196 [==============================] - 0s 1ms/step - loss: 0.5704 - accuracy: 0.7473\n",
      "Epoch 45/50\n",
      "196/196 [==============================] - 0s 1ms/step - loss: 0.5703 - accuracy: 0.7473\n",
      "Epoch 46/50\n",
      "196/196 [==============================] - 0s 1ms/step - loss: 0.5700 - accuracy: 0.7476\n",
      "Epoch 47/50\n",
      "196/196 [==============================] - 0s 2ms/step - loss: 0.5698 - accuracy: 0.7478\n",
      "Epoch 48/50\n",
      "196/196 [==============================] - 0s 2ms/step - loss: 0.5695 - accuracy: 0.7474\n",
      "Epoch 49/50\n",
      "196/196 [==============================] - 0s 1ms/step - loss: 0.5696 - accuracy: 0.7476\n",
      "Epoch 50/50\n",
      "196/196 [==============================] - 0s 1ms/step - loss: 0.5693 - accuracy: 0.7476\n"
     ]
    },
    {
     "data": {
      "text/plain": [
       "<tensorflow.python.keras.callbacks.History at 0x7fb1ee536c70>"
      ]
     },
     "execution_count": 237,
     "metadata": {},
     "output_type": "execute_result"
    }
   ],
   "source": [
    "model.fit(transformed_X_train, dummy_y_train, epochs=50, batch_size=1000)"
   ]
  },
  {
   "cell_type": "markdown",
   "metadata": {},
   "source": [
    "### Transform X_test"
   ]
  },
  {
   "cell_type": "code",
   "execution_count": 238,
   "metadata": {},
   "outputs": [],
   "source": [
    "transformed_X_test = transformer.transform(X_test)"
   ]
  },
  {
   "cell_type": "code",
   "execution_count": 239,
   "metadata": {},
   "outputs": [],
   "source": [
    "y_pred = model.predict_classes(transformed_X_test)"
   ]
  },
  {
   "cell_type": "code",
   "execution_count": 240,
   "metadata": {},
   "outputs": [],
   "source": [
    "y_pred_df = pd.DataFrame(y_pred, columns=['y_pred_adj'], index=X_test.index)"
   ]
  },
  {
   "cell_type": "code",
   "execution_count": 241,
   "metadata": {},
   "outputs": [],
   "source": [
    "y_pred_df['y_pred'] = y_pred_df['y_pred_adj'].apply(lambda x: x + 1)"
   ]
  },
  {
   "cell_type": "code",
   "execution_count": 242,
   "metadata": {},
   "outputs": [
    {
     "data": {
      "text/html": [
       "<div>\n",
       "<style scoped>\n",
       "    .dataframe tbody tr th:only-of-type {\n",
       "        vertical-align: middle;\n",
       "    }\n",
       "\n",
       "    .dataframe tbody tr th {\n",
       "        vertical-align: top;\n",
       "    }\n",
       "\n",
       "    .dataframe thead th {\n",
       "        text-align: right;\n",
       "    }\n",
       "</style>\n",
       "<table border=\"1\" class=\"dataframe\">\n",
       "  <thead>\n",
       "    <tr style=\"text-align: right;\">\n",
       "      <th></th>\n",
       "      <th>y_pred_adj</th>\n",
       "      <th>y_pred</th>\n",
       "    </tr>\n",
       "    <tr>\n",
       "      <th>building_id</th>\n",
       "      <th></th>\n",
       "      <th></th>\n",
       "    </tr>\n",
       "  </thead>\n",
       "  <tbody>\n",
       "    <tr>\n",
       "      <th>709407</th>\n",
       "      <td>1</td>\n",
       "      <td>2</td>\n",
       "    </tr>\n",
       "    <tr>\n",
       "      <th>586623</th>\n",
       "      <td>1</td>\n",
       "      <td>2</td>\n",
       "    </tr>\n",
       "    <tr>\n",
       "      <th>710592</th>\n",
       "      <td>1</td>\n",
       "      <td>2</td>\n",
       "    </tr>\n",
       "    <tr>\n",
       "      <th>343630</th>\n",
       "      <td>1</td>\n",
       "      <td>2</td>\n",
       "    </tr>\n",
       "    <tr>\n",
       "      <th>42427</th>\n",
       "      <td>2</td>\n",
       "      <td>3</td>\n",
       "    </tr>\n",
       "    <tr>\n",
       "      <th>...</th>\n",
       "      <td>...</td>\n",
       "      <td>...</td>\n",
       "    </tr>\n",
       "    <tr>\n",
       "      <th>708773</th>\n",
       "      <td>2</td>\n",
       "      <td>3</td>\n",
       "    </tr>\n",
       "    <tr>\n",
       "      <th>444011</th>\n",
       "      <td>2</td>\n",
       "      <td>3</td>\n",
       "    </tr>\n",
       "    <tr>\n",
       "      <th>78354</th>\n",
       "      <td>2</td>\n",
       "      <td>3</td>\n",
       "    </tr>\n",
       "    <tr>\n",
       "      <th>338761</th>\n",
       "      <td>0</td>\n",
       "      <td>1</td>\n",
       "    </tr>\n",
       "    <tr>\n",
       "      <th>1000869</th>\n",
       "      <td>1</td>\n",
       "      <td>2</td>\n",
       "    </tr>\n",
       "  </tbody>\n",
       "</table>\n",
       "<p>65151 rows × 2 columns</p>\n",
       "</div>"
      ],
      "text/plain": [
       "             y_pred_adj  y_pred\n",
       "building_id                    \n",
       "709407                1       2\n",
       "586623                1       2\n",
       "710592                1       2\n",
       "343630                1       2\n",
       "42427                 2       3\n",
       "...                 ...     ...\n",
       "708773                2       3\n",
       "444011                2       3\n",
       "78354                 2       3\n",
       "338761                0       1\n",
       "1000869               1       2\n",
       "\n",
       "[65151 rows x 2 columns]"
      ]
     },
     "execution_count": 242,
     "metadata": {},
     "output_type": "execute_result"
    }
   ],
   "source": [
    "y_pred_df"
   ]
  },
  {
   "cell_type": "code",
   "execution_count": 243,
   "metadata": {},
   "outputs": [
    {
     "data": {
      "text/plain": [
       "0.7317769489340148"
      ]
     },
     "execution_count": 243,
     "metadata": {},
     "output_type": "execute_result"
    }
   ],
   "source": [
    "keras_score = f1_score(y_test, y_pred_df.y_pred, average='micro')\n",
    "keras_score"
   ]
  },
  {
   "cell_type": "code",
   "execution_count": null,
   "metadata": {},
   "outputs": [],
   "source": []
  }
 ],
 "metadata": {
  "kernelspec": {
   "display_name": "Python (learn-env)",
   "language": "python",
   "name": "learn-env"
  },
  "language_info": {
   "codemirror_mode": {
    "name": "ipython",
    "version": 3
   },
   "file_extension": ".py",
   "mimetype": "text/x-python",
   "name": "python",
   "nbconvert_exporter": "python",
   "pygments_lexer": "ipython3",
   "version": "3.8.5"
  }
 },
 "nbformat": 4,
 "nbformat_minor": 4
}
