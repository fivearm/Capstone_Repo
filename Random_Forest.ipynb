{
 "cells": [
  {
   "cell_type": "code",
   "execution_count": 85,
   "metadata": {},
   "outputs": [],
   "source": [
    "import pandas as pd\n",
    "import numpy as np\n",
    "import matplotlib.pyplot as plt\n",
    "import matplotlib as mpl\n",
    "import seaborn as sns\n",
    "import pickle\n",
    "import time\n",
    "\n",
    "from sklearn.ensemble import RandomForestClassifier\n",
    "from sklearn.model_selection import cross_val_score, RandomizedSearchCV, GridSearchCV\n",
    "from sklearn.preprocessing import StandardScaler, OneHotEncoder, FunctionTransformer\n",
    "from sklearn.compose import ColumnTransformer\n",
    "from sklearn.decomposition import PCA\n",
    "from sklearn.metrics import f1_score\n",
    "\n",
    "from imblearn.pipeline import Pipeline as imbPipeline\n",
    "from imblearn.over_sampling import SMOTE\n",
    "\n",
    "from category_encoders import TargetEncoder"
   ]
  },
  {
   "cell_type": "code",
   "execution_count": 86,
   "metadata": {},
   "outputs": [],
   "source": [
    "X_train = pd.read_csv('Data/X_train.csv', index_col='building_id')\n",
    "X_test = pd.read_csv('Data/X_test.csv', index_col='building_id')\n",
    "y_train = pd.read_csv('Data/y_train.csv', index_col='building_id')\n",
    "y_test = pd.read_csv('Data/y_test.csv', index_col='building_id')"
   ]
  },
  {
   "cell_type": "code",
   "execution_count": 87,
   "metadata": {},
   "outputs": [],
   "source": [
    "y_train = y_train.values.ravel()\n",
    "y_test = y_test.values.ravel()"
   ]
  },
  {
   "cell_type": "markdown",
   "metadata": {},
   "source": [
    "### Divide Columns"
   ]
  },
  {
   "cell_type": "code",
   "execution_count": 88,
   "metadata": {},
   "outputs": [],
   "source": [
    "binary_cols = []\n",
    "for col in X_train.columns:\n",
    "    if col.startswith('has'):\n",
    "        binary_cols.append(col)\n",
    "\n",
    "cat_cols = list(X_train.select_dtypes(include='object').columns)\n",
    "\n",
    "integer_cols = ['count_floors_pre_eq', 'age', 'area_percentage', 'height_percentage', 'count_families']\n",
    "\n",
    "geo_cols = ['geo_level_1_id', 'geo_level_2_id', 'geo_level_3_id']\n",
    "\n",
    "all_cols = geo_cols + cat_cols + integer_cols + binary_cols"
   ]
  },
  {
   "cell_type": "code",
   "execution_count": 119,
   "metadata": {},
   "outputs": [],
   "source": [
    "score_dict = {}\n",
    "def print_scores():\n",
    "    for key in score_dict.keys():\n",
    "        print(f'{key}, f1_micro_score: {round(score_dict[key][0],4)}, Run time: {round(score_dict[key][1],0)}')"
   ]
  },
  {
   "cell_type": "markdown",
   "metadata": {},
   "source": [
    "### forest0:  Baseline Random Forest Classifier with no feature engineering"
   ]
  },
  {
   "cell_type": "markdown",
   "metadata": {},
   "source": [
    "I will OHE the categorical features and then run an untuned Random Forest model."
   ]
  },
  {
   "cell_type": "code",
   "execution_count": 89,
   "metadata": {},
   "outputs": [],
   "source": [
    "ohe_pipe = imbPipeline([('ohe', OneHotEncoder(sparse=False, handle_unknown='ignore'))])\n",
    "\n",
    "transformer = ColumnTransformer([\n",
    "    ('binary', 'passthrough', binary_cols),\n",
    "    ('categorical', ohe_pipe, cat_cols),\n",
    "    ('integer', 'passthrough', integer_cols),\n",
    "    ('geo', 'passthrough', geo_cols)\n",
    "])"
   ]
  },
  {
   "cell_type": "code",
   "execution_count": 90,
   "metadata": {},
   "outputs": [
    {
     "data": {
      "text/plain": [
       "Pipeline(steps=[('transformer',\n",
       "                 ColumnTransformer(transformers=[('binary', 'passthrough',\n",
       "                                                  ['has_superstructure_adobe_mud',\n",
       "                                                   'has_superstructure_mud_mortar_stone',\n",
       "                                                   'has_superstructure_stone_flag',\n",
       "                                                   'has_superstructure_cement_mortar_stone',\n",
       "                                                   'has_superstructure_mud_mortar_brick',\n",
       "                                                   'has_superstructure_cement_mortar_brick',\n",
       "                                                   'has_superstructure_timber',\n",
       "                                                   'has_superstr...\n",
       "                                                   'roof_type',\n",
       "                                                   'ground_floor_type',\n",
       "                                                   'other_floor_type',\n",
       "                                                   'position',\n",
       "                                                   'plan_configuration',\n",
       "                                                   'legal_ownership_status']),\n",
       "                                                 ('integer', 'passthrough',\n",
       "                                                  ['count_floors_pre_eq', 'age',\n",
       "                                                   'area_percentage',\n",
       "                                                   'height_percentage',\n",
       "                                                   'count_families']),\n",
       "                                                 ('geo', 'passthrough',\n",
       "                                                  ['geo_level_1_id',\n",
       "                                                   'geo_level_2_id',\n",
       "                                                   'geo_level_3_id'])])),\n",
       "                ('rf', RandomForestClassifier(n_jobs=-1, random_state=42))])"
      ]
     },
     "execution_count": 90,
     "metadata": {},
     "output_type": "execute_result"
    }
   ],
   "source": [
    "forest0_pipe = imbPipeline([\n",
    "    ('transformer', transformer),\n",
    "    ('rf', RandomForestClassifier(n_jobs=-1, random_state=42))\n",
    "])\n",
    "forest0_pipe.fit(X_train, y_train)"
   ]
  },
  {
   "cell_type": "code",
   "execution_count": 91,
   "metadata": {
    "scrolled": true
   },
   "outputs": [
    {
     "name": "stdout",
     "output_type": "stream",
     "text": [
      "Run time: 117.95977592468262\n"
     ]
    }
   ],
   "source": [
    "start = time.time()\n",
    "f1_micro_forest0 = cross_val_score(forest0_pipe, X_train, y_train, scoring='f1_micro')\n",
    "end = time.time()\n",
    "print(f'Run time: {end-start}')\n",
    "run_time_forest0 = (end-start)"
   ]
  },
  {
   "cell_type": "code",
   "execution_count": 93,
   "metadata": {},
   "outputs": [
    {
     "data": {
      "text/plain": [
       "0.7094090560245585"
      ]
     },
     "execution_count": 93,
     "metadata": {},
     "output_type": "execute_result"
    }
   ],
   "source": [
    "f1_micro_forest0 = f1_micro_forest0.mean()\n",
    "f1_micro_forest0"
   ]
  },
  {
   "cell_type": "code",
   "execution_count": 120,
   "metadata": {},
   "outputs": [
    {
     "name": "stdout",
     "output_type": "stream",
     "text": [
      "forest0, f1_micro_score: 0.7094, Run time: 118.0\n"
     ]
    }
   ],
   "source": [
    "score_dict['forest0'] = [f1_micro_forest0, run_time_forest0]\n",
    "print_scores()"
   ]
  },
  {
   "cell_type": "code",
   "execution_count": 95,
   "metadata": {},
   "outputs": [],
   "source": [
    "cat_ohe_cols = forest0_pipe.named_steps['transformer'].named_transformers_['categorical'].named_steps['ohe']\\\n",
    "    .get_feature_names(cat_cols).tolist()"
   ]
  },
  {
   "cell_type": "code",
   "execution_count": 96,
   "metadata": {},
   "outputs": [],
   "source": [
    "all_feature_cols = binary_cols + cat_ohe_cols + integer_cols + geo_cols"
   ]
  },
  {
   "cell_type": "code",
   "execution_count": 97,
   "metadata": {},
   "outputs": [],
   "source": [
    "feat_importances = forest0_pipe.named_steps['rf'].feature_importances_"
   ]
  },
  {
   "cell_type": "code",
   "execution_count": 98,
   "metadata": {},
   "outputs": [],
   "source": [
    "feat_importances_df = pd.DataFrame(data=feat_importances, columns=['importance'], index=all_feature_cols)"
   ]
  },
  {
   "cell_type": "code",
   "execution_count": 99,
   "metadata": {},
   "outputs": [],
   "source": [
    "feat_importances_df_sorted = feat_importances_df.sort_values(by='importance', ascending=True)"
   ]
  },
  {
   "cell_type": "code",
   "execution_count": 100,
   "metadata": {},
   "outputs": [
    {
     "data": {
      "image/png": "[encoded data removed]",
      "text/plain": [
       "<Figure size 1080x1440 with 1 Axes>"
      ]
     },
     "metadata": {
      "needs_background": "light"
     },
     "output_type": "display_data"
    }
   ],
   "source": [
    "fig, ax = plt.subplots(figsize=(15,20))\n",
    "ax.barh(feat_importances_df_sorted.index, feat_importances_df_sorted.importance);"
   ]
  },
  {
   "cell_type": "code",
   "execution_count": 101,
   "metadata": {},
   "outputs": [
    {
     "data": {
      "text/plain": [
       "37"
      ]
     },
     "execution_count": 101,
     "metadata": {},
     "output_type": "execute_result"
    }
   ],
   "source": [
    "less_important_feat = feat_importances_df[feat_importances_df.importance <= .005]\n",
    "len(less_important_feat)"
   ]
  },
  {
   "cell_type": "code",
   "execution_count": 102,
   "metadata": {},
   "outputs": [
    {
     "data": {
      "text/plain": [
       "['has_superstructure_cement_mortar_stone',\n",
       " 'has_superstructure_rc_non_engineered',\n",
       " 'has_superstructure_rc_engineered',\n",
       " 'has_superstructure_other',\n",
       " 'has_secondary_use_agriculture',\n",
       " 'has_secondary_use_hotel',\n",
       " 'has_secondary_use_rental',\n",
       " 'has_secondary_use_institution',\n",
       " 'has_secondary_use_school',\n",
       " 'has_secondary_use_industry',\n",
       " 'has_secondary_use_health_post',\n",
       " 'has_secondary_use_gov_office',\n",
       " 'has_secondary_use_use_police',\n",
       " 'has_secondary_use_other',\n",
       " 'land_surface_condition_o',\n",
       " 'foundation_type_h',\n",
       " 'foundation_type_u',\n",
       " 'ground_floor_type_m',\n",
       " 'ground_floor_type_z',\n",
       " 'other_floor_type_j',\n",
       " 'other_floor_type_s',\n",
       " 'position_j',\n",
       " 'position_o',\n",
       " 'plan_configuration_a',\n",
       " 'plan_configuration_c',\n",
       " 'plan_configuration_d',\n",
       " 'plan_configuration_f',\n",
       " 'plan_configuration_m',\n",
       " 'plan_configuration_n',\n",
       " 'plan_configuration_o',\n",
       " 'plan_configuration_q',\n",
       " 'plan_configuration_s',\n",
       " 'plan_configuration_u',\n",
       " 'legal_ownership_status_a',\n",
       " 'legal_ownership_status_r',\n",
       " 'legal_ownership_status_v',\n",
       " 'legal_ownership_status_w']"
      ]
     },
     "execution_count": 102,
     "metadata": {},
     "output_type": "execute_result"
    }
   ],
   "source": [
    "list(less_important_feat.index)"
   ]
  },
  {
   "cell_type": "code",
   "execution_count": 103,
   "metadata": {},
   "outputs": [],
   "source": [
    "#forest0_pipe.named_steps['transformer'].transformers[1][1].named_steps['ohe'].get_feature_names()"
   ]
  },
  {
   "cell_type": "markdown",
   "metadata": {},
   "source": [
    "### forest1:  Try log transforming and scaling the integer columns"
   ]
  },
  {
   "cell_type": "code",
   "execution_count": 104,
   "metadata": {
    "scrolled": true
   },
   "outputs": [],
   "source": [
    "def log_transform(x):\n",
    "    return np.log(x+1)"
   ]
  },
  {
   "cell_type": "code",
   "execution_count": 105,
   "metadata": {},
   "outputs": [],
   "source": [
    "function_transformer = FunctionTransformer(log_transform)\n",
    "ohe_pipe = imbPipeline([('ohe', OneHotEncoder(sparse=False, handle_unknown='ignore'))])\n",
    "ss_pipe = imbPipeline([('ss', StandardScaler())])\n",
    "\n",
    "transformer = ColumnTransformer([\n",
    "    ('binary', 'passthrough', binary_cols),\n",
    "    ('categorical', ohe_pipe, cat_cols),\n",
    "    ('integer_log', function_transformer, integer_cols),\n",
    "    ('integer_scale', ss_pipe, integer_cols),\n",
    "    ('geo', 'passthrough', geo_cols)\n",
    "])"
   ]
  },
  {
   "cell_type": "code",
   "execution_count": 106,
   "metadata": {},
   "outputs": [],
   "source": [
    "forest1_pipe = imbPipeline([\n",
    "    ('transformer', transformer),\n",
    "    ('rf', RandomForestClassifier(n_jobs=-1, random_state=42))\n",
    "])"
   ]
  },
  {
   "cell_type": "code",
   "execution_count": 107,
   "metadata": {},
   "outputs": [
    {
     "name": "stdout",
     "output_type": "stream",
     "text": [
      "Run time: 114.12560606002808\n"
     ]
    }
   ],
   "source": [
    "start = time.time()\n",
    "f1_micro_forest1 = cross_val_score(forest1_pipe, X_train, y_train, scoring='f1_micro')\n",
    "end = time.time()\n",
    "print(f'Run time: {end-start}')\n",
    "run_time_forest1 = end-start"
   ]
  },
  {
   "cell_type": "code",
   "execution_count": 108,
   "metadata": {},
   "outputs": [
    {
     "data": {
      "text/plain": [
       "0.7022512151445383"
      ]
     },
     "execution_count": 108,
     "metadata": {},
     "output_type": "execute_result"
    }
   ],
   "source": [
    "f1_micro_forest1 = f1_micro_forest1.mean()\n",
    "f1_micro_forest1"
   ]
  },
  {
   "cell_type": "code",
   "execution_count": 121,
   "metadata": {},
   "outputs": [
    {
     "name": "stdout",
     "output_type": "stream",
     "text": [
      "forest0, f1_micro_score: 0.7094, Run time: 118.0\n",
      "forest1, f1_micro_score: 0.7023, Run time: 114.0\n"
     ]
    }
   ],
   "source": [
    "score_dict['forest1'] = [f1_micro_forest1, run_time_forest1]\n",
    "print_scores()"
   ]
  },
  {
   "cell_type": "markdown",
   "metadata": {},
   "source": [
    "Normalizing and scaling the integer columns do not affect the f1_micro score."
   ]
  },
  {
   "cell_type": "markdown",
   "metadata": {},
   "source": [
    "### forest2:  Try dropping less important features (importance < .005) to check performance and runtime"
   ]
  },
  {
   "cell_type": "markdown",
   "metadata": {},
   "source": [
    "I will import the 'less important' features from the EDA notebook."
   ]
  },
  {
   "cell_type": "code",
   "execution_count": 123,
   "metadata": {},
   "outputs": [
    {
     "data": {
      "text/plain": [
       "['has_superstructure_cement_mortar_stone',\n",
       " 'has_superstructure_rc_non_engineered',\n",
       " 'has_superstructure_rc_engineered',\n",
       " 'has_superstructure_other',\n",
       " 'has_secondary_use_agriculture',\n",
       " 'has_secondary_use_hotel',\n",
       " 'has_secondary_use_rental',\n",
       " 'has_secondary_use_institution',\n",
       " 'has_secondary_use_school',\n",
       " 'has_secondary_use_industry',\n",
       " 'has_secondary_use_health_post',\n",
       " 'has_secondary_use_gov_office',\n",
       " 'has_secondary_use_use_police',\n",
       " 'has_secondary_use_other',\n",
       " 'land_surface_condition_o',\n",
       " 'foundation_type_h',\n",
       " 'foundation_type_u',\n",
       " 'ground_floor_type_m',\n",
       " 'ground_floor_type_z',\n",
       " 'other_floor_type_j',\n",
       " 'other_floor_type_s',\n",
       " 'position_j',\n",
       " 'position_o',\n",
       " 'plan_configuration_a',\n",
       " 'plan_configuration_c',\n",
       " 'plan_configuration_d',\n",
       " 'plan_configuration_f',\n",
       " 'plan_configuration_m',\n",
       " 'plan_configuration_n',\n",
       " 'plan_configuration_o',\n",
       " 'plan_configuration_q',\n",
       " 'plan_configuration_s',\n",
       " 'plan_configuration_u',\n",
       " 'legal_ownership_status_a',\n",
       " 'legal_ownership_status_r',\n",
       " 'legal_ownership_status_v',\n",
       " 'legal_ownership_status_w']"
      ]
     },
     "execution_count": 123,
     "metadata": {},
     "output_type": "execute_result"
    }
   ],
   "source": [
    "less_important_feat \n",
    "list(less_important_feat.index)"
   ]
  },
  {
   "cell_type": "code",
   "execution_count": 124,
   "metadata": {},
   "outputs": [],
   "source": [
    "binary_cols_dropped = binary_cols.copy()\n",
    "for col in binary_cols_dropped:\n",
    "    if col.startswith('has_secondary'):\n",
    "        binary_cols_dropped.remove(col)\n",
    "binary_cols_dropped.append('has_secondary_use')\n",
    "\n",
    "cat_cols_dropped = cat_cols.copy()\n",
    "cat_cols_dropped.remove('legal_ownership_status')\n",
    "cat_cols_dropped.remove('plan_configuration')"
   ]
  },
  {
   "cell_type": "code",
   "execution_count": 125,
   "metadata": {},
   "outputs": [],
   "source": [
    "ohe_pipe = imbPipeline([('ohe', OneHotEncoder(sparse=False, handle_unknown='ignore'))])\n",
    "\n",
    "transformer = ColumnTransformer([\n",
    "    ('binary', 'passthrough', binary_cols_dropped),\n",
    "    ('categorical', ohe_pipe, cat_cols_dropped),\n",
    "    ('integer', 'passthrough', integer_cols),\n",
    "    ('geo', 'passthrough', geo_cols)\n",
    "])"
   ]
  },
  {
   "cell_type": "code",
   "execution_count": 126,
   "metadata": {},
   "outputs": [
    {
     "data": {
      "text/plain": [
       "Pipeline(steps=[('transformer',\n",
       "                 ColumnTransformer(transformers=[('binary', 'passthrough',\n",
       "                                                  ['has_superstructure_adobe_mud',\n",
       "                                                   'has_superstructure_mud_mortar_stone',\n",
       "                                                   'has_superstructure_stone_flag',\n",
       "                                                   'has_superstructure_cement_mortar_stone',\n",
       "                                                   'has_superstructure_mud_mortar_brick',\n",
       "                                                   'has_superstructure_cement_mortar_brick',\n",
       "                                                   'has_superstructure_timber',\n",
       "                                                   'has_superstr...\n",
       "                                                  ['land_surface_condition',\n",
       "                                                   'foundation_type',\n",
       "                                                   'roof_type',\n",
       "                                                   'ground_floor_type',\n",
       "                                                   'other_floor_type',\n",
       "                                                   'position']),\n",
       "                                                 ('integer', 'passthrough',\n",
       "                                                  ['count_floors_pre_eq', 'age',\n",
       "                                                   'area_percentage',\n",
       "                                                   'height_percentage',\n",
       "                                                   'count_families']),\n",
       "                                                 ('geo', 'passthrough',\n",
       "                                                  ['geo_level_1_id',\n",
       "                                                   'geo_level_2_id',\n",
       "                                                   'geo_level_3_id'])])),\n",
       "                ('rf', RandomForestClassifier(n_jobs=-1, random_state=42))])"
      ]
     },
     "execution_count": 126,
     "metadata": {},
     "output_type": "execute_result"
    }
   ],
   "source": [
    "forest2_pipe = imbPipeline([\n",
    "    ('transformer', transformer),\n",
    "    ('rf', RandomForestClassifier(n_jobs=-1, random_state=42))\n",
    "])\n",
    "forest2_pipe.fit(X_train, y_train)"
   ]
  },
  {
   "cell_type": "code",
   "execution_count": 127,
   "metadata": {},
   "outputs": [
    {
     "name": "stdout",
     "output_type": "stream",
     "text": [
      "Run time: 121.91436576843262\n"
     ]
    }
   ],
   "source": [
    "start = time.time()\n",
    "f1_micro_forest2 = cross_val_score(forest2_pipe, X_train, y_train, scoring='f1_micro')\n",
    "end = time.time()\n",
    "print(f'Run time: {end-start}')\n",
    "run_time_forest2 = end-start"
   ]
  },
  {
   "cell_type": "code",
   "execution_count": 128,
   "metadata": {},
   "outputs": [
    {
     "data": {
      "text/plain": [
       "0.7106114095676643"
      ]
     },
     "execution_count": 128,
     "metadata": {},
     "output_type": "execute_result"
    }
   ],
   "source": [
    "f1_micro_forest2 = f1_micro_forest2.mean()\n",
    "f1_micro_forest2"
   ]
  },
  {
   "cell_type": "code",
   "execution_count": 129,
   "metadata": {},
   "outputs": [
    {
     "data": {
      "text/plain": [
       "0.7155070528464643"
      ]
     },
     "execution_count": 129,
     "metadata": {},
     "output_type": "execute_result"
    }
   ],
   "source": [
    "forest2_preds = forest2_pipe.predict(X_test)\n",
    "forest2_test_score = f1_score(y_test, forest2_preds, average='micro')\n",
    "forest2_test_score"
   ]
  },
  {
   "cell_type": "code",
   "execution_count": 130,
   "metadata": {},
   "outputs": [
    {
     "data": {
      "text/plain": [
       "49"
      ]
     },
     "execution_count": 130,
     "metadata": {},
     "output_type": "execute_result"
    }
   ],
   "source": [
    "len(forest2_pipe.named_steps['rf'].feature_importances_)"
   ]
  },
  {
   "cell_type": "code",
   "execution_count": 131,
   "metadata": {},
   "outputs": [
    {
     "name": "stdout",
     "output_type": "stream",
     "text": [
      "forest0, f1_micro_score: 0.7094, Run time: 118.0\n",
      "forest1, f1_micro_score: 0.7023, Run time: 114.0\n",
      "forest2, f1_micro_score: 0.7106, Run time: 122.0\n"
     ]
    }
   ],
   "source": [
    "score_dict['forest2'] = [f1_micro_forest2, run_time_forest2]\n",
    "print_scores()"
   ]
  },
  {
   "cell_type": "markdown",
   "metadata": {},
   "source": [
    "### forest3 Try increasing feature importance to .01 and remove even more features"
   ]
  },
  {
   "cell_type": "code",
   "execution_count": 132,
   "metadata": {},
   "outputs": [
    {
     "data": {
      "text/plain": [
       "56"
      ]
     },
     "execution_count": 132,
     "metadata": {},
     "output_type": "execute_result"
    }
   ],
   "source": [
    "less_important_feat2 = feat_importances_df[feat_importances_df.importance <= .01]\n",
    "len(less_important_feat2)"
   ]
  },
  {
   "cell_type": "code",
   "execution_count": 133,
   "metadata": {},
   "outputs": [
    {
     "data": {
      "text/plain": [
       "['has_superstructure_adobe_mud',\n",
       " 'has_superstructure_stone_flag',\n",
       " 'has_superstructure_cement_mortar_stone',\n",
       " 'has_superstructure_mud_mortar_brick',\n",
       " 'has_superstructure_cement_mortar_brick',\n",
       " 'has_superstructure_bamboo',\n",
       " 'has_superstructure_rc_non_engineered',\n",
       " 'has_superstructure_rc_engineered',\n",
       " 'has_superstructure_other',\n",
       " 'has_secondary_use',\n",
       " 'has_secondary_use_agriculture',\n",
       " 'has_secondary_use_hotel',\n",
       " 'has_secondary_use_rental',\n",
       " 'has_secondary_use_institution',\n",
       " 'has_secondary_use_school',\n",
       " 'has_secondary_use_industry',\n",
       " 'has_secondary_use_health_post',\n",
       " 'has_secondary_use_gov_office',\n",
       " 'has_secondary_use_use_police',\n",
       " 'has_secondary_use_other',\n",
       " 'land_surface_condition_n',\n",
       " 'land_surface_condition_o',\n",
       " 'land_surface_condition_t',\n",
       " 'foundation_type_h',\n",
       " 'foundation_type_i',\n",
       " 'foundation_type_u',\n",
       " 'foundation_type_w',\n",
       " 'roof_type_n',\n",
       " 'roof_type_q',\n",
       " 'roof_type_x',\n",
       " 'ground_floor_type_f',\n",
       " 'ground_floor_type_m',\n",
       " 'ground_floor_type_x',\n",
       " 'ground_floor_type_z',\n",
       " 'other_floor_type_j',\n",
       " 'other_floor_type_q',\n",
       " 'other_floor_type_s',\n",
       " 'other_floor_type_x',\n",
       " 'position_j',\n",
       " 'position_o',\n",
       " 'position_s',\n",
       " 'position_t',\n",
       " 'plan_configuration_a',\n",
       " 'plan_configuration_c',\n",
       " 'plan_configuration_d',\n",
       " 'plan_configuration_f',\n",
       " 'plan_configuration_m',\n",
       " 'plan_configuration_n',\n",
       " 'plan_configuration_o',\n",
       " 'plan_configuration_q',\n",
       " 'plan_configuration_s',\n",
       " 'plan_configuration_u',\n",
       " 'legal_ownership_status_a',\n",
       " 'legal_ownership_status_r',\n",
       " 'legal_ownership_status_v',\n",
       " 'legal_ownership_status_w']"
      ]
     },
     "execution_count": 133,
     "metadata": {},
     "output_type": "execute_result"
    }
   ],
   "source": [
    "list(less_important_feat2.index)"
   ]
  },
  {
   "cell_type": "code",
   "execution_count": 134,
   "metadata": {},
   "outputs": [
    {
     "data": {
      "text/plain": [
       "['has_superstructure_adobe_mud',\n",
       " 'has_superstructure_mud_mortar_stone',\n",
       " 'has_superstructure_stone_flag',\n",
       " 'has_superstructure_cement_mortar_stone',\n",
       " 'has_superstructure_mud_mortar_brick',\n",
       " 'has_superstructure_cement_mortar_brick',\n",
       " 'has_superstructure_timber',\n",
       " 'has_superstructure_bamboo',\n",
       " 'has_superstructure_rc_non_engineered',\n",
       " 'has_superstructure_rc_engineered',\n",
       " 'has_superstructure_other',\n",
       " 'has_secondary_use',\n",
       " 'has_secondary_use_agriculture',\n",
       " 'has_secondary_use_hotel',\n",
       " 'has_secondary_use_rental',\n",
       " 'has_secondary_use_institution',\n",
       " 'has_secondary_use_school',\n",
       " 'has_secondary_use_industry',\n",
       " 'has_secondary_use_health_post',\n",
       " 'has_secondary_use_gov_office',\n",
       " 'has_secondary_use_use_police',\n",
       " 'has_secondary_use_other']"
      ]
     },
     "execution_count": 134,
     "metadata": {},
     "output_type": "execute_result"
    }
   ],
   "source": [
    "binary_cols"
   ]
  },
  {
   "cell_type": "code",
   "execution_count": 135,
   "metadata": {},
   "outputs": [],
   "source": [
    "binary_cols_dropped2 = binary_cols.copy()\n",
    "binary_cols_to_remove = ['has_superstructure_adobe_mud',\n",
    "                         'has_superstructure_stone_flag',\n",
    "                         'has_superstructure_cement_mortar_stone',\n",
    "                         'has_superstructure_mud_mortar_brick',\n",
    "                         'has_superstructure_cement_mortar_brick',\n",
    "                         'has_superstructure_bamboo',\n",
    "                         'has_superstructure_rc_non_engineered',\n",
    "                         'has_superstructure_rc_engineered',\n",
    "                         'has_superstructure_other',\n",
    "                         'has_secondary_use',\n",
    "                         'has_secondary_use_agriculture',\n",
    "                         'has_secondary_use_hotel',\n",
    "                         'has_secondary_use_rental',\n",
    "                         'has_secondary_use_institution',\n",
    "                         'has_secondary_use_school',\n",
    "                         'has_secondary_use_industry',\n",
    "                         'has_secondary_use_health_post',\n",
    "                         'has_secondary_use_gov_office',\n",
    "                         'has_secondary_use_use_police',\n",
    "                         'has_secondary_use_other']\n",
    "binary_cols_dropped2 = [x for x in binary_cols_dropped2 if x not in binary_cols_to_remove]\n",
    "\n",
    "cat_cols_dropped2 = cat_cols.copy()\n",
    "cat_cols_to_remove = ['legal_ownership_status', 'plan_configuration', 'other_floor_type', 'position', \n",
    "                      'roof_type', 'land_surface_condition']\n",
    "cat_cols_dropped2 = [x for x in cat_cols_dropped2 if x not in cat_cols_to_remove]"
   ]
  },
  {
   "cell_type": "code",
   "execution_count": 136,
   "metadata": {},
   "outputs": [
    {
     "data": {
      "text/plain": [
       "['foundation_type', 'ground_floor_type']"
      ]
     },
     "execution_count": 136,
     "metadata": {},
     "output_type": "execute_result"
    }
   ],
   "source": [
    "cat_cols_dropped2"
   ]
  },
  {
   "cell_type": "code",
   "execution_count": 137,
   "metadata": {},
   "outputs": [
    {
     "data": {
      "text/plain": [
       "['has_superstructure_mud_mortar_stone', 'has_superstructure_timber']"
      ]
     },
     "execution_count": 137,
     "metadata": {},
     "output_type": "execute_result"
    }
   ],
   "source": [
    "binary_cols_dropped2"
   ]
  },
  {
   "cell_type": "code",
   "execution_count": 138,
   "metadata": {},
   "outputs": [],
   "source": [
    "ohe_pipe = imbPipeline([('ohe', OneHotEncoder(sparse=False, handle_unknown='ignore'))])\n",
    "\n",
    "transformer = ColumnTransformer([\n",
    "    ('binary', 'passthrough', binary_cols_dropped2),\n",
    "    ('categorical', ohe_pipe, cat_cols_dropped2),\n",
    "    ('integer', 'passthrough', integer_cols),\n",
    "    ('geo', 'passthrough', geo_cols)\n",
    "])"
   ]
  },
  {
   "cell_type": "code",
   "execution_count": 139,
   "metadata": {},
   "outputs": [
    {
     "data": {
      "text/plain": [
       "Pipeline(steps=[('transformer',\n",
       "                 ColumnTransformer(transformers=[('binary', 'passthrough',\n",
       "                                                  ['has_superstructure_mud_mortar_stone',\n",
       "                                                   'has_superstructure_timber']),\n",
       "                                                 ('categorical',\n",
       "                                                  Pipeline(steps=[('ohe',\n",
       "                                                                   OneHotEncoder(handle_unknown='ignore',\n",
       "                                                                                 sparse=False))]),\n",
       "                                                  ['foundation_type',\n",
       "                                                   'ground_floor_type']),\n",
       "                                                 ('integer', 'passthrough',\n",
       "                                                  ['count_floors_pre_eq', 'age',\n",
       "                                                   'area_percentage',\n",
       "                                                   'height_percentage',\n",
       "                                                   'count_families']),\n",
       "                                                 ('geo', 'passthrough',\n",
       "                                                  ['geo_level_1_id',\n",
       "                                                   'geo_level_2_id',\n",
       "                                                   'geo_level_3_id'])])),\n",
       "                ('rf', RandomForestClassifier(n_jobs=-1, random_state=42))])"
      ]
     },
     "execution_count": 139,
     "metadata": {},
     "output_type": "execute_result"
    }
   ],
   "source": [
    "forest3_pipe = imbPipeline([\n",
    "    ('transformer', transformer),\n",
    "    ('rf', RandomForestClassifier(n_jobs=-1, random_state=42))\n",
    "])\n",
    "forest3_pipe.fit(X_train, y_train)"
   ]
  },
  {
   "cell_type": "code",
   "execution_count": 140,
   "metadata": {},
   "outputs": [
    {
     "name": "stdout",
     "output_type": "stream",
     "text": [
      "Run time: 97.86826705932617\n"
     ]
    }
   ],
   "source": [
    "start = time.time()\n",
    "f1_micro_forest3 = cross_val_score(forest3_pipe, X_train, y_train, scoring='f1_micro')\n",
    "end = time.time()\n",
    "print(f'Run time: {end-start}')\n",
    "run_time_forest3 = end-start"
   ]
  },
  {
   "cell_type": "code",
   "execution_count": 141,
   "metadata": {},
   "outputs": [
    {
     "data": {
      "text/plain": [
       "0.7064210795599898"
      ]
     },
     "execution_count": 141,
     "metadata": {},
     "output_type": "execute_result"
    }
   ],
   "source": [
    "f1_micro_forest3 = f1_micro_forest3.mean()\n",
    "f1_micro_forest3"
   ]
  },
  {
   "cell_type": "code",
   "execution_count": 142,
   "metadata": {},
   "outputs": [
    {
     "data": {
      "text/plain": [
       "20"
      ]
     },
     "execution_count": 142,
     "metadata": {},
     "output_type": "execute_result"
    }
   ],
   "source": [
    "len(forest3_pipe.named_steps['rf'].feature_importances_)"
   ]
  },
  {
   "cell_type": "code",
   "execution_count": 143,
   "metadata": {},
   "outputs": [
    {
     "name": "stdout",
     "output_type": "stream",
     "text": [
      "forest0, f1_micro_score: 0.7094, Run time: 118.0\n",
      "forest1, f1_micro_score: 0.7023, Run time: 114.0\n",
      "forest2, f1_micro_score: 0.7106, Run time: 122.0\n",
      "forest3, f1_micro_score: 0.7064, Run time: 98.0\n"
     ]
    }
   ],
   "source": [
    "score_dict['forest3'] = [f1_micro_forest3, run_time_forest3]\n",
    "print_scores()"
   ]
  },
  {
   "cell_type": "markdown",
   "metadata": {},
   "source": [
    "### forest4:  Try addressing the class imbalance using SMOTE"
   ]
  },
  {
   "cell_type": "code",
   "execution_count": 144,
   "metadata": {},
   "outputs": [],
   "source": [
    "ohe_pipe = imbPipeline([('ohe', OneHotEncoder(sparse=False, handle_unknown='ignore'))])\n",
    "\n",
    "transformer = ColumnTransformer([\n",
    "    ('binary', 'passthrough', binary_cols_dropped),\n",
    "    ('categorical', ohe_pipe, cat_cols_dropped),\n",
    "    ('integer', 'passthrough', integer_cols),\n",
    "    ('geo', 'passthrough', geo_cols)\n",
    "])"
   ]
  },
  {
   "cell_type": "code",
   "execution_count": 145,
   "metadata": {},
   "outputs": [
    {
     "data": {
      "text/plain": [
       "Pipeline(steps=[('transformer',\n",
       "                 ColumnTransformer(transformers=[('binary', 'passthrough',\n",
       "                                                  ['has_superstructure_adobe_mud',\n",
       "                                                   'has_superstructure_mud_mortar_stone',\n",
       "                                                   'has_superstructure_stone_flag',\n",
       "                                                   'has_superstructure_cement_mortar_stone',\n",
       "                                                   'has_superstructure_mud_mortar_brick',\n",
       "                                                   'has_superstructure_cement_mortar_brick',\n",
       "                                                   'has_superstructure_timber',\n",
       "                                                   'has_superstr...\n",
       "                                                   'foundation_type',\n",
       "                                                   'roof_type',\n",
       "                                                   'ground_floor_type',\n",
       "                                                   'other_floor_type',\n",
       "                                                   'position']),\n",
       "                                                 ('integer', 'passthrough',\n",
       "                                                  ['count_floors_pre_eq', 'age',\n",
       "                                                   'area_percentage',\n",
       "                                                   'height_percentage',\n",
       "                                                   'count_families']),\n",
       "                                                 ('geo', 'passthrough',\n",
       "                                                  ['geo_level_1_id',\n",
       "                                                   'geo_level_2_id',\n",
       "                                                   'geo_level_3_id'])])),\n",
       "                ('smote', SMOTE(random_state=42)),\n",
       "                ('rf', RandomForestClassifier(n_jobs=-1, random_state=42))])"
      ]
     },
     "execution_count": 145,
     "metadata": {},
     "output_type": "execute_result"
    }
   ],
   "source": [
    "forest4_pipe = imbPipeline([\n",
    "    ('transformer', transformer),\n",
    "    ('smote', SMOTE(random_state=42)),\n",
    "    ('rf', RandomForestClassifier(n_jobs=-1, random_state=42))\n",
    "])\n",
    "forest4_pipe.fit(X_train, y_train)"
   ]
  },
  {
   "cell_type": "code",
   "execution_count": 146,
   "metadata": {},
   "outputs": [
    {
     "name": "stdout",
     "output_type": "stream",
     "text": [
      "Run time: 201.53924202919006\n"
     ]
    }
   ],
   "source": [
    "start = time.time()\n",
    "f1_micro_forest4 = cross_val_score(forest4_pipe, X_train, y_train, scoring='f1_micro')\n",
    "end = time.time()\n",
    "print(f'Run time: {end-start}')\n",
    "run_time_forest4 = (end-start)"
   ]
  },
  {
   "cell_type": "code",
   "execution_count": 147,
   "metadata": {},
   "outputs": [
    {
     "data": {
      "text/plain": [
       "0.7042312611921208"
      ]
     },
     "execution_count": 147,
     "metadata": {},
     "output_type": "execute_result"
    }
   ],
   "source": [
    "f1_micro_forest4 = f1_micro_forest4.mean()\n",
    "f1_micro_forest4"
   ]
  },
  {
   "cell_type": "code",
   "execution_count": 148,
   "metadata": {},
   "outputs": [
    {
     "data": {
      "text/plain": [
       "0.7111479486116867"
      ]
     },
     "execution_count": 148,
     "metadata": {},
     "output_type": "execute_result"
    }
   ],
   "source": [
    "forest4_preds = forest4_pipe.predict(X_test)\n",
    "forest4_test_score = f1_score(y_test, forest4_preds, average='micro')\n",
    "forest4_test_score"
   ]
  },
  {
   "cell_type": "code",
   "execution_count": 149,
   "metadata": {},
   "outputs": [
    {
     "name": "stdout",
     "output_type": "stream",
     "text": [
      "forest0, f1_micro_score: 0.7094, Run time: 118.0\n",
      "forest1, f1_micro_score: 0.7023, Run time: 114.0\n",
      "forest2, f1_micro_score: 0.7106, Run time: 122.0\n",
      "forest3, f1_micro_score: 0.7064, Run time: 98.0\n",
      "forest4, f1_micro_score: 0.7042, Run time: 202.0\n"
     ]
    }
   ],
   "source": [
    "score_dict['forest4'] = [f1_micro_forest4, run_time_forest4]\n",
    "print_scores()"
   ]
  },
  {
   "cell_type": "markdown",
   "metadata": {},
   "source": [
    "### forest5:  Try Category Encoding"
   ]
  },
  {
   "cell_type": "code",
   "execution_count": 150,
   "metadata": {},
   "outputs": [],
   "source": [
    "ohe_pipe = imbPipeline([('ohe', OneHotEncoder(sparse=False, handle_unknown='ignore'))])\n",
    "target_pipe = imbPipeline([('target', TargetEncoder())])\n",
    "\n",
    "transformer = ColumnTransformer([\n",
    "    ('binary', 'passthrough', binary_cols_dropped),\n",
    "    ('categorical', ohe_pipe, cat_cols_dropped),\n",
    "    ('integer', 'passthrough', integer_cols),\n",
    "    ('geo', target_pipe, geo_cols)\n",
    "])"
   ]
  },
  {
   "cell_type": "code",
   "execution_count": 151,
   "metadata": {},
   "outputs": [
    {
     "name": "stderr",
     "output_type": "stream",
     "text": [
      "/Applications/anaconda3/envs/learn-env/lib/python3.8/site-packages/category_encoders/utils.py:21: FutureWarning: is_categorical is deprecated and will be removed in a future version.  Use is_categorical_dtype instead\n",
      "  elif pd.api.types.is_categorical(cols):\n"
     ]
    },
    {
     "data": {
      "text/plain": [
       "Pipeline(steps=[('transformer',\n",
       "                 ColumnTransformer(transformers=[('binary', 'passthrough',\n",
       "                                                  ['has_superstructure_adobe_mud',\n",
       "                                                   'has_superstructure_mud_mortar_stone',\n",
       "                                                   'has_superstructure_stone_flag',\n",
       "                                                   'has_superstructure_cement_mortar_stone',\n",
       "                                                   'has_superstructure_mud_mortar_brick',\n",
       "                                                   'has_superstructure_cement_mortar_brick',\n",
       "                                                   'has_superstructure_timber',\n",
       "                                                   'has_superstr...\n",
       "                                                   'foundation_type',\n",
       "                                                   'roof_type',\n",
       "                                                   'ground_floor_type',\n",
       "                                                   'other_floor_type',\n",
       "                                                   'position']),\n",
       "                                                 ('integer', 'passthrough',\n",
       "                                                  ['count_floors_pre_eq', 'age',\n",
       "                                                   'area_percentage',\n",
       "                                                   'height_percentage',\n",
       "                                                   'count_families']),\n",
       "                                                 ('geo',\n",
       "                                                  Pipeline(steps=[('target',\n",
       "                                                                   TargetEncoder())]),\n",
       "                                                  ['geo_level_1_id',\n",
       "                                                   'geo_level_2_id',\n",
       "                                                   'geo_level_3_id'])])),\n",
       "                ('rf', RandomForestClassifier(n_jobs=-1, random_state=42))])"
      ]
     },
     "execution_count": 151,
     "metadata": {},
     "output_type": "execute_result"
    }
   ],
   "source": [
    "forest5_pipe = imbPipeline([\n",
    "    ('transformer', transformer),\n",
    "    ('rf', RandomForestClassifier(n_jobs=-1, random_state=42))\n",
    "])\n",
    "forest5_pipe.fit(X_train, y_train)"
   ]
  },
  {
   "cell_type": "code",
   "execution_count": 152,
   "metadata": {},
   "outputs": [
    {
     "name": "stderr",
     "output_type": "stream",
     "text": [
      "/Applications/anaconda3/envs/learn-env/lib/python3.8/site-packages/category_encoders/utils.py:21: FutureWarning: is_categorical is deprecated and will be removed in a future version.  Use is_categorical_dtype instead\n",
      "  elif pd.api.types.is_categorical(cols):\n",
      "/Applications/anaconda3/envs/learn-env/lib/python3.8/site-packages/category_encoders/utils.py:21: FutureWarning: is_categorical is deprecated and will be removed in a future version.  Use is_categorical_dtype instead\n",
      "  elif pd.api.types.is_categorical(cols):\n",
      "/Applications/anaconda3/envs/learn-env/lib/python3.8/site-packages/category_encoders/utils.py:21: FutureWarning: is_categorical is deprecated and will be removed in a future version.  Use is_categorical_dtype instead\n",
      "  elif pd.api.types.is_categorical(cols):\n",
      "/Applications/anaconda3/envs/learn-env/lib/python3.8/site-packages/category_encoders/utils.py:21: FutureWarning: is_categorical is deprecated and will be removed in a future version.  Use is_categorical_dtype instead\n",
      "  elif pd.api.types.is_categorical(cols):\n",
      "/Applications/anaconda3/envs/learn-env/lib/python3.8/site-packages/category_encoders/utils.py:21: FutureWarning: is_categorical is deprecated and will be removed in a future version.  Use is_categorical_dtype instead\n",
      "  elif pd.api.types.is_categorical(cols):\n"
     ]
    },
    {
     "name": "stdout",
     "output_type": "stream",
     "text": [
      "Run time: 108.12692999839783\n"
     ]
    }
   ],
   "source": [
    "start = time.time()\n",
    "f1_micro_forest5 = cross_val_score(forest5_pipe, X_train, y_train, scoring='f1_micro')\n",
    "end = time.time()\n",
    "print(f'Run time: {end-start}')\n",
    "run_time_forest5 = end-start"
   ]
  },
  {
   "cell_type": "code",
   "execution_count": 153,
   "metadata": {},
   "outputs": [
    {
     "data": {
      "text/plain": [
       "0.7106114095676643"
      ]
     },
     "execution_count": 153,
     "metadata": {},
     "output_type": "execute_result"
    }
   ],
   "source": [
    "f1_micro_forest5 = f1_micro_forest5.mean()\n",
    "f1_micro_forest5"
   ]
  },
  {
   "cell_type": "code",
   "execution_count": 154,
   "metadata": {},
   "outputs": [
    {
     "data": {
      "text/plain": [
       "0.7155070528464643"
      ]
     },
     "execution_count": 154,
     "metadata": {},
     "output_type": "execute_result"
    }
   ],
   "source": [
    "forest5_preds = forest5_pipe.predict(X_test)\n",
    "forest5_test_score = f1_score(y_test, forest5_preds, average='micro')\n",
    "forest5_test_score"
   ]
  },
  {
   "cell_type": "code",
   "execution_count": 155,
   "metadata": {},
   "outputs": [
    {
     "name": "stdout",
     "output_type": "stream",
     "text": [
      "forest0, f1_micro_score: 0.7094, Run time: 118.0\n",
      "forest1, f1_micro_score: 0.7023, Run time: 114.0\n",
      "forest2, f1_micro_score: 0.7106, Run time: 122.0\n",
      "forest3, f1_micro_score: 0.7064, Run time: 98.0\n",
      "forest4, f1_micro_score: 0.7042, Run time: 202.0\n",
      "forest5, f1_micro_score: 0.7106, Run time: 108.0\n"
     ]
    }
   ],
   "source": [
    "score_dict['forest5'] = [f1_micro_forest5, run_time_forest5]\n",
    "print_scores()"
   ]
  },
  {
   "cell_type": "code",
   "execution_count": 156,
   "metadata": {},
   "outputs": [
    {
     "data": {
      "text/plain": [
       "True"
      ]
     },
     "execution_count": 156,
     "metadata": {},
     "output_type": "execute_result"
    }
   ],
   "source": [
    "f1_micro_forest5 == f1_micro_forest2"
   ]
  },
  {
   "cell_type": "code",
   "execution_count": null,
   "metadata": {},
   "outputs": [],
   "source": []
  }
 ],
 "metadata": {
  "kernelspec": {
   "display_name": "Python 3",
   "language": "python",
   "name": "python3"
  },
  "language_info": {
   "codemirror_mode": {
    "name": "ipython",
    "version": 3
   },
   "file_extension": ".py",
   "mimetype": "text/x-python",
   "name": "python",
   "nbconvert_exporter": "python",
   "pygments_lexer": "ipython3",
   "version": "3.8.5"
  }
 },
 "nbformat": 4,
 "nbformat_minor": 4
}
