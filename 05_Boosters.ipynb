{
 "cells": [
  {
   "cell_type": "markdown",
   "metadata": {},
   "source": [
    "# AdaBoost, GradientBoost, LightGBM, and XGBoost"
   ]
  },
  {
   "cell_type": "code",
   "execution_count": 13,
   "metadata": {},
   "outputs": [],
   "source": [
    "import pandas as pd\n",
    "import numpy as np\n",
    "import pickle\n",
    "import time\n",
    "\n",
    "from sklearn.ensemble import AdaBoostClassifier, GradientBoostingClassifier\n",
    "from sklearn.model_selection import cross_val_score, RandomizedSearchCV, GridSearchCV, train_test_split\n",
    "from sklearn.preprocessing import StandardScaler, OneHotEncoder, FunctionTransformer\n",
    "from sklearn.compose import ColumnTransformer\n",
    "from sklearn.metrics import f1_score, plot_confusion_matrix, confusion_matrix\n",
    "\n",
    "from lightgbm import LGBMClassifier\n",
    "\n",
    "from xgboost import XGBClassifier\n",
    "\n",
    "from imblearn.pipeline import Pipeline as imbPipeline\n",
    "\n",
    "from category_encoders import TargetEncoder\n",
    "\n",
    "import warnings\n",
    "warnings.filterwarnings('ignore')"
   ]
  },
  {
   "cell_type": "code",
   "execution_count": 14,
   "metadata": {},
   "outputs": [],
   "source": [
    "X_train = pd.read_csv('Data/X_train.csv', index_col='building_id')\n",
    "X_test = pd.read_csv('Data/X_test.csv', index_col='building_id')\n",
    "y_train = pd.read_csv('Data/y_train.csv', index_col='building_id')\n",
    "y_test = pd.read_csv('Data/y_test.csv', index_col='building_id')"
   ]
  },
  {
   "cell_type": "code",
   "execution_count": 15,
   "metadata": {},
   "outputs": [],
   "source": [
    "y_train = y_train.values.ravel()\n",
    "y_test = y_test.values.ravel()"
   ]
  },
  {
   "cell_type": "code",
   "execution_count": 16,
   "metadata": {},
   "outputs": [],
   "source": [
    "#Create a dictionary and helper function to track model scores.\n",
    "score_dict = {}\n",
    "def print_scores():\n",
    "    for key in score_dict.keys():\n",
    "        print(f'{key},\\t f1_micro_score: {round(score_dict[key][0],4)},\\t Run time: {round(score_dict[key][1],0)}')"
   ]
  },
  {
   "cell_type": "markdown",
   "metadata": {},
   "source": [
    "### Divide Columns and drop unimportant features"
   ]
  },
  {
   "cell_type": "markdown",
   "metadata": {},
   "source": [
    "Let's start by dropping unimportant features and using target encdoing, which was our best approach with the Random Forest models.  Then we'll try untuned AdaBoost, GradientBoosting, LightGBM, and XGBoost, and see which performs best."
   ]
  },
  {
   "cell_type": "code",
   "execution_count": 17,
   "metadata": {},
   "outputs": [],
   "source": [
    "binary_cols = []\n",
    "for col in X_train.columns:\n",
    "    if col.startswith('has'):\n",
    "        binary_cols.append(col)\n",
    "\n",
    "cat_cols = list(X_train.select_dtypes(include='object').columns)\n",
    "\n",
    "integer_cols = ['count_floors_pre_eq', 'age', 'area_percentage', 'height_percentage', 'count_families']\n",
    "\n",
    "geo_cols = ['geo_level_1_id', 'geo_level_2_id', 'geo_level_3_id']\n",
    "\n",
    "all_cols = geo_cols + cat_cols + integer_cols + binary_cols"
   ]
  },
  {
   "cell_type": "code",
   "execution_count": 18,
   "metadata": {},
   "outputs": [],
   "source": [
    "binary_cols_dropped = binary_cols.copy()\n",
    "for col in binary_cols_dropped:\n",
    "    if col.startswith('has_secondary'):\n",
    "        binary_cols_dropped.remove(col)\n",
    "binary_cols_dropped.append('has_secondary_use')\n",
    "\n",
    "cat_cols_dropped = cat_cols.copy()\n",
    "cat_cols_dropped.remove('legal_ownership_status')\n",
    "cat_cols_dropped.remove('plan_configuration')"
   ]
  },
  {
   "cell_type": "markdown",
   "metadata": {},
   "source": [
    "### Create the ColumnTransformer"
   ]
  },
  {
   "cell_type": "code",
   "execution_count": 19,
   "metadata": {},
   "outputs": [],
   "source": [
    "ohe_pipe = imbPipeline([('ohe', OneHotEncoder(sparse=False, handle_unknown='ignore'))])\n",
    "target_pipe = imbPipeline([('target', TargetEncoder(cols=geo_cols))])\n",
    "\n",
    "transformer = ColumnTransformer([\n",
    "    ('binary', 'passthrough', binary_cols_dropped),\n",
    "    ('categorical', ohe_pipe, cat_cols_dropped),\n",
    "    ('integer', 'passthrough', integer_cols),\n",
    "    ('geo', target_pipe, geo_cols)\n",
    "])"
   ]
  },
  {
   "cell_type": "markdown",
   "metadata": {},
   "source": [
    "### AdaBoost Classifier"
   ]
  },
  {
   "cell_type": "code",
   "execution_count": 20,
   "metadata": {},
   "outputs": [],
   "source": [
    "adaboost0_pipe = imbPipeline([\n",
    "    ('transformer', transformer),\n",
    "    ('adaboost', AdaBoostClassifier(random_state=42))\n",
    "])"
   ]
  },
  {
   "cell_type": "code",
   "execution_count": 21,
   "metadata": {},
   "outputs": [
    {
     "name": "stdout",
     "output_type": "stream",
     "text": [
      "Run time: 66.94079685211182\n"
     ]
    }
   ],
   "source": [
    "start = time.time()\n",
    "f1_micro_adaboost0 = cross_val_score(adaboost0_pipe, X_train, y_train, scoring='f1_micro')\n",
    "end = time.time()\n",
    "print(f'Run time: {end-start}')\n",
    "run_time_adaboost0 = end-start"
   ]
  },
  {
   "cell_type": "code",
   "execution_count": 22,
   "metadata": {},
   "outputs": [
    {
     "data": {
      "text/plain": [
       "0.718096699923254"
      ]
     },
     "execution_count": 22,
     "metadata": {},
     "output_type": "execute_result"
    }
   ],
   "source": [
    "f1_micro_adaboost0 = f1_micro_adaboost0.mean()\n",
    "f1_micro_adaboost0"
   ]
  },
  {
   "cell_type": "code",
   "execution_count": 23,
   "metadata": {},
   "outputs": [
    {
     "name": "stdout",
     "output_type": "stream",
     "text": [
      "adaboost0,\t f1_micro_score: 0.7181,\t Run time: 67.0\n"
     ]
    }
   ],
   "source": [
    "score_dict['adaboost0'] = [f1_micro_adaboost0, run_time_adaboost0]\n",
    "print_scores()"
   ]
  },
  {
   "cell_type": "markdown",
   "metadata": {},
   "source": [
    "Random Forest performs better than this model.  "
   ]
  },
  {
   "cell_type": "markdown",
   "metadata": {},
   "source": [
    "### Gradient Boosting Classifier"
   ]
  },
  {
   "cell_type": "code",
   "execution_count": 24,
   "metadata": {},
   "outputs": [],
   "source": [
    "gradientboost0_pipe = imbPipeline([\n",
    "    ('transformer', transformer),\n",
    "    ('gradient_boost', GradientBoostingClassifier(random_state=42))\n",
    "])"
   ]
  },
  {
   "cell_type": "code",
   "execution_count": 25,
   "metadata": {},
   "outputs": [
    {
     "name": "stdout",
     "output_type": "stream",
     "text": [
      "Run time: 856.4073138237\n"
     ]
    }
   ],
   "source": [
    "start = time.time()\n",
    "f1_micro_gradientboost0 = cross_val_score(gradientboost0_pipe, X_train, y_train, scoring='f1_micro')\n",
    "end = time.time()\n",
    "print(f'Run time: {end-start}')\n",
    "run_time_gradientboost0 = end-start"
   ]
  },
  {
   "cell_type": "code",
   "execution_count": 26,
   "metadata": {},
   "outputs": [
    {
     "data": {
      "text/plain": [
       "0.7306369915579431"
      ]
     },
     "execution_count": 26,
     "metadata": {},
     "output_type": "execute_result"
    }
   ],
   "source": [
    "f1_micro_gradientboost0 = f1_micro_gradientboost0.mean()\n",
    "f1_micro_gradientboost0"
   ]
  },
  {
   "cell_type": "code",
   "execution_count": 27,
   "metadata": {
    "scrolled": true
   },
   "outputs": [
    {
     "name": "stdout",
     "output_type": "stream",
     "text": [
      "adaboost0,\t f1_micro_score: 0.7181,\t Run time: 67.0\n",
      "gradientboost0,\t f1_micro_score: 0.7306,\t Run time: 856.0\n"
     ]
    }
   ],
   "source": [
    "score_dict['gradientboost0'] = [f1_micro_gradientboost0, run_time_gradientboost0]\n",
    "print_scores()"
   ]
  },
  {
   "cell_type": "markdown",
   "metadata": {},
   "source": [
    "Any improvment over AdaBoost, but at a significant runtime cost."
   ]
  },
  {
   "cell_type": "markdown",
   "metadata": {},
   "source": [
    "### LightGBM"
   ]
  },
  {
   "cell_type": "code",
   "execution_count": 28,
   "metadata": {},
   "outputs": [],
   "source": [
    "lightgbm0_pipe = imbPipeline([\n",
    "    ('transformer', transformer),\n",
    "    ('lightgbm', LGBMClassifier(objective='multiclass', n_jobs=-1, random_state=42))\n",
    "])"
   ]
  },
  {
   "cell_type": "code",
   "execution_count": 29,
   "metadata": {},
   "outputs": [
    {
     "name": "stdout",
     "output_type": "stream",
     "text": [
      "Run time: 16.08080792427063\n"
     ]
    }
   ],
   "source": [
    "start = time.time()\n",
    "f1_micro_lightgbm0 = cross_val_score(lightgbm0_pipe, X_train, y_train, scoring='f1_micro')\n",
    "end = time.time()\n",
    "print(f'Run time: {end-start}')\n",
    "run_time_lightgbm0 = end-start"
   ]
  },
  {
   "cell_type": "code",
   "execution_count": 30,
   "metadata": {},
   "outputs": [
    {
     "data": {
      "text/plain": [
       "0.7350524430800716"
      ]
     },
     "execution_count": 30,
     "metadata": {},
     "output_type": "execute_result"
    }
   ],
   "source": [
    "f1_micro_lightgbm0 = f1_micro_lightgbm0.mean()\n",
    "f1_micro_lightgbm0"
   ]
  },
  {
   "cell_type": "code",
   "execution_count": 31,
   "metadata": {},
   "outputs": [
    {
     "name": "stdout",
     "output_type": "stream",
     "text": [
      "adaboost0,\t f1_micro_score: 0.7181,\t Run time: 67.0\n",
      "gradientboost0,\t f1_micro_score: 0.7306,\t Run time: 856.0\n",
      "lightgbm0,\t f1_micro_score: 0.7351,\t Run time: 16.0\n"
     ]
    }
   ],
   "source": [
    "score_dict['lightgbm0'] = [f1_micro_lightgbm0, run_time_lightgbm0]\n",
    "print_scores()"
   ]
  },
  {
   "cell_type": "markdown",
   "metadata": {},
   "source": [
    "LightGBM not only improves the score, but at a fraction of a run time.  Given it's speed, this model should be a leading contender for the boosters.  Let's move on and try XGBoost."
   ]
  },
  {
   "cell_type": "markdown",
   "metadata": {},
   "source": [
    "### XGBoost"
   ]
  },
  {
   "cell_type": "code",
   "execution_count": 32,
   "metadata": {},
   "outputs": [],
   "source": [
    "XGBoost0_pipe = imbPipeline([\n",
    "    ('transformer', transformer),\n",
    "    ('xgboost', XGBClassifier(n_jobs=-1, random_state=42))\n",
    "])"
   ]
  },
  {
   "cell_type": "code",
   "execution_count": 33,
   "metadata": {},
   "outputs": [
    {
     "name": "stdout",
     "output_type": "stream",
     "text": [
      "Run time: 634.836617231369\n"
     ]
    }
   ],
   "source": [
    "start = time.time()\n",
    "f1_micro_XGBoost0 = cross_val_score(XGBoost0_pipe, X_train, y_train, scoring='f1_micro')\n",
    "end = time.time()\n",
    "print(f'Run time: {end-start}')\n",
    "run_time_XGBoost0 = end-start"
   ]
  },
  {
   "cell_type": "code",
   "execution_count": 34,
   "metadata": {},
   "outputs": [
    {
     "data": {
      "text/plain": [
       "0.7375236633410078"
      ]
     },
     "execution_count": 34,
     "metadata": {},
     "output_type": "execute_result"
    }
   ],
   "source": [
    "f1_micro_XGBoost0 = f1_micro_XGBoost0.mean()\n",
    "f1_micro_XGBoost0"
   ]
  },
  {
   "cell_type": "code",
   "execution_count": 35,
   "metadata": {},
   "outputs": [
    {
     "name": "stdout",
     "output_type": "stream",
     "text": [
      "adaboost0,\t f1_micro_score: 0.7181,\t Run time: 67.0\n",
      "gradientboost0,\t f1_micro_score: 0.7306,\t Run time: 856.0\n",
      "lightgbm0,\t f1_micro_score: 0.7351,\t Run time: 16.0\n",
      "XGBoost0,\t f1_micro_score: 0.7375,\t Run time: 635.0\n"
     ]
    }
   ],
   "source": [
    "score_dict['XGBoost0'] = [f1_micro_XGBoost0, run_time_XGBoost0]\n",
    "print_scores()"
   ]
  },
  {
   "cell_type": "markdown",
   "metadata": {},
   "source": [
    "XGBoost has the best score, though at a significant run time disadvantage over LightGBM.  Due to the relative closeness of the scores, and a runtime that's < 3% of XGBoost, I'm going to consider LightGBM the best model and move on to tuning.  "
   ]
  },
  {
   "cell_type": "markdown",
   "metadata": {},
   "source": [
    "### GridSearchCV LightGBM"
   ]
  },
  {
   "cell_type": "code",
   "execution_count": 65,
   "metadata": {},
   "outputs": [
    {
     "name": "stdout",
     "output_type": "stream",
     "text": [
      "Fitting 3 folds for each of 9 candidates, totalling 27 fits\n"
     ]
    },
    {
     "name": "stderr",
     "output_type": "stream",
     "text": [
      "[Parallel(n_jobs=-1)]: Using backend LokyBackend with 4 concurrent workers.\n",
      "[Parallel(n_jobs=-1)]: Done  27 out of  27 | elapsed:  5.5min finished\n"
     ]
    },
    {
     "name": "stdout",
     "output_type": "stream",
     "text": [
      "[LightGBM] [Warning] min_data_in_leaf is set=100, min_child_samples=20 will be ignored. Current value: min_data_in_leaf=100\n",
      "Run time: 339.78491473197937\n"
     ]
    }
   ],
   "source": [
    "start = time.time()\n",
    "lightgbm_param_grid = {'lightgbm__num_leaves': [200],\n",
    "                      'lightgbm__min_data_in_leaf': [100],\n",
    "                      'lightgbm__learning_rate': [.001, .01, .1],\n",
    "                      'lightgbm__num_iterations': [100, 200, 300]}\n",
    "\n",
    "lightgbm_gs = GridSearchCV(estimator=lightgbm0_pipe, param_grid=lightgbm_param_grid, \n",
    "                          scoring='f1_micro', cv=3, n_jobs=-1, verbose=2)\n",
    "lightgbm_gs.fit(X_train, y_train)\n",
    "end = time.time()\n",
    "print(f'Run time: {end-start}')"
   ]
  },
  {
   "cell_type": "code",
   "execution_count": 66,
   "metadata": {},
   "outputs": [
    {
     "data": {
      "text/plain": [
       "{'lightgbm__learning_rate': 0.1,\n",
       " 'lightgbm__min_data_in_leaf': 100,\n",
       " 'lightgbm__num_iterations': 200,\n",
       " 'lightgbm__num_leaves': 200}"
      ]
     },
     "execution_count": 66,
     "metadata": {},
     "output_type": "execute_result"
    }
   ],
   "source": [
    "lightgbm_gs.best_params_"
   ]
  },
  {
   "cell_type": "code",
   "execution_count": 67,
   "metadata": {},
   "outputs": [
    {
     "data": {
      "text/plain": [
       "0.7374469173701713"
      ]
     },
     "execution_count": 67,
     "metadata": {},
     "output_type": "execute_result"
    }
   ],
   "source": [
    "lightgbm_gs.best_score_"
   ]
  },
  {
   "cell_type": "markdown",
   "metadata": {},
   "source": [
    "### Checking the best model's performance on the test set"
   ]
  },
  {
   "cell_type": "code",
   "execution_count": 68,
   "metadata": {},
   "outputs": [
    {
     "data": {
      "text/plain": [
       "0.7463124127027981"
      ]
     },
     "execution_count": 68,
     "metadata": {},
     "output_type": "execute_result"
    }
   ],
   "source": [
    "lightgbm_gs_preds = lightgbm_gs.predict(X_test)\n",
    "lightgbm_gs_test_score = f1_score(y_test, lightgbm_gs_preds, average='micro')\n",
    "lightgbm_gs_test_score"
   ]
  },
  {
   "cell_type": "markdown",
   "metadata": {},
   "source": [
    "### Plot confusion matrix and check model's target accuracies"
   ]
  },
  {
   "cell_type": "code",
   "execution_count": 70,
   "metadata": {
    "scrolled": true
   },
   "outputs": [
    {
     "data": {
      "image/png": "[encoded data removed]",
      "text/plain": [
       "<Figure size 432x288 with 2 Axes>"
      ]
     },
     "metadata": {
      "needs_background": "light"
     },
     "output_type": "display_data"
    }
   ],
   "source": [
    "plot_confusion_matrix(lightgbm_gs, X_test, y_test);"
   ]
  },
  {
   "cell_type": "code",
   "execution_count": 71,
   "metadata": {},
   "outputs": [
    {
     "name": "stdout",
     "output_type": "stream",
     "text": [
      "The model correctly predicts 55.5% of low damage.\n",
      "The model correctly predicts 83.62% of medium damage.\n",
      "The model correctly predicts 64.87% of complete destruction.\n"
     ]
    }
   ],
   "source": [
    "cm = confusion_matrix(y_test, lightgbm_gs_preds)\n",
    "low_damage = cm[0][0] / (cm[0][0] + cm[0][1] + cm[0][2])\n",
    "medium_damage = cm[1][1] / (cm[1][0] + cm[1][1] + cm[1][2])\n",
    "complete_destruction = cm[2][2] / (cm[2][0] + cm[2][1] + cm[2][2])\n",
    "print(f'The model correctly predicts {round(low_damage*100, 2)}% of low damage.')\n",
    "print(f'The model correctly predicts {round(medium_damage*100, 2)}% of medium damage.')\n",
    "print(f'The model correctly predicts {round(complete_destruction*100, 2)}% of complete destruction.')"
   ]
  },
  {
   "cell_type": "markdown",
   "metadata": {},
   "source": [
    "### Export the model"
   ]
  },
  {
   "cell_type": "code",
   "execution_count": 69,
   "metadata": {},
   "outputs": [],
   "source": [
    "#with open ('../Models/lightgbm_gs.pickle', 'wb') as f:\n",
    "#    pickle.dump(lightgbm_gs, f, pickle.HIGHEST_PROTOCOL)"
   ]
  }
 ],
 "metadata": {
  "kernelspec": {
   "display_name": "Python (learn-env)",
   "language": "python",
   "name": "learn-env"
  },
  "language_info": {
   "codemirror_mode": {
    "name": "ipython",
    "version": 3
   },
   "file_extension": ".py",
   "mimetype": "text/x-python",
   "name": "python",
   "nbconvert_exporter": "python",
   "pygments_lexer": "ipython3",
   "version": "3.8.5"
  }
 },
 "nbformat": 4,
 "nbformat_minor": 4
}
